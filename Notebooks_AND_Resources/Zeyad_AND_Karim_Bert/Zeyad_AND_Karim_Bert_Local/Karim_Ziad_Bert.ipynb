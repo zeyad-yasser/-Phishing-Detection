{
  "cells": [
    {
      "cell_type": "code",
      "execution_count": 1,
      "metadata": {
        "colab": {
          "base_uri": "https://localhost:8080/",
          "height": 1000
        },
        "id": "gc3qid1SBLJD",
        "outputId": "e18977f9-dedf-4c87-dacb-abcdae4a27bb"
      },
      "outputs": [
        {
          "name": "stdout",
          "output_type": "stream",
          "text": [
            "Requirement already satisfied: tensorflow-text in c:\\users\\pc\\anaconda3\\envs\\tf\\lib\\site-packages (2.10.0)\n",
            "Requirement already satisfied: tensorflow-hub>=0.8.0 in c:\\users\\pc\\anaconda3\\envs\\tf\\lib\\site-packages (from tensorflow-text) (0.16.1)\n",
            "Requirement already satisfied: tensorflow<2.11,>=2.10.0 in c:\\users\\pc\\anaconda3\\envs\\tf\\lib\\site-packages (from tensorflow-text) (2.10.1)\n",
            "Requirement already satisfied: absl-py>=1.0.0 in c:\\users\\pc\\anaconda3\\envs\\tf\\lib\\site-packages (from tensorflow<2.11,>=2.10.0->tensorflow-text) (2.1.0)\n",
            "Requirement already satisfied: astunparse>=1.6.0 in c:\\users\\pc\\anaconda3\\envs\\tf\\lib\\site-packages (from tensorflow<2.11,>=2.10.0->tensorflow-text) (1.6.3)\n",
            "Requirement already satisfied: flatbuffers>=2.0 in c:\\users\\pc\\anaconda3\\envs\\tf\\lib\\site-packages (from tensorflow<2.11,>=2.10.0->tensorflow-text) (24.3.7)\n",
            "Requirement already satisfied: gast<=0.4.0,>=0.2.1 in c:\\users\\pc\\anaconda3\\envs\\tf\\lib\\site-packages (from tensorflow<2.11,>=2.10.0->tensorflow-text) (0.4.0)\n",
            "Requirement already satisfied: google-pasta>=0.1.1 in c:\\users\\pc\\anaconda3\\envs\\tf\\lib\\site-packages (from tensorflow<2.11,>=2.10.0->tensorflow-text) (0.2.0)\n",
            "Requirement already satisfied: h5py>=2.9.0 in c:\\users\\pc\\anaconda3\\envs\\tf\\lib\\site-packages (from tensorflow<2.11,>=2.10.0->tensorflow-text) (3.10.0)\n",
            "Requirement already satisfied: keras-preprocessing>=1.1.1 in c:\\users\\pc\\anaconda3\\envs\\tf\\lib\\site-packages (from tensorflow<2.11,>=2.10.0->tensorflow-text) (1.1.2)\n",
            "Requirement already satisfied: libclang>=13.0.0 in c:\\users\\pc\\anaconda3\\envs\\tf\\lib\\site-packages (from tensorflow<2.11,>=2.10.0->tensorflow-text) (16.0.6)\n",
            "Requirement already satisfied: numpy>=1.20 in c:\\users\\pc\\anaconda3\\envs\\tf\\lib\\site-packages (from tensorflow<2.11,>=2.10.0->tensorflow-text) (1.26.4)\n",
            "Requirement already satisfied: opt-einsum>=2.3.2 in c:\\users\\pc\\anaconda3\\envs\\tf\\lib\\site-packages (from tensorflow<2.11,>=2.10.0->tensorflow-text) (3.3.0)\n",
            "Requirement already satisfied: packaging in c:\\users\\pc\\anaconda3\\envs\\tf\\lib\\site-packages (from tensorflow<2.11,>=2.10.0->tensorflow-text) (24.0)\n",
            "Requirement already satisfied: protobuf<3.20,>=3.9.2 in c:\\users\\pc\\anaconda3\\envs\\tf\\lib\\site-packages (from tensorflow<2.11,>=2.10.0->tensorflow-text) (3.19.6)\n",
            "Requirement already satisfied: setuptools in c:\\users\\pc\\anaconda3\\envs\\tf\\lib\\site-packages (from tensorflow<2.11,>=2.10.0->tensorflow-text) (69.2.0)\n",
            "Requirement already satisfied: six>=1.12.0 in c:\\users\\pc\\anaconda3\\envs\\tf\\lib\\site-packages (from tensorflow<2.11,>=2.10.0->tensorflow-text) (1.16.0)\n",
            "Requirement already satisfied: termcolor>=1.1.0 in c:\\users\\pc\\anaconda3\\envs\\tf\\lib\\site-packages (from tensorflow<2.11,>=2.10.0->tensorflow-text) (2.4.0)\n",
            "Requirement already satisfied: typing-extensions>=3.6.6 in c:\\users\\pc\\anaconda3\\envs\\tf\\lib\\site-packages (from tensorflow<2.11,>=2.10.0->tensorflow-text) (4.10.0)\n",
            "Requirement already satisfied: wrapt>=1.11.0 in c:\\users\\pc\\anaconda3\\envs\\tf\\lib\\site-packages (from tensorflow<2.11,>=2.10.0->tensorflow-text) (1.16.0)\n",
            "Requirement already satisfied: tensorflow-io-gcs-filesystem>=0.23.1 in c:\\users\\pc\\anaconda3\\envs\\tf\\lib\\site-packages (from tensorflow<2.11,>=2.10.0->tensorflow-text) (0.31.0)\n",
            "Requirement already satisfied: grpcio<2.0,>=1.24.3 in c:\\users\\pc\\anaconda3\\envs\\tf\\lib\\site-packages (from tensorflow<2.11,>=2.10.0->tensorflow-text) (1.62.1)\n",
            "Requirement already satisfied: tensorboard<2.11,>=2.10 in c:\\users\\pc\\anaconda3\\envs\\tf\\lib\\site-packages (from tensorflow<2.11,>=2.10.0->tensorflow-text) (2.10.1)\n",
            "Requirement already satisfied: tensorflow-estimator<2.11,>=2.10.0 in c:\\users\\pc\\anaconda3\\envs\\tf\\lib\\site-packages (from tensorflow<2.11,>=2.10.0->tensorflow-text) (2.10.0)\n",
            "Requirement already satisfied: keras<2.11,>=2.10.0 in c:\\users\\pc\\anaconda3\\envs\\tf\\lib\\site-packages (from tensorflow<2.11,>=2.10.0->tensorflow-text) (2.10.0)\n",
            "Requirement already satisfied: tf-keras>=2.14.1 in c:\\users\\pc\\anaconda3\\envs\\tf\\lib\\site-packages (from tensorflow-hub>=0.8.0->tensorflow-text) (2.15.0)\n",
            "Requirement already satisfied: wheel<1.0,>=0.23.0 in c:\\users\\pc\\anaconda3\\envs\\tf\\lib\\site-packages (from astunparse>=1.6.0->tensorflow<2.11,>=2.10.0->tensorflow-text) (0.42.0)\n",
            "Requirement already satisfied: google-auth<3,>=1.6.3 in c:\\users\\pc\\anaconda3\\envs\\tf\\lib\\site-packages (from tensorboard<2.11,>=2.10->tensorflow<2.11,>=2.10.0->tensorflow-text) (2.28.2)\n",
            "Requirement already satisfied: google-auth-oauthlib<0.5,>=0.4.1 in c:\\users\\pc\\anaconda3\\envs\\tf\\lib\\site-packages (from tensorboard<2.11,>=2.10->tensorflow<2.11,>=2.10.0->tensorflow-text) (0.4.6)\n",
            "Requirement already satisfied: markdown>=2.6.8 in c:\\users\\pc\\anaconda3\\envs\\tf\\lib\\site-packages (from tensorboard<2.11,>=2.10->tensorflow<2.11,>=2.10.0->tensorflow-text) (3.6)\n",
            "Requirement already satisfied: requests<3,>=2.21.0 in c:\\users\\pc\\anaconda3\\envs\\tf\\lib\\site-packages (from tensorboard<2.11,>=2.10->tensorflow<2.11,>=2.10.0->tensorflow-text) (2.31.0)\n",
            "Requirement already satisfied: tensorboard-data-server<0.7.0,>=0.6.0 in c:\\users\\pc\\anaconda3\\envs\\tf\\lib\\site-packages (from tensorboard<2.11,>=2.10->tensorflow<2.11,>=2.10.0->tensorflow-text) (0.6.1)\n",
            "Requirement already satisfied: tensorboard-plugin-wit>=1.6.0 in c:\\users\\pc\\anaconda3\\envs\\tf\\lib\\site-packages (from tensorboard<2.11,>=2.10->tensorflow<2.11,>=2.10.0->tensorflow-text) (1.8.1)\n",
            "Requirement already satisfied: werkzeug>=1.0.1 in c:\\users\\pc\\anaconda3\\envs\\tf\\lib\\site-packages (from tensorboard<2.11,>=2.10->tensorflow<2.11,>=2.10.0->tensorflow-text) (3.0.1)\n",
            "Requirement already satisfied: cachetools<6.0,>=2.0.0 in c:\\users\\pc\\anaconda3\\envs\\tf\\lib\\site-packages (from google-auth<3,>=1.6.3->tensorboard<2.11,>=2.10->tensorflow<2.11,>=2.10.0->tensorflow-text) (5.3.3)\n",
            "Requirement already satisfied: pyasn1-modules>=0.2.1 in c:\\users\\pc\\anaconda3\\envs\\tf\\lib\\site-packages (from google-auth<3,>=1.6.3->tensorboard<2.11,>=2.10->tensorflow<2.11,>=2.10.0->tensorflow-text) (0.3.0)\n",
            "Requirement already satisfied: rsa<5,>=3.1.4 in c:\\users\\pc\\anaconda3\\envs\\tf\\lib\\site-packages (from google-auth<3,>=1.6.3->tensorboard<2.11,>=2.10->tensorflow<2.11,>=2.10.0->tensorflow-text) (4.9)\n",
            "Requirement already satisfied: requests-oauthlib>=0.7.0 in c:\\users\\pc\\anaconda3\\envs\\tf\\lib\\site-packages (from google-auth-oauthlib<0.5,>=0.4.1->tensorboard<2.11,>=2.10->tensorflow<2.11,>=2.10.0->tensorflow-text) (1.4.0)\n",
            "Requirement already satisfied: importlib-metadata>=4.4 in c:\\users\\pc\\anaconda3\\envs\\tf\\lib\\site-packages (from markdown>=2.6.8->tensorboard<2.11,>=2.10->tensorflow<2.11,>=2.10.0->tensorflow-text) (7.0.2)\n",
            "Requirement already satisfied: charset-normalizer<4,>=2 in c:\\users\\pc\\anaconda3\\envs\\tf\\lib\\site-packages (from requests<3,>=2.21.0->tensorboard<2.11,>=2.10->tensorflow<2.11,>=2.10.0->tensorflow-text) (3.3.2)\n",
            "Requirement already satisfied: idna<4,>=2.5 in c:\\users\\pc\\anaconda3\\envs\\tf\\lib\\site-packages (from requests<3,>=2.21.0->tensorboard<2.11,>=2.10->tensorflow<2.11,>=2.10.0->tensorflow-text) (3.6)\n",
            "Requirement already satisfied: urllib3<3,>=1.21.1 in c:\\users\\pc\\anaconda3\\envs\\tf\\lib\\site-packages (from requests<3,>=2.21.0->tensorboard<2.11,>=2.10->tensorflow<2.11,>=2.10.0->tensorflow-text) (2.2.1)\n",
            "Requirement already satisfied: certifi>=2017.4.17 in c:\\users\\pc\\anaconda3\\envs\\tf\\lib\\site-packages (from requests<3,>=2.21.0->tensorboard<2.11,>=2.10->tensorflow<2.11,>=2.10.0->tensorflow-text) (2024.2.2)\n",
            "Requirement already satisfied: MarkupSafe>=2.1.1 in c:\\users\\pc\\anaconda3\\envs\\tf\\lib\\site-packages (from werkzeug>=1.0.1->tensorboard<2.11,>=2.10->tensorflow<2.11,>=2.10.0->tensorflow-text) (2.1.5)\n",
            "Requirement already satisfied: zipp>=0.5 in c:\\users\\pc\\anaconda3\\envs\\tf\\lib\\site-packages (from importlib-metadata>=4.4->markdown>=2.6.8->tensorboard<2.11,>=2.10->tensorflow<2.11,>=2.10.0->tensorflow-text) (3.17.0)\n",
            "Requirement already satisfied: pyasn1<0.6.0,>=0.4.6 in c:\\users\\pc\\anaconda3\\envs\\tf\\lib\\site-packages (from pyasn1-modules>=0.2.1->google-auth<3,>=1.6.3->tensorboard<2.11,>=2.10->tensorflow<2.11,>=2.10.0->tensorflow-text) (0.5.1)\n",
            "Requirement already satisfied: oauthlib>=3.0.0 in c:\\users\\pc\\anaconda3\\envs\\tf\\lib\\site-packages (from requests-oauthlib>=0.7.0->google-auth-oauthlib<0.5,>=0.4.1->tensorboard<2.11,>=2.10->tensorflow<2.11,>=2.10.0->tensorflow-text) (3.2.2)\n",
            "Requirement already satisfied: tensorflow-hub in c:\\users\\pc\\anaconda3\\envs\\tf\\lib\\site-packages (0.16.1)\n",
            "Requirement already satisfied: numpy>=1.12.0 in c:\\users\\pc\\anaconda3\\envs\\tf\\lib\\site-packages (from tensorflow-hub) (1.26.4)\n",
            "Requirement already satisfied: protobuf>=3.19.6 in c:\\users\\pc\\anaconda3\\envs\\tf\\lib\\site-packages (from tensorflow-hub) (3.19.6)\n",
            "Requirement already satisfied: tf-keras>=2.14.1 in c:\\users\\pc\\anaconda3\\envs\\tf\\lib\\site-packages (from tensorflow-hub) (2.15.0)\n",
            "Requirement already satisfied: pandas in c:\\users\\pc\\anaconda3\\envs\\tf\\lib\\site-packages (2.2.1)\n",
            "Requirement already satisfied: numpy<2,>=1.22.4 in c:\\users\\pc\\anaconda3\\envs\\tf\\lib\\site-packages (from pandas) (1.26.4)\n",
            "Requirement already satisfied: python-dateutil>=2.8.2 in c:\\users\\pc\\anaconda3\\envs\\tf\\lib\\site-packages (from pandas) (2.9.0)\n",
            "Requirement already satisfied: pytz>=2020.1 in c:\\users\\pc\\anaconda3\\envs\\tf\\lib\\site-packages (from pandas) (2024.1)\n",
            "Requirement already satisfied: tzdata>=2022.7 in c:\\users\\pc\\anaconda3\\envs\\tf\\lib\\site-packages (from pandas) (2024.1)\n",
            "Requirement already satisfied: six>=1.5 in c:\\users\\pc\\anaconda3\\envs\\tf\\lib\\site-packages (from python-dateutil>=2.8.2->pandas) (1.16.0)\n",
            "Requirement already satisfied: scikit-learn in c:\\users\\pc\\anaconda3\\envs\\tf\\lib\\site-packages (1.4.1.post1)\n",
            "Requirement already satisfied: numpy<2.0,>=1.19.5 in c:\\users\\pc\\anaconda3\\envs\\tf\\lib\\site-packages (from scikit-learn) (1.26.4)\n",
            "Requirement already satisfied: scipy>=1.6.0 in c:\\users\\pc\\anaconda3\\envs\\tf\\lib\\site-packages (from scikit-learn) (1.12.0)\n",
            "Requirement already satisfied: joblib>=1.2.0 in c:\\users\\pc\\anaconda3\\envs\\tf\\lib\\site-packages (from scikit-learn) (1.3.2)\n",
            "Requirement already satisfied: threadpoolctl>=2.0.0 in c:\\users\\pc\\anaconda3\\envs\\tf\\lib\\site-packages (from scikit-learn) (3.3.0)\n"
          ]
        }
      ],
      "source": [
        "!pip install tensorflow-text\n",
        "!pip install tensorflow-hub\n",
        "!pip install pandas\n",
        "!pip install scikit-learn\n",
        "import tensorflow as tf\n",
        "import tensorflow_hub as hub\n",
        "import tensorflow_text\n",
        "import pandas as pd\n"
      ]
    },
    {
      "cell_type": "code",
      "execution_count": 2,
      "metadata": {
        "colab": {
          "base_uri": "https://localhost:8080/",
          "height": 423
        },
        "id": "gW66oMfIf-y_",
        "outputId": "24f11785-1190-420a-8225-25413cd1ad46"
      },
      "outputs": [
        {
          "data": {
            "text/html": [
              "<div>\n",
              "<style scoped>\n",
              "    .dataframe tbody tr th:only-of-type {\n",
              "        vertical-align: middle;\n",
              "    }\n",
              "\n",
              "    .dataframe tbody tr th {\n",
              "        vertical-align: top;\n",
              "    }\n",
              "\n",
              "    .dataframe thead th {\n",
              "        text-align: right;\n",
              "    }\n",
              "</style>\n",
              "<table border=\"1\" class=\"dataframe\">\n",
              "  <thead>\n",
              "    <tr style=\"text-align: right;\">\n",
              "      <th></th>\n",
              "      <th>Unnamed: 0</th>\n",
              "      <th>body</th>\n",
              "      <th>class</th>\n",
              "    </tr>\n",
              "  </thead>\n",
              "  <tbody>\n",
              "    <tr>\n",
              "      <th>0</th>\n",
              "      <td>10195</td>\n",
              "      <td>use Perl Daily Headline MailerDynDNS.org Offer...</td>\n",
              "      <td>Safe Email</td>\n",
              "    </tr>\n",
              "    <tr>\n",
              "      <th>1</th>\n",
              "      <td>8911</td>\n",
              "      <td>conference on catalan studies ( linguistic sec...</td>\n",
              "      <td>Safe Email</td>\n",
              "    </tr>\n",
              "    <tr>\n",
              "      <th>2</th>\n",
              "      <td>3284</td>\n",
              "      <td>re : transwestern weekly report lindy - we rec...</td>\n",
              "      <td>Safe Email</td>\n",
              "    </tr>\n",
              "    <tr>\n",
              "      <th>3</th>\n",
              "      <td>4432</td>\n",
              "      <td>sum : dets and number about a month ago , i po...</td>\n",
              "      <td>Safe Email</td>\n",
              "    </tr>\n",
              "    <tr>\n",
              "      <th>4</th>\n",
              "      <td>10211</td>\n",
              "      <td>Mike Masnick wrote:\\n&gt;Why is it that people do...</td>\n",
              "      <td>Safe Email</td>\n",
              "    </tr>\n",
              "    <tr>\n",
              "      <th>...</th>\n",
              "      <td>...</td>\n",
              "      <td>...</td>\n",
              "      <td>...</td>\n",
              "    </tr>\n",
              "    <tr>\n",
              "      <th>3182</th>\n",
              "      <td>708</td>\n",
              "      <td>high frequency market data analysis stinson , ...</td>\n",
              "      <td>Safe Email</td>\n",
              "    </tr>\n",
              "    <tr>\n",
              "      <th>3183</th>\n",
              "      <td>1154</td>\n",
              "      <td>fw : mark boland - cv vince : tony vasut , ano...</td>\n",
              "      <td>Safe Email</td>\n",
              "    </tr>\n",
              "    <tr>\n",
              "      <th>3184</th>\n",
              "      <td>2464</td>\n",
              "      <td>re : meter 0980438 - acock production ? ? ? ? ...</td>\n",
              "      <td>Safe Email</td>\n",
              "    </tr>\n",
              "    <tr>\n",
              "      <th>3185</th>\n",
              "      <td>2804</td>\n",
              "      <td>[Barry]\\n&gt; Here's an interesting thing to test...</td>\n",
              "      <td>Safe Email</td>\n",
              "    </tr>\n",
              "    <tr>\n",
              "      <th>3186</th>\n",
              "      <td>8971</td>\n",
              "      <td>Greetings from Geocaching.com -\\nRecent caches...</td>\n",
              "      <td>Safe Email</td>\n",
              "    </tr>\n",
              "  </tbody>\n",
              "</table>\n",
              "<p>3187 rows × 3 columns</p>\n",
              "</div>"
            ],
            "text/plain": [
              "      Unnamed: 0                                               body  \\\n",
              "0          10195  use Perl Daily Headline MailerDynDNS.org Offer...   \n",
              "1           8911  conference on catalan studies ( linguistic sec...   \n",
              "2           3284  re : transwestern weekly report lindy - we rec...   \n",
              "3           4432  sum : dets and number about a month ago , i po...   \n",
              "4          10211  Mike Masnick wrote:\\n>Why is it that people do...   \n",
              "...          ...                                                ...   \n",
              "3182         708  high frequency market data analysis stinson , ...   \n",
              "3183        1154  fw : mark boland - cv vince : tony vasut , ano...   \n",
              "3184        2464  re : meter 0980438 - acock production ? ? ? ? ...   \n",
              "3185        2804  [Barry]\\n> Here's an interesting thing to test...   \n",
              "3186        8971  Greetings from Geocaching.com -\\nRecent caches...   \n",
              "\n",
              "           class  \n",
              "0     Safe Email  \n",
              "1     Safe Email  \n",
              "2     Safe Email  \n",
              "3     Safe Email  \n",
              "4     Safe Email  \n",
              "...          ...  \n",
              "3182  Safe Email  \n",
              "3183  Safe Email  \n",
              "3184  Safe Email  \n",
              "3185  Safe Email  \n",
              "3186  Safe Email  \n",
              "\n",
              "[3187 rows x 3 columns]"
            ]
          },
          "execution_count": 2,
          "metadata": {},
          "output_type": "execute_result"
        }
      ],
      "source": [
        "import pandas as pd\n",
        "import math as m\n",
        "import tensorflow as tf\n",
        "import tensorflow_hub as hub\n",
        "import tensorflow_text\n",
        "\n",
        "pd.read_csv('safedownsampled.csv')"
      ]
    },
    {
      "cell_type": "markdown",
      "metadata": {
        "id": "JVsYhFgwBfEq"
      },
      "source": [
        "### **After Down sampling the \"big safe emails\" to 3k safe email to be balanced with phishing**"
      ]
    },
    {
      "cell_type": "code",
      "execution_count": 3,
      "metadata": {
        "colab": {
          "base_uri": "https://localhost:8080/"
        },
        "id": "uefY8sDXBgqC",
        "outputId": "9ae9daa0-0fde-49f7-e2f9-e8398d621cab"
      },
      "outputs": [
        {
          "name": "stdout",
          "output_type": "stream",
          "text": [
            "                                                   body     class\n",
            "0     eBay Suspension\\neBay Suspension\\nNeed Help?\\n...  phishing\n",
            "1     Dear LaSalle Member,\\nAs part of our continuin...  phishing\n",
            "2       But I don't Pokemon in 1878 in 1874 Shall we...  phishing\n",
            "3     Dear eBay member,\\nDear eBay user,\\nDuring our...  phishing\n",
            "4     Dear valued customer\\nNeed Help?\\nWe regret to...  phishing\n",
            "...                                                 ...       ...\n",
            "3182  Dear NAFCU member,\\nAs part of our security me...  phishing\n",
            "3183  lay flog, me zing sell, net sick burr macepay ...  phishing\n",
            "3184  eBay\\nBilling \\n          confirmation center\\...  phishing\n",
            "3185  Dear Valued Customer\\nWe are committed to prot...  phishing\n",
            "3186  National Credit Union Administration  Notifica...  phishing\n",
            "\n",
            "[3187 rows x 2 columns]                                                    body       class\n",
            "0     use Perl Daily Headline MailerDynDNS.org Offer...  Safe Email\n",
            "1     conference on catalan studies ( linguistic sec...  Safe Email\n",
            "2     re : transwestern weekly report lindy - we rec...  Safe Email\n",
            "3     sum : dets and number about a month ago , i po...  Safe Email\n",
            "4     Mike Masnick wrote:\\n>Why is it that people do...  Safe Email\n",
            "...                                                 ...         ...\n",
            "3182  high frequency market data analysis stinson , ...  Safe Email\n",
            "3183  fw : mark boland - cv vince : tony vasut , ano...  Safe Email\n",
            "3184  re : meter 0980438 - acock production ? ? ? ? ...  Safe Email\n",
            "3185  [Barry]\\n> Here's an interesting thing to test...  Safe Email\n",
            "3186  Greetings from Geocaching.com -\\nRecent caches...  Safe Email\n",
            "\n",
            "[3118 rows x 2 columns]\n",
            "(6305, 2)\n",
            "Safe 3118\n",
            "Phishing 3187\n"
          ]
        }
      ],
      "source": [
        "\n",
        "import pandas as pd\n",
        "\n",
        "df_ph = pd.read_csv('body_and_class.csv')\n",
        "df_safe = pd.read_csv('safe_downsampled.csv')\n",
        "\n",
        "df_ph = df_ph.drop('Unnamed: 0', axis=1, errors='ignore')\n",
        "df_ph= df_ph.drop_duplicates()\n",
        "\n",
        "df_safe = df_safe.drop('Unnamed: 0', axis=1, errors='ignore')\n",
        "df_safe = df_safe.drop_duplicates()\n",
        "\n",
        "print(df_ph, df_safe)\n",
        "\n",
        "df_balanced = pd.concat([df_safe,df_ph])\n",
        "\n",
        "\n",
        "print(df_balanced.shape)\n",
        "df_balanced = df_balanced.sample(frac=1, random_state=42)\n",
        "\n",
        "df_balanced.groupby('class').describe()\n",
        "\n",
        "print(\"Safe\",len(df_safe))\n",
        "print(\"Phishing\",len(df_ph))"
      ]
    },
    {
      "cell_type": "code",
      "execution_count": 4,
      "metadata": {
        "colab": {
          "base_uri": "https://localhost:8080/"
        },
        "id": "RClLiTYLC_4X",
        "outputId": "9ba2fa79-706f-4aac-cd59-990ae935d232"
      },
      "outputs": [
        {
          "name": "stdout",
          "output_type": "stream",
          "text": [
            "3300\n"
          ]
        }
      ],
      "source": [
        "\n",
        "df_ph = df_balanced[df_balanced['class'] == 'phishing']\n",
        "df_safe = df_balanced[df_balanced['class'] == 'Safe Email']\n",
        "from sklearn.utils import resample\n",
        "df_ph_downsampled = resample(df_ph, replace=False, n_samples=1300, random_state=42)\n",
        "df_safe_downsampled = resample(df_safe, replace=False, n_samples=2000, random_state=42)\n",
        "\n",
        "df_downsampled = pd.concat([df_ph_downsampled, df_safe_downsampled])\n",
        "\n",
        "df_downsampled = df_downsampled.sample(frac=1, random_state=42)\n",
        "print(len(df_downsampled))"
      ]
    },
    {
      "cell_type": "markdown",
      "metadata": {
        "id": "oKvZZCvYIekn"
      },
      "source": [
        "### **50% Phishing 50% Safe emails:**"
      ]
    },
    {
      "cell_type": "markdown",
      "metadata": {
        "id": "oppgiWyIIyH7"
      },
      "source": [
        "### Map:  Phishing => 1 . Safe => 0\n",
        "\n",
        "\n"
      ]
    },
    {
      "cell_type": "code",
      "execution_count": 5,
      "metadata": {
        "colab": {
          "base_uri": "https://localhost:8080/",
          "height": 206
        },
        "id": "bQ8FwbraIfMp",
        "outputId": "43e2b17c-a398-4e6b-a009-a110ee1d9c04"
      },
      "outputs": [
        {
          "data": {
            "text/html": [
              "<div>\n",
              "<style scoped>\n",
              "    .dataframe tbody tr th:only-of-type {\n",
              "        vertical-align: middle;\n",
              "    }\n",
              "\n",
              "    .dataframe tbody tr th {\n",
              "        vertical-align: top;\n",
              "    }\n",
              "\n",
              "    .dataframe thead th {\n",
              "        text-align: right;\n",
              "    }\n",
              "</style>\n",
              "<table border=\"1\" class=\"dataframe\">\n",
              "  <thead>\n",
              "    <tr style=\"text-align: right;\">\n",
              "      <th></th>\n",
              "      <th>body</th>\n",
              "      <th>class</th>\n",
              "      <th>phishing</th>\n",
              "    </tr>\n",
              "  </thead>\n",
              "  <tbody>\n",
              "    <tr>\n",
              "      <th>509</th>\n",
              "      <td>\\nTo ensure delivery to your inbox, please ad...</td>\n",
              "      <td>phishing</td>\n",
              "      <td>1</td>\n",
              "    </tr>\n",
              "    <tr>\n",
              "      <th>1630</th>\n",
              "      <td>\\r\\n\\r\\nFrom: ÐÐ°ÐºÐµÐµÐ² Ð¡ÐµÑÐ³ÐµÐ¹ ÐÑÑ...</td>\n",
              "      <td>phishing</td>\n",
              "      <td>1</td>\n",
              "    </tr>\n",
              "    <tr>\n",
              "      <th>2633</th>\n",
              "      <td>Security Center Advisory!\\nWe recently noticed...</td>\n",
              "      <td>phishing</td>\n",
              "      <td>1</td>\n",
              "    </tr>\n",
              "    <tr>\n",
              "      <th>76</th>\n",
              "      <td>re : cornhusker i meant to copy you guys on th...</td>\n",
              "      <td>Safe Email</td>\n",
              "      <td>0</td>\n",
              "    </tr>\n",
              "    <tr>\n",
              "      <th>947</th>\n",
              "      <td>A new payee has been added to your Bill Pay se...</td>\n",
              "      <td>phishing</td>\n",
              "      <td>1</td>\n",
              "    </tr>\n",
              "  </tbody>\n",
              "</table>\n",
              "</div>"
            ],
            "text/plain": [
              "                                                   body       class  phishing\n",
              "509    \\nTo ensure delivery to your inbox, please ad...    phishing         1\n",
              "1630  \\r\\n\\r\\nFrom: ÐÐ°ÐºÐµÐµÐ² Ð¡ÐµÑÐ³ÐµÐ¹ ÐÑÑ...    phishing         1\n",
              "2633  Security Center Advisory!\\nWe recently noticed...    phishing         1\n",
              "76    re : cornhusker i meant to copy you guys on th...  Safe Email         0\n",
              "947   A new payee has been added to your Bill Pay se...    phishing         1"
            ]
          },
          "execution_count": 5,
          "metadata": {},
          "output_type": "execute_result"
        }
      ],
      "source": [
        "\n",
        "df_downsampled['phishing']=df_downsampled['class'].apply(lambda x: 1 if x =='phishing' else 0)\n",
        "df_downsampled.sample(5)\n"
      ]
    },
    {
      "cell_type": "markdown",
      "metadata": {
        "id": "CPs7bDKSJcMo"
      },
      "source": [
        "### **Split it into training and test data set**"
      ]
    },
    {
      "cell_type": "code",
      "execution_count": 6,
      "metadata": {
        "colab": {
          "base_uri": "https://localhost:8080/"
        },
        "id": "OFDgCk6iJe6S",
        "outputId": "956fcc5f-88ed-4e5e-b770-01078c63901a"
      },
      "outputs": [
        {
          "data": {
            "text/plain": [
              "1648    http://www.hughes-family.org/bugzilla/show_bug...\n",
              "1937    Well, it looks like Sun are going ahead with\\n...\n",
              "2040    associate and analyst program contacts associa...\n",
              "27      Update of /cvsroot/spamassassin/spamassassin/m...\n",
              "Name: body, dtype: object"
            ]
          },
          "execution_count": 6,
          "metadata": {},
          "output_type": "execute_result"
        }
      ],
      "source": [
        "from sklearn.model_selection import train_test_split\n",
        "\n",
        "X_train, X_test, y_train, y_test = train_test_split(df_downsampled['body'],df_downsampled['phishing'],\n",
        "                                                    stratify=df_downsampled['phishing'],random_state=42,test_size=0.3)\n",
        "\n",
        "X_train.head(4)"
      ]
    },
    {
      "cell_type": "markdown",
      "metadata": {
        "id": "MW18OCo2KN8_"
      },
      "source": [
        "\n",
        "### **Using BERT model and get embeding vectors**\n"
      ]
    },
    {
      "cell_type": "code",
      "execution_count": 7,
      "metadata": {
        "id": "WjzdN_tFKTSL"
      },
      "outputs": [],
      "source": [
        "bert_preprocess = hub.KerasLayer(\"https://tfhub.dev/tensorflow/bert_en_uncased_preprocess/3\")\n",
        "bert_encoder = hub.KerasLayer(\"https://tfhub.dev/tensorflow/bert_en_uncased_L-12_H-768_A-12/4\")"
      ]
    },
    {
      "cell_type": "code",
      "execution_count": 8,
      "metadata": {
        "colab": {
          "base_uri": "https://localhost:8080/"
        },
        "id": "EwsPps6j2SKf",
        "outputId": "364b35ee-7a2f-4585-fdd8-47fe28a80f13"
      },
      "outputs": [
        {
          "name": "stdout",
          "output_type": "stream",
          "text": [
            "Model: \"model\"\n",
            "__________________________________________________________________________________________________\n",
            " Layer (type)                   Output Shape         Param #     Connected to                     \n",
            "==================================================================================================\n",
            " text (InputLayer)              [(None,)]            0           []                               \n",
            "                                                                                                  \n",
            " keras_layer (KerasLayer)       {'input_word_ids':   0           ['text[0][0]']                   \n",
            "                                (None, 128),                                                      \n",
            "                                 'input_type_ids':                                                \n",
            "                                (None, 128),                                                      \n",
            "                                 'input_mask': (Non                                               \n",
            "                                e, 128)}                                                          \n",
            "                                                                                                  \n",
            " keras_layer_1 (KerasLayer)     {'sequence_output':  109482241   ['keras_layer[0][0]',            \n",
            "                                 (None, 128, 768),                'keras_layer[0][1]',            \n",
            "                                 'pooled_output': (               'keras_layer[0][2]']            \n",
            "                                None, 768),                                                       \n",
            "                                 'encoder_outputs':                                               \n",
            "                                 [(None, 128, 768),                                               \n",
            "                                 (None, 128, 768),                                                \n",
            "                                 (None, 128, 768),                                                \n",
            "                                 (None, 128, 768),                                                \n",
            "                                 (None, 128, 768),                                                \n",
            "                                 (None, 128, 768),                                                \n",
            "                                 (None, 128, 768),                                                \n",
            "                                 (None, 128, 768),                                                \n",
            "                                 (None, 128, 768),                                                \n",
            "                                 (None, 128, 768),                                                \n",
            "                                 (None, 128, 768),                                                \n",
            "                                 (None, 128, 768)],                                               \n",
            "                                 'default': (None,                                                \n",
            "                                768)}                                                             \n",
            "                                                                                                  \n",
            " dropout (Dropout)              (None, 768)          0           ['keras_layer_1[0][13]']         \n",
            "                                                                                                  \n",
            " output (Dense)                 (None, 1)            769         ['dropout[0][0]']                \n",
            "                                                                                                  \n",
            "==================================================================================================\n",
            "Total params: 109,483,010\n",
            "Trainable params: 769\n",
            "Non-trainable params: 109,482,241\n",
            "__________________________________________________________________________________________________\n",
            "None\n"
          ]
        }
      ],
      "source": [
        "text_input= tf.keras.layers.Input(shape=(), dtype=tf.string, name=\"text\")\n",
        "preprocessed_text= bert_preprocess(text_input)\n",
        "outputs= bert_encoder(preprocessed_text)\n",
        "\n",
        "dropout_layer = tf.keras.layers.Dropout(0.1, name=\"dropout\")(outputs['pooled_output'])\n",
        "dense_layer = tf.keras.layers.Dense(1, activation='sigmoid', name=\"output\")(dropout_layer)\n",
        "\n",
        "\n",
        "model = tf.keras.Model(inputs=[text_input], outputs = [dense_layer])\n",
        "print( model.summary() )"
      ]
    },
    {
      "cell_type": "code",
      "execution_count": 9,
      "metadata": {
        "colab": {
          "base_uri": "https://localhost:8080/"
        },
        "id": "khb43u4E-25I",
        "outputId": "265e3492-1a01-4dfc-ff64-532ddc15fcde"
      },
      "outputs": [
        {
          "data": {
            "text/plain": [
              "2310"
            ]
          },
          "execution_count": 9,
          "metadata": {},
          "output_type": "execute_result"
        }
      ],
      "source": [
        "len(X_train)"
      ]
    },
    {
      "cell_type": "code",
      "execution_count": 10,
      "metadata": {
        "id": "cuZnf-KYBSn6"
      },
      "outputs": [],
      "source": [
        "\n",
        "METRICS = [\n",
        "      tf.keras.metrics.BinaryAccuracy(name='accuracy'),\n",
        "      tf.keras.metrics.Precision(name='precision'),\n",
        "      tf.keras.metrics.Recall(name='recall')\n",
        "]\n",
        "\n",
        "model.compile(optimizer='adam',\n",
        "              loss='binary_crossentropy',\n",
        "              metrics=METRICS)\n",
        "\n"
      ]
    },
    {
      "cell_type": "markdown",
      "metadata": {
        "id": "X6VK-j4mBXCb"
      },
      "source": [
        "# **Model Train**"
      ]
    },
    {
      "cell_type": "code",
      "execution_count": 12,
      "metadata": {
        "colab": {
          "base_uri": "https://localhost:8080/"
        },
        "id": "Uq2C4qpBBa1m",
        "outputId": "e5e4e827-ae99-4c67-f05f-c8afcb336700"
      },
      "outputs": [
        {
          "name": "stdout",
          "output_type": "stream",
          "text": [
            "Collecting matplotlib\n",
            "  Using cached matplotlib-3.8.3-cp39-cp39-win_amd64.whl.metadata (5.9 kB)\n",
            "Collecting contourpy>=1.0.1 (from matplotlib)\n",
            "  Using cached contourpy-1.2.0-cp39-cp39-win_amd64.whl.metadata (5.8 kB)\n",
            "Collecting cycler>=0.10 (from matplotlib)\n",
            "  Using cached cycler-0.12.1-py3-none-any.whl.metadata (3.8 kB)\n",
            "Collecting fonttools>=4.22.0 (from matplotlib)\n",
            "  Downloading fonttools-4.50.0-cp39-cp39-win_amd64.whl.metadata (162 kB)\n",
            "     ---------------------------------------- 0.0/162.6 kB ? eta -:--:--\n",
            "     ---------------------------------------- 0.0/162.6 kB ? eta -:--:--\n",
            "     -- ------------------------------------- 10.2/162.6 kB ? eta -:--:--\n",
            "     -- ------------------------------------- 10.2/162.6 kB ? eta -:--:--\n",
            "     -- ------------------------------------- 10.2/162.6 kB ? eta -:--:--\n",
            "     ------ ------------------------------ 30.7/162.6 kB 163.8 kB/s eta 0:00:01\n",
            "     ------ ------------------------------ 30.7/162.6 kB 163.8 kB/s eta 0:00:01\n",
            "     ------ ------------------------------ 30.7/162.6 kB 163.8 kB/s eta 0:00:01\n",
            "     ------ ------------------------------ 30.7/162.6 kB 163.8 kB/s eta 0:00:01\n",
            "     ------ ------------------------------ 30.7/162.6 kB 163.8 kB/s eta 0:00:01\n",
            "     ------ ------------------------------ 30.7/162.6 kB 163.8 kB/s eta 0:00:01\n",
            "     ------ ------------------------------ 30.7/162.6 kB 163.8 kB/s eta 0:00:01\n",
            "     --------- ---------------------------- 41.0/162.6 kB 67.7 kB/s eta 0:00:02\n",
            "     --------- ---------------------------- 41.0/162.6 kB 67.7 kB/s eta 0:00:02\n",
            "     -------------- ----------------------- 61.4/162.6 kB 93.6 kB/s eta 0:00:02\n",
            "     -------------- ----------------------- 61.4/162.6 kB 93.6 kB/s eta 0:00:02\n",
            "     ------------------ ------------------ 81.9/162.6 kB 114.7 kB/s eta 0:00:01\n",
            "     -------------------- ---------------- 92.2/162.6 kB 121.9 kB/s eta 0:00:01\n",
            "     ------------------------ ----------- 112.6/162.6 kB 142.4 kB/s eta 0:00:01\n",
            "     ------------------------ ----------- 112.6/162.6 kB 142.4 kB/s eta 0:00:01\n",
            "     ------------------------ ----------- 112.6/162.6 kB 142.4 kB/s eta 0:00:01\n",
            "     --------------------------- -------- 122.9/162.6 kB 131.0 kB/s eta 0:00:01\n",
            "     ---------------------------------- - 153.6/162.6 kB 152.8 kB/s eta 0:00:01\n",
            "     ------------------------------------ 162.6/162.6 kB 162.4 kB/s eta 0:00:00\n",
            "Collecting kiwisolver>=1.3.1 (from matplotlib)\n",
            "  Using cached kiwisolver-1.4.5-cp39-cp39-win_amd64.whl.metadata (6.5 kB)\n",
            "Requirement already satisfied: numpy<2,>=1.21 in c:\\users\\pc\\anaconda3\\envs\\tf\\lib\\site-packages (from matplotlib) (1.26.4)\n",
            "Requirement already satisfied: packaging>=20.0 in c:\\users\\pc\\anaconda3\\envs\\tf\\lib\\site-packages (from matplotlib) (24.0)\n",
            "Collecting pillow>=8 (from matplotlib)\n",
            "  Using cached pillow-10.2.0-cp39-cp39-win_amd64.whl.metadata (9.9 kB)\n",
            "Collecting pyparsing>=2.3.1 (from matplotlib)\n",
            "  Using cached pyparsing-3.1.2-py3-none-any.whl.metadata (5.1 kB)\n",
            "Requirement already satisfied: python-dateutil>=2.7 in c:\\users\\pc\\anaconda3\\envs\\tf\\lib\\site-packages (from matplotlib) (2.9.0)\n",
            "Collecting importlib-resources>=3.2.0 (from matplotlib)\n",
            "  Using cached importlib_resources-6.3.0-py3-none-any.whl.metadata (3.9 kB)\n",
            "Requirement already satisfied: zipp>=3.1.0 in c:\\users\\pc\\anaconda3\\envs\\tf\\lib\\site-packages (from importlib-resources>=3.2.0->matplotlib) (3.17.0)\n",
            "Requirement already satisfied: six>=1.5 in c:\\users\\pc\\anaconda3\\envs\\tf\\lib\\site-packages (from python-dateutil>=2.7->matplotlib) (1.16.0)\n",
            "Using cached matplotlib-3.8.3-cp39-cp39-win_amd64.whl (7.6 MB)\n",
            "Using cached contourpy-1.2.0-cp39-cp39-win_amd64.whl (181 kB)\n",
            "Using cached cycler-0.12.1-py3-none-any.whl (8.3 kB)\n",
            "Downloading fonttools-4.50.0-cp39-cp39-win_amd64.whl (2.2 MB)\n",
            "   ---------------------------------------- 0.0/2.2 MB ? eta -:--:--\n",
            "   ---------------------------------------- 0.0/2.2 MB ? eta -:--:--\n",
            "   - -------------------------------------- 0.1/2.2 MB 2.0 MB/s eta 0:00:02\n",
            "   -- ------------------------------------- 0.2/2.2 MB 1.5 MB/s eta 0:00:02\n",
            "   --- ------------------------------------ 0.2/2.2 MB 1.4 MB/s eta 0:00:02\n",
            "   --- ------------------------------------ 0.2/2.2 MB 1.4 MB/s eta 0:00:02\n",
            "   --- ------------------------------------ 0.2/2.2 MB 1.4 MB/s eta 0:00:02\n",
            "   --- ------------------------------------ 0.2/2.2 MB 1.4 MB/s eta 0:00:02\n",
            "   --- ------------------------------------ 0.2/2.2 MB 1.4 MB/s eta 0:00:02\n",
            "   --- ------------------------------------ 0.2/2.2 MB 1.4 MB/s eta 0:00:02\n",
            "   --- ------------------------------------ 0.2/2.2 MB 1.4 MB/s eta 0:00:02\n",
            "   --- ------------------------------------ 0.2/2.2 MB 428.5 kB/s eta 0:00:05\n",
            "   ---- ----------------------------------- 0.3/2.2 MB 476.3 kB/s eta 0:00:05\n",
            "   ----- ---------------------------------- 0.3/2.2 MB 505.4 kB/s eta 0:00:04\n",
            "   ------ --------------------------------- 0.3/2.2 MB 537.2 kB/s eta 0:00:04\n",
            "   ------ --------------------------------- 0.3/2.2 MB 514.3 kB/s eta 0:00:04\n",
            "   ------ --------------------------------- 0.4/2.2 MB 545.5 kB/s eta 0:00:04\n",
            "   ------ --------------------------------- 0.4/2.2 MB 545.5 kB/s eta 0:00:04\n",
            "   ------- -------------------------------- 0.4/2.2 MB 494.6 kB/s eta 0:00:04\n",
            "   ------- -------------------------------- 0.4/2.2 MB 494.6 kB/s eta 0:00:04\n",
            "   ------- -------------------------------- 0.4/2.2 MB 494.6 kB/s eta 0:00:04\n",
            "   -------- ------------------------------- 0.5/2.2 MB 477.6 kB/s eta 0:00:04\n",
            "   -------- ------------------------------- 0.5/2.2 MB 477.6 kB/s eta 0:00:04\n",
            "   --------- ------------------------------ 0.5/2.2 MB 493.9 kB/s eta 0:00:04\n",
            "   ---------- ----------------------------- 0.6/2.2 MB 510.6 kB/s eta 0:00:04\n",
            "   ---------- ----------------------------- 0.6/2.2 MB 509.7 kB/s eta 0:00:04\n",
            "   ---------- ----------------------------- 0.6/2.2 MB 504.5 kB/s eta 0:00:04\n",
            "   ----------- ---------------------------- 0.6/2.2 MB 520.8 kB/s eta 0:00:03\n",
            "   ----------- ---------------------------- 0.6/2.2 MB 520.8 kB/s eta 0:00:03\n",
            "   ------------ --------------------------- 0.7/2.2 MB 517.7 kB/s eta 0:00:03\n",
            "   ------------ --------------------------- 0.7/2.2 MB 517.7 kB/s eta 0:00:03\n",
            "   ------------ --------------------------- 0.7/2.2 MB 517.7 kB/s eta 0:00:03\n",
            "   ------------ --------------------------- 0.7/2.2 MB 477.1 kB/s eta 0:00:04\n",
            "   ------------- -------------------------- 0.7/2.2 MB 481.0 kB/s eta 0:00:04\n",
            "   ------------- -------------------------- 0.7/2.2 MB 476.6 kB/s eta 0:00:04\n",
            "   -------------- ------------------------- 0.8/2.2 MB 486.4 kB/s eta 0:00:03\n",
            "   -------------- ------------------------- 0.8/2.2 MB 486.4 kB/s eta 0:00:03\n",
            "   --------------- ------------------------ 0.8/2.2 MB 496.1 kB/s eta 0:00:03\n",
            "   ---------------- ----------------------- 0.9/2.2 MB 506.3 kB/s eta 0:00:03\n",
            "   ---------------- ----------------------- 0.9/2.2 MB 503.2 kB/s eta 0:00:03\n",
            "   ----------------- ---------------------- 0.9/2.2 MB 514.0 kB/s eta 0:00:03\n",
            "   ----------------- ---------------------- 1.0/2.2 MB 520.7 kB/s eta 0:00:03\n",
            "   ----------------- ---------------------- 1.0/2.2 MB 520.7 kB/s eta 0:00:03\n",
            "   ----------------- ---------------------- 1.0/2.2 MB 520.7 kB/s eta 0:00:03\n",
            "   ------------------ --------------------- 1.0/2.2 MB 491.5 kB/s eta 0:00:03\n",
            "   ------------------- -------------------- 1.1/2.2 MB 515.3 kB/s eta 0:00:03\n",
            "   ------------------- -------------------- 1.1/2.2 MB 508.6 kB/s eta 0:00:03\n",
            "   -------------------- ------------------- 1.1/2.2 MB 521.3 kB/s eta 0:00:03\n",
            "   -------------------- ------------------- 1.1/2.2 MB 521.3 kB/s eta 0:00:03\n",
            "   --------------------- ------------------ 1.2/2.2 MB 526.1 kB/s eta 0:00:02\n",
            "   ---------------------- ----------------- 1.2/2.2 MB 534.0 kB/s eta 0:00:02\n",
            "   ----------------------- ---------------- 1.3/2.2 MB 540.8 kB/s eta 0:00:02\n",
            "   ----------------------- ---------------- 1.3/2.2 MB 543.3 kB/s eta 0:00:02\n",
            "   ------------------------ --------------- 1.4/2.2 MB 553.9 kB/s eta 0:00:02\n",
            "   ------------------------ --------------- 1.4/2.2 MB 550.8 kB/s eta 0:00:02\n",
            "   ------------------------- -------------- 1.4/2.2 MB 545.4 kB/s eta 0:00:02\n",
            "   ------------------------- -------------- 1.4/2.2 MB 547.4 kB/s eta 0:00:02\n",
            "   -------------------------- ------------- 1.5/2.2 MB 563.8 kB/s eta 0:00:02\n",
            "   --------------------------- ------------ 1.5/2.2 MB 570.4 kB/s eta 0:00:02\n",
            "   ---------------------------- ----------- 1.6/2.2 MB 571.8 kB/s eta 0:00:02\n",
            "   ----------------------------- ---------- 1.6/2.2 MB 583.7 kB/s eta 0:00:02\n",
            "   ------------------------------ --------- 1.6/2.2 MB 582.1 kB/s eta 0:00:01\n",
            "   ------------------------------ --------- 1.7/2.2 MB 590.0 kB/s eta 0:00:01\n",
            "   ------------------------------ --------- 1.7/2.2 MB 587.2 kB/s eta 0:00:01\n",
            "   ------------------------------- -------- 1.7/2.2 MB 582.1 kB/s eta 0:00:01\n",
            "   ------------------------------- -------- 1.7/2.2 MB 582.1 kB/s eta 0:00:01\n",
            "   -------------------------------- ------- 1.8/2.2 MB 587.7 kB/s eta 0:00:01\n",
            "   --------------------------------- ------ 1.8/2.2 MB 591.7 kB/s eta 0:00:01\n",
            "   ---------------------------------- ----- 1.9/2.2 MB 599.7 kB/s eta 0:00:01\n",
            "   ----------------------------------- ---- 1.9/2.2 MB 603.3 kB/s eta 0:00:01\n",
            "   ------------------------------------ --- 2.0/2.2 MB 607.6 kB/s eta 0:00:01\n",
            "   ------------------------------------ --- 2.0/2.2 MB 614.5 kB/s eta 0:00:01\n",
            "   ------------------------------------- -- 2.0/2.2 MB 611.9 kB/s eta 0:00:01\n",
            "   ------------------------------------- -- 2.0/2.2 MB 611.9 kB/s eta 0:00:01\n",
            "   -------------------------------------- - 2.1/2.2 MB 607.1 kB/s eta 0:00:01\n",
            "   -------------------------------------- - 2.1/2.2 MB 607.1 kB/s eta 0:00:01\n",
            "   ---------------------------------------  2.2/2.2 MB 614.4 kB/s eta 0:00:01\n",
            "   ---------------------------------------- 2.2/2.2 MB 612.7 kB/s eta 0:00:00\n",
            "Using cached importlib_resources-6.3.0-py3-none-any.whl (35 kB)\n",
            "Using cached kiwisolver-1.4.5-cp39-cp39-win_amd64.whl (56 kB)\n",
            "Using cached pillow-10.2.0-cp39-cp39-win_amd64.whl (2.6 MB)\n",
            "Using cached pyparsing-3.1.2-py3-none-any.whl (103 kB)\n",
            "Installing collected packages: pyparsing, pillow, kiwisolver, importlib-resources, fonttools, cycler, contourpy, matplotlib\n",
            "Successfully installed contourpy-1.2.0 cycler-0.12.1 fonttools-4.50.0 importlib-resources-6.3.0 kiwisolver-1.4.5 matplotlib-3.8.3 pillow-10.2.0 pyparsing-3.1.2\n",
            "Epoch 1/10\n",
            "58/58 [==============================] - 64s 709ms/step - loss: 0.8979 - accuracy: 0.5693 - precision: 0.4707 - recall: 0.7634 - val_loss: 0.5991 - val_accuracy: 0.6710 - val_precision: 0.5728 - val_recall: 0.6667\n",
            "Epoch 2/10\n",
            "58/58 [==============================] - 28s 482ms/step - loss: 0.7908 - accuracy: 0.6786 - precision: 0.5623 - recall: 0.8253 - val_loss: 0.5549 - val_accuracy: 0.7359 - val_precision: 0.6142 - val_recall: 0.8962\n",
            "Epoch 3/10\n",
            "58/58 [==============================] - 28s 479ms/step - loss: 0.7139 - accuracy: 0.7614 - precision: 0.6499 - recall: 0.8528 - val_loss: 0.5268 - val_accuracy: 0.7424 - val_precision: 0.6135 - val_recall: 0.9454\n",
            "Epoch 4/10\n",
            "58/58 [==============================] - 27s 469ms/step - loss: 0.6612 - accuracy: 0.7868 - precision: 0.6796 - recall: 0.8666 - val_loss: 0.4595 - val_accuracy: 0.8377 - val_precision: 0.7389 - val_recall: 0.9126\n",
            "Epoch 5/10\n",
            "58/58 [==============================] - 28s 481ms/step - loss: 0.6191 - accuracy: 0.8084 - precision: 0.7065 - recall: 0.8776 - val_loss: 0.4070 - val_accuracy: 0.8766 - val_precision: 0.8539 - val_recall: 0.8306\n",
            "Epoch 6/10\n",
            "58/58 [==============================] - 28s 479ms/step - loss: 0.5913 - accuracy: 0.8295 - precision: 0.7368 - recall: 0.8817 - val_loss: 0.3802 - val_accuracy: 0.9026 - val_precision: 0.9157 - val_recall: 0.8306\n",
            "Epoch 7/10\n",
            "58/58 [==============================] - 28s 489ms/step - loss: 0.5500 - accuracy: 0.8479 - precision: 0.7700 - recall: 0.8748 - val_loss: 0.3692 - val_accuracy: 0.8853 - val_precision: 0.8571 - val_recall: 0.8525\n",
            "Epoch 8/10\n",
            "58/58 [==============================] - 27s 468ms/step - loss: 0.5359 - accuracy: 0.8382 - precision: 0.7483 - recall: 0.8872 - val_loss: 0.3618 - val_accuracy: 0.8918 - val_precision: 0.8446 - val_recall: 0.8907\n",
            "Epoch 9/10\n",
            "58/58 [==============================] - 27s 466ms/step - loss: 0.5077 - accuracy: 0.8723 - precision: 0.8057 - recall: 0.8900 - val_loss: 0.3598 - val_accuracy: 0.8853 - val_precision: 0.8125 - val_recall: 0.9235\n",
            "Epoch 10/10\n",
            "58/58 [==============================] - 28s 482ms/step - loss: 0.4892 - accuracy: 0.8647 - precision: 0.7898 - recall: 0.8941 - val_loss: 0.3424 - val_accuracy: 0.9004 - val_precision: 0.8408 - val_recall: 0.9235\n"
          ]
        }
      ],
      "source": [
        "!pip install matplotlib\n",
        "\n",
        "import numpy as np\n",
        "import matplotlib.pyplot as plt\n",
        "from sklearn.metrics import roc_auc_score, precision_recall_curve, auc\n",
        "from tensorflow.keras.callbacks import EarlyStopping, ModelCheckpoint\n",
        "from sklearn.model_selection import train_test_split\n",
        "\n",
        "X_train_preprocessed = np.array([str(sentence) for sentence in X_train])\n",
        "X_test_preprocessed = np.array([str(sentence) for sentence in X_test])\n",
        "y_train = np.array(y_train)\n",
        "\n",
        "X_train_split, X_val_split, y_train_split, y_val_split = train_test_split(X_train_preprocessed, y_train, test_size=0.2, random_state=42)\n",
        "\n",
        "train_dataset = tf.data.Dataset.from_tensor_slices((X_train_split, y_train_split))\n",
        "val_dataset = tf.data.Dataset.from_tensor_slices((X_val_split, y_val_split))\n",
        "test_dataset = tf.data.Dataset.from_tensor_slices((X_test_preprocessed, y_test))\n",
        "\n",
        "batch_size = 32\n",
        "\n",
        "train_dataset = train_dataset.shuffle(buffer_size=len(X_train_split)).batch(batch_size)\n",
        "val_dataset = val_dataset.batch(batch_size)\n",
        "test_dataset = test_dataset.batch(batch_size)\n",
        "\n",
        "early_stopping = EarlyStopping(monitor='val_loss', patience=3, restore_best_weights=True)\n",
        "checkpoint = ModelCheckpoint('best_model.h5', monitor='val_loss', save_best_only=True)\n",
        "\n",
        "class_weights = {0: 1, 1: 2}\n",
        "\n",
        "history = model.fit(X_train_split, y_train_split, epochs=10, validation_data=(X_val_split, y_val_split), class_weight=class_weights, callbacks=[early_stopping, checkpoint])"
      ]
    },
    {
      "cell_type": "markdown",
      "metadata": {
        "id": "iksagGncf-zG"
      },
      "source": [
        "# **Model Traning Evaluation**"
      ]
    },
    {
      "cell_type": "code",
      "execution_count": 13,
      "metadata": {
        "colab": {
          "base_uri": "https://localhost:8080/",
          "height": 472
        },
        "id": "6A8gcvKksdLF",
        "outputId": "56e79e63-1df0-465a-f3bf-f0e77443084a"
      },
      "outputs": [
        {
          "data": {
            "image/png": "[encoded data removed]",
            "text/plain": [
              "<Figure size 640x480 with 2 Axes>"
            ]
          },
          "metadata": {},
          "output_type": "display_data"
        }
      ],
      "source": [
        "plt.subplot(1, 2, 1)\n",
        "plt.plot(history.history['accuracy'])\n",
        "plt.plot(history.history['val_accuracy'])\n",
        "plt.title('Model Accuracy')\n",
        "plt.xlabel('Epoch')\n",
        "plt.ylabel('Accuracy')\n",
        "plt.legend(['Train', 'Validation'], loc='upper left')\n",
        "\n",
        "plt.subplot(1, 2, 2)\n",
        "plt.plot(history.history['loss'])\n",
        "plt.plot(history.history['val_loss'])\n",
        "plt.title('Model Loss')\n",
        "plt.xlabel('Epoch')\n",
        "plt.ylabel('Loss')\n",
        "plt.legend(['Train', 'Validation'], loc='upper left')\n",
        "\n",
        "plt.show()\n"
      ]
    },
    {
      "cell_type": "code",
      "execution_count": 14,
      "metadata": {
        "colab": {
          "base_uri": "https://localhost:8080/",
          "height": 599
        },
        "id": "j51fAFknsl7b",
        "outputId": "b0fbcd8f-1737-4d61-bc02-c3cf1119be35"
      },
      "outputs": [
        {
          "name": "stdout",
          "output_type": "stream",
          "text": [
            "31/31 [==============================] - 11s 357ms/step - loss: 0.3516 - accuracy: 0.8909 - precision: 0.8147 - recall: 0.9359\n",
            "31/31 [==============================] - 13s 355ms/step\n"
          ]
        },
        {
          "data": {
            "image/png": "[encoded data removed]",
            "text/plain": [
              "<Figure size 800x600 with 1 Axes>"
            ]
          },
          "metadata": {},
          "output_type": "display_data"
        }
      ],
      "source": [
        "\n",
        "results = model.evaluate(test_dataset)\n",
        "\n",
        "y_pred = model.predict(test_dataset).ravel()\n",
        "\n",
        "precision, recall, _ = precision_recall_curve(y_test, y_pred)\n",
        "\n",
        "\n",
        "plt.figure(figsize=(8, 6))\n",
        "plt.plot(recall, precision, color='blue', label='Precision-Recall curve')\n",
        "plt.xlabel('Recall')\n",
        "plt.ylabel('Precision')\n",
        "plt.title('Precision-Recall Curve')\n",
        "plt.legend()\n",
        "plt.show()\n",
        "\n"
      ]
    },
    {
      "cell_type": "code",
      "execution_count": 15,
      "metadata": {
        "colab": {
          "base_uri": "https://localhost:8080/"
        },
        "id": "iKLQVYbQsmqQ",
        "outputId": "c2b82974-45bf-4d87-e1fa-4c3b5b4d1801"
      },
      "outputs": [
        {
          "name": "stdout",
          "output_type": "stream",
          "text": [
            "AUC-PR: 0.9565150966665357\n"
          ]
        }
      ],
      "source": [
        "auc_pr = auc(recall, precision)\n",
        "print(f'AUC-PR: {auc_pr}')"
      ]
    },
    {
      "cell_type": "code",
      "execution_count": 16,
      "metadata": {
        "colab": {
          "base_uri": "https://localhost:8080/"
        },
        "id": "0sZ0dbhIsv50",
        "outputId": "44b1f8f3-b7b9-421a-ea67-71a859deb405"
      },
      "outputs": [
        {
          "name": "stdout",
          "output_type": "stream",
          "text": [
            "Accuracy: 0.9131312966346741\n",
            "Precision: 0.8877550959587097\n",
            "Recall: 0.892307698726654\n"
          ]
        }
      ],
      "source": [
        "accuracy = results[model.metrics_names.index('accuracy')]\n",
        "precision = results[model.metrics_names.index('precision')]\n",
        "recall = results[model.metrics_names.index('recall')]\n",
        "\n",
        "print(f'Accuracy: {accuracy}')\n",
        "print(f'Precision: {precision}')\n",
        "print(f'Recall: {recall}')"
      ]
    },
    {
      "cell_type": "markdown",
      "metadata": {
        "id": "ge1Gh_NPf-zH"
      },
      "source": [
        "# **Model Saving**"
      ]
    },
    {
      "cell_type": "code",
      "execution_count": null,
      "metadata": {
        "colab": {
          "base_uri": "https://localhost:8080/",
          "height": 1000
        },
        "id": "Ghwkod1c0Zeg",
        "outputId": "30e87621-d030-487f-cc6b-6825af0efaab"
      },
      "outputs": [
        {
          "name": "stdout",
          "output_type": "stream",
          "text": [
            "Model saved successfully at: my_model.h5\n"
          ]
        }
      ],
      "source": [
        "\n",
        "model_path = 'my_model.h5'\n",
        "\n",
        "model.save(model_path)\n",
        "\n",
        "print(\"Model saved successfully at:\", model_path)\n",
        "\n"
      ]
    },
    {
      "cell_type": "markdown",
      "metadata": {
        "id": "FKOhJVKtf-zH"
      },
      "source": [
        "# **Modle Loading**"
      ]
    },
    {
      "cell_type": "code",
      "execution_count": null,
      "metadata": {
        "colab": {
          "base_uri": "https://localhost:8080/"
        },
        "id": "SKLicuG9f-zH",
        "outputId": "82b3ab5d-02b1-43cf-ff72-53629131692f"
      },
      "outputs": [
        {
          "name": "stdout",
          "output_type": "stream",
          "text": [
            "31/31 [==============================] - 12s 350ms/step - loss: 0.3107 - accuracy: 0.9424 - precision: 0.6571 - recall: 0.7667\n",
            "Accuracy: 0.9424242377281189\n",
            "Precision: 0.6571428775787354\n",
            "Recall: 0.7666666507720947\n"
          ]
        }
      ],
      "source": [
        "import tensorflow as tf\n",
        "import tensorflow_hub as hub\n",
        "import numpy as np\n",
        "from sklearn.metrics import classification_report\n",
        "\n",
        "model_path = 'best_model.h5'\n",
        "custom_objects = {'KerasLayer': hub.KerasLayer}\n",
        "loaded_model = tf.keras.models.load_model(model_path, custom_objects=custom_objects)\n",
        "\n",
        "results = loaded_model.evaluate(X_test_preprocessed, y_test)\n",
        "\n",
        "accuracy = results[loaded_model.metrics_names.index('accuracy')]\n",
        "precision = results[loaded_model.metrics_names.index('precision')]\n",
        "recall = results[loaded_model.metrics_names.index('recall')]\n",
        "\n",
        "print(f'Accuracy: {accuracy}')\n",
        "print(f'Precision: {precision}')\n",
        "print(f'Recall: {recall}')\n"
      ]
    },
    {
      "cell_type": "code",
      "execution_count": 22,
      "metadata": {
        "colab": {
          "base_uri": "https://localhost:8080/"
        },
        "id": "BhxeXjLwU410",
        "outputId": "024f70de-528f-4fd9-bd5b-712720db75da"
      },
      "outputs": [
        {
          "name": "stdout",
          "output_type": "stream",
          "text": [
            "1/1 [==============================] - 1s 864ms/step\n",
            "Safe\n"
          ]
        }
      ],
      "source": [
        "loaded_model = tf.keras.models.load_model('best_model.h5', custom_objects={'KerasLayer': hub.KerasLayer})\n",
        "\n",
        "new_text = \"\"\"begin forwarded text To: rah@shipwright.com From: hacker@vudu.net Date: Thu, 03 Oct 2002 06:01:38 -0700 (PDT) Subject: Re: The 3rd Annual Consult Hyperion Digital Identity ForumThe guy messed up his own URL. It should be http://www.digitalidforum.com which redirects to http://www.consult.hyperion.co.uk/digid3.html \"R. A. Hettinga\" wrote: > > Dear All, > > See www.digitalidentityforum.com for more details. Speakers include > Microsoft and Liberty Alliance, UK central and local government, > law > enforcement, financial services (Egg and RBS/NatWest), EC Research > Centre, a > psychologist and others. Look forward to seeing you there. > > Regards, > Dave Birch. > > -- > -- David Birch, Director, Consult Hyperion > -- > -- tel +44 (0)1483 301793, fax +44 (0)1483 561657 > -- mail dave@chyp.com, web http://www.chyp.com > -- > -- See you at the 2nd Annual Digital Transactions Forum in > Singapore > -- October 16th/17th 2002, see > http://www.digitaltransactionsforum.com/ > > --- end forwarded text > > > -- > ----------------- > R. A. Hettinga <mailto: rah@ibuc.com> > The Internet Bearer Underwriting Corporation <http://www.ibuc.com/>; > 44 Farquhar Street, Boston, MA 02131 USA > \"... however it may deserve respect for its usefulness and > antiquity, > [predicting the end of the world] has not been found agreeable to > experience.\" -- Edward Gibbon, 'Decline and Fall of the Roman > Empire' > > For help on using this list (especially unsubscribing), send a > message to > \"dcsb-request@reservoir.com\" with one line of text: \"help\".--- end forwarded text -- ----------------- R. A. Hettinga The Internet Bearer Underwriting Corporation 44 Farquhar Street, Boston, MA 02131 USA \"... however it may deserve respect for its usefulness and antiquity, [predicting the end of the world] has not been found agreeable to experience.\" -- Edward Gibbon, 'Decline and Fall of the Roman Empire'\n",
        "\"\"\"\n",
        "\n",
        "new_text_preprocessed = np.array([str(new_text)])\n",
        "\n",
        "predictions = \"Phishing\" if loaded_model.predict(new_text_preprocessed) > 0.5 else \"Safe\"\n",
        "\n",
        "print(predictions)"
      ]
    }
  ],
  "metadata": {
    "accelerator": "GPU",
    "colab": {
      "gpuType": "T4",
      "provenance": []
    },
    "kernelspec": {
      "display_name": "Python 3",
      "name": "python3"
    },
    "language_info": {
      "codemirror_mode": {
        "name": "ipython",
        "version": 3
      },
      "file_extension": ".py",
      "mimetype": "text/x-python",
      "name": "python",
      "nbconvert_exporter": "python",
      "pygments_lexer": "ipython3",
      "version": "3.9.18"
    }
  },
  "nbformat": 4,
  "nbformat_minor": 0
}
