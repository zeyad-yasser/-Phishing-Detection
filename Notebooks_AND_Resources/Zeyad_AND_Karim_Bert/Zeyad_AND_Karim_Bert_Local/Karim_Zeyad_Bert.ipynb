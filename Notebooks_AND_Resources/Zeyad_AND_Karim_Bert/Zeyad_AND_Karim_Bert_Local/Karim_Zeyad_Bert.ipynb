{
  "cells": [
    {
      "cell_type": "code",
      "execution_count": 27,
      "metadata": {
        "colab": {
          "base_uri": "https://localhost:8080/"
        },
        "id": "gc3qid1SBLJD",
        "outputId": "14f6defc-e4bf-41d9-bf12-0e812f3e6f23"
      },
      "outputs": [
        {
          "name": "stdout",
          "output_type": "stream",
          "text": [
            "Requirement already satisfied: tensorflow_hub in c:\\users\\pc\\anaconda3\\envs\\tf\\lib\\site-packages (0.16.1)\n",
            "Requirement already satisfied: numpy>=1.12.0 in c:\\users\\pc\\anaconda3\\envs\\tf\\lib\\site-packages (from tensorflow_hub) (1.26.4)\n",
            "Requirement already satisfied: protobuf>=3.19.6 in c:\\users\\pc\\anaconda3\\envs\\tf\\lib\\site-packages (from tensorflow_hub) (3.19.6)\n",
            "Requirement already satisfied: tf-keras>=2.14.1 in c:\\users\\pc\\anaconda3\\envs\\tf\\lib\\site-packages (from tensorflow_hub) (2.15.0)\n",
            "Requirement already satisfied: tensorflow-text in c:\\users\\pc\\anaconda3\\envs\\tf\\lib\\site-packages (2.10.0)\n",
            "Requirement already satisfied: tensorflow-hub>=0.8.0 in c:\\users\\pc\\anaconda3\\envs\\tf\\lib\\site-packages (from tensorflow-text) (0.16.1)\n",
            "Requirement already satisfied: tensorflow<2.11,>=2.10.0 in c:\\users\\pc\\anaconda3\\envs\\tf\\lib\\site-packages (from tensorflow-text) (2.10.1)\n",
            "Requirement already satisfied: absl-py>=1.0.0 in c:\\users\\pc\\anaconda3\\envs\\tf\\lib\\site-packages (from tensorflow<2.11,>=2.10.0->tensorflow-text) (2.1.0)\n",
            "Requirement already satisfied: astunparse>=1.6.0 in c:\\users\\pc\\anaconda3\\envs\\tf\\lib\\site-packages (from tensorflow<2.11,>=2.10.0->tensorflow-text) (1.6.3)\n",
            "Requirement already satisfied: flatbuffers>=2.0 in c:\\users\\pc\\anaconda3\\envs\\tf\\lib\\site-packages (from tensorflow<2.11,>=2.10.0->tensorflow-text) (24.3.25)\n",
            "Requirement already satisfied: gast<=0.4.0,>=0.2.1 in c:\\users\\pc\\anaconda3\\envs\\tf\\lib\\site-packages (from tensorflow<2.11,>=2.10.0->tensorflow-text) (0.4.0)\n",
            "Requirement already satisfied: google-pasta>=0.1.1 in c:\\users\\pc\\anaconda3\\envs\\tf\\lib\\site-packages (from tensorflow<2.11,>=2.10.0->tensorflow-text) (0.2.0)\n",
            "Requirement already satisfied: h5py>=2.9.0 in c:\\users\\pc\\anaconda3\\envs\\tf\\lib\\site-packages (from tensorflow<2.11,>=2.10.0->tensorflow-text) (3.11.0)\n",
            "Requirement already satisfied: keras-preprocessing>=1.1.1 in c:\\users\\pc\\anaconda3\\envs\\tf\\lib\\site-packages (from tensorflow<2.11,>=2.10.0->tensorflow-text) (1.1.2)\n",
            "Requirement already satisfied: libclang>=13.0.0 in c:\\users\\pc\\anaconda3\\envs\\tf\\lib\\site-packages (from tensorflow<2.11,>=2.10.0->tensorflow-text) (18.1.1)\n",
            "Requirement already satisfied: numpy>=1.20 in c:\\users\\pc\\anaconda3\\envs\\tf\\lib\\site-packages (from tensorflow<2.11,>=2.10.0->tensorflow-text) (1.26.4)\n",
            "Requirement already satisfied: opt-einsum>=2.3.2 in c:\\users\\pc\\anaconda3\\envs\\tf\\lib\\site-packages (from tensorflow<2.11,>=2.10.0->tensorflow-text) (3.3.0)\n",
            "Requirement already satisfied: packaging in c:\\users\\pc\\anaconda3\\envs\\tf\\lib\\site-packages (from tensorflow<2.11,>=2.10.0->tensorflow-text) (24.0)\n",
            "Requirement already satisfied: protobuf<3.20,>=3.9.2 in c:\\users\\pc\\anaconda3\\envs\\tf\\lib\\site-packages (from tensorflow<2.11,>=2.10.0->tensorflow-text) (3.19.6)\n",
            "Requirement already satisfied: setuptools in c:\\users\\pc\\anaconda3\\envs\\tf\\lib\\site-packages (from tensorflow<2.11,>=2.10.0->tensorflow-text) (68.2.2)\n",
            "Requirement already satisfied: six>=1.12.0 in c:\\users\\pc\\anaconda3\\envs\\tf\\lib\\site-packages (from tensorflow<2.11,>=2.10.0->tensorflow-text) (1.16.0)\n",
            "Requirement already satisfied: termcolor>=1.1.0 in c:\\users\\pc\\anaconda3\\envs\\tf\\lib\\site-packages (from tensorflow<2.11,>=2.10.0->tensorflow-text) (2.4.0)\n",
            "Requirement already satisfied: typing-extensions>=3.6.6 in c:\\users\\pc\\anaconda3\\envs\\tf\\lib\\site-packages (from tensorflow<2.11,>=2.10.0->tensorflow-text) (4.11.0)\n",
            "Requirement already satisfied: wrapt>=1.11.0 in c:\\users\\pc\\anaconda3\\envs\\tf\\lib\\site-packages (from tensorflow<2.11,>=2.10.0->tensorflow-text) (1.16.0)\n",
            "Requirement already satisfied: tensorflow-io-gcs-filesystem>=0.23.1 in c:\\users\\pc\\anaconda3\\envs\\tf\\lib\\site-packages (from tensorflow<2.11,>=2.10.0->tensorflow-text) (0.31.0)\n",
            "Requirement already satisfied: grpcio<2.0,>=1.24.3 in c:\\users\\pc\\anaconda3\\envs\\tf\\lib\\site-packages (from tensorflow<2.11,>=2.10.0->tensorflow-text) (1.62.1)\n",
            "Requirement already satisfied: tensorboard<2.11,>=2.10 in c:\\users\\pc\\anaconda3\\envs\\tf\\lib\\site-packages (from tensorflow<2.11,>=2.10.0->tensorflow-text) (2.10.1)\n",
            "Requirement already satisfied: tensorflow-estimator<2.11,>=2.10.0 in c:\\users\\pc\\anaconda3\\envs\\tf\\lib\\site-packages (from tensorflow<2.11,>=2.10.0->tensorflow-text) (2.10.0)\n",
            "Requirement already satisfied: keras<2.11,>=2.10.0 in c:\\users\\pc\\anaconda3\\envs\\tf\\lib\\site-packages (from tensorflow<2.11,>=2.10.0->tensorflow-text) (2.10.0)\n",
            "Requirement already satisfied: tf-keras>=2.14.1 in c:\\users\\pc\\anaconda3\\envs\\tf\\lib\\site-packages (from tensorflow-hub>=0.8.0->tensorflow-text) (2.15.0)\n",
            "Requirement already satisfied: wheel<1.0,>=0.23.0 in c:\\users\\pc\\anaconda3\\envs\\tf\\lib\\site-packages (from astunparse>=1.6.0->tensorflow<2.11,>=2.10.0->tensorflow-text) (0.41.2)\n",
            "Requirement already satisfied: google-auth<3,>=1.6.3 in c:\\users\\pc\\anaconda3\\envs\\tf\\lib\\site-packages (from tensorboard<2.11,>=2.10->tensorflow<2.11,>=2.10.0->tensorflow-text) (2.29.0)\n",
            "Requirement already satisfied: google-auth-oauthlib<0.5,>=0.4.1 in c:\\users\\pc\\anaconda3\\envs\\tf\\lib\\site-packages (from tensorboard<2.11,>=2.10->tensorflow<2.11,>=2.10.0->tensorflow-text) (0.4.6)\n",
            "Requirement already satisfied: markdown>=2.6.8 in c:\\users\\pc\\anaconda3\\envs\\tf\\lib\\site-packages (from tensorboard<2.11,>=2.10->tensorflow<2.11,>=2.10.0->tensorflow-text) (3.6)\n",
            "Requirement already satisfied: requests<3,>=2.21.0 in c:\\users\\pc\\anaconda3\\envs\\tf\\lib\\site-packages (from tensorboard<2.11,>=2.10->tensorflow<2.11,>=2.10.0->tensorflow-text) (2.31.0)\n",
            "Requirement already satisfied: tensorboard-data-server<0.7.0,>=0.6.0 in c:\\users\\pc\\anaconda3\\envs\\tf\\lib\\site-packages (from tensorboard<2.11,>=2.10->tensorflow<2.11,>=2.10.0->tensorflow-text) (0.6.1)\n",
            "Requirement already satisfied: tensorboard-plugin-wit>=1.6.0 in c:\\users\\pc\\anaconda3\\envs\\tf\\lib\\site-packages (from tensorboard<2.11,>=2.10->tensorflow<2.11,>=2.10.0->tensorflow-text) (1.8.1)\n",
            "Requirement already satisfied: werkzeug>=1.0.1 in c:\\users\\pc\\anaconda3\\envs\\tf\\lib\\site-packages (from tensorboard<2.11,>=2.10->tensorflow<2.11,>=2.10.0->tensorflow-text) (3.0.2)\n",
            "Requirement already satisfied: cachetools<6.0,>=2.0.0 in c:\\users\\pc\\anaconda3\\envs\\tf\\lib\\site-packages (from google-auth<3,>=1.6.3->tensorboard<2.11,>=2.10->tensorflow<2.11,>=2.10.0->tensorflow-text) (5.3.3)\n",
            "Requirement already satisfied: pyasn1-modules>=0.2.1 in c:\\users\\pc\\anaconda3\\envs\\tf\\lib\\site-packages (from google-auth<3,>=1.6.3->tensorboard<2.11,>=2.10->tensorflow<2.11,>=2.10.0->tensorflow-text) (0.4.0)\n",
            "Requirement already satisfied: rsa<5,>=3.1.4 in c:\\users\\pc\\anaconda3\\envs\\tf\\lib\\site-packages (from google-auth<3,>=1.6.3->tensorboard<2.11,>=2.10->tensorflow<2.11,>=2.10.0->tensorflow-text) (4.9)\n",
            "Requirement already satisfied: requests-oauthlib>=0.7.0 in c:\\users\\pc\\anaconda3\\envs\\tf\\lib\\site-packages (from google-auth-oauthlib<0.5,>=0.4.1->tensorboard<2.11,>=2.10->tensorflow<2.11,>=2.10.0->tensorflow-text) (2.0.0)\n",
            "Requirement already satisfied: importlib-metadata>=4.4 in c:\\users\\pc\\anaconda3\\envs\\tf\\lib\\site-packages (from markdown>=2.6.8->tensorboard<2.11,>=2.10->tensorflow<2.11,>=2.10.0->tensorflow-text) (7.1.0)\n",
            "Requirement already satisfied: charset-normalizer<4,>=2 in c:\\users\\pc\\anaconda3\\envs\\tf\\lib\\site-packages (from requests<3,>=2.21.0->tensorboard<2.11,>=2.10->tensorflow<2.11,>=2.10.0->tensorflow-text) (3.3.2)\n",
            "Requirement already satisfied: idna<4,>=2.5 in c:\\users\\pc\\anaconda3\\envs\\tf\\lib\\site-packages (from requests<3,>=2.21.0->tensorboard<2.11,>=2.10->tensorflow<2.11,>=2.10.0->tensorflow-text) (3.7)\n",
            "Requirement already satisfied: urllib3<3,>=1.21.1 in c:\\users\\pc\\anaconda3\\envs\\tf\\lib\\site-packages (from requests<3,>=2.21.0->tensorboard<2.11,>=2.10->tensorflow<2.11,>=2.10.0->tensorflow-text) (2.2.1)\n",
            "Requirement already satisfied: certifi>=2017.4.17 in c:\\users\\pc\\anaconda3\\envs\\tf\\lib\\site-packages (from requests<3,>=2.21.0->tensorboard<2.11,>=2.10->tensorflow<2.11,>=2.10.0->tensorflow-text) (2024.2.2)\n",
            "Requirement already satisfied: MarkupSafe>=2.1.1 in c:\\users\\pc\\anaconda3\\envs\\tf\\lib\\site-packages (from werkzeug>=1.0.1->tensorboard<2.11,>=2.10->tensorflow<2.11,>=2.10.0->tensorflow-text) (2.1.5)\n",
            "Requirement already satisfied: zipp>=0.5 in c:\\users\\pc\\anaconda3\\envs\\tf\\lib\\site-packages (from importlib-metadata>=4.4->markdown>=2.6.8->tensorboard<2.11,>=2.10->tensorflow<2.11,>=2.10.0->tensorflow-text) (3.17.0)\n",
            "Requirement already satisfied: pyasn1<0.7.0,>=0.4.6 in c:\\users\\pc\\anaconda3\\envs\\tf\\lib\\site-packages (from pyasn1-modules>=0.2.1->google-auth<3,>=1.6.3->tensorboard<2.11,>=2.10->tensorflow<2.11,>=2.10.0->tensorflow-text) (0.6.0)\n",
            "Requirement already satisfied: oauthlib>=3.0.0 in c:\\users\\pc\\anaconda3\\envs\\tf\\lib\\site-packages (from requests-oauthlib>=0.7.0->google-auth-oauthlib<0.5,>=0.4.1->tensorboard<2.11,>=2.10->tensorflow<2.11,>=2.10.0->tensorflow-text) (3.2.2)\n",
            "Requirement already satisfied: pandas in c:\\users\\pc\\anaconda3\\envs\\tf\\lib\\site-packages (2.2.2)\n",
            "Requirement already satisfied: numpy>=1.22.4 in c:\\users\\pc\\anaconda3\\envs\\tf\\lib\\site-packages (from pandas) (1.26.4)\n",
            "Requirement already satisfied: python-dateutil>=2.8.2 in c:\\users\\pc\\anaconda3\\envs\\tf\\lib\\site-packages (from pandas) (2.9.0)\n",
            "Requirement already satisfied: pytz>=2020.1 in c:\\users\\pc\\anaconda3\\envs\\tf\\lib\\site-packages (from pandas) (2024.1)\n",
            "Requirement already satisfied: tzdata>=2022.7 in c:\\users\\pc\\anaconda3\\envs\\tf\\lib\\site-packages (from pandas) (2024.1)\n",
            "Requirement already satisfied: six>=1.5 in c:\\users\\pc\\anaconda3\\envs\\tf\\lib\\site-packages (from python-dateutil>=2.8.2->pandas) (1.16.0)\n"
          ]
        },
        {
          "data": {
            "text/html": [
              "<div>\n",
              "<style scoped>\n",
              "    .dataframe tbody tr th:only-of-type {\n",
              "        vertical-align: middle;\n",
              "    }\n",
              "\n",
              "    .dataframe tbody tr th {\n",
              "        vertical-align: top;\n",
              "    }\n",
              "\n",
              "    .dataframe thead th {\n",
              "        text-align: right;\n",
              "    }\n",
              "</style>\n",
              "<table border=\"1\" class=\"dataframe\">\n",
              "  <thead>\n",
              "    <tr style=\"text-align: right;\">\n",
              "      <th></th>\n",
              "      <th>Unnamed: 0</th>\n",
              "      <th>body</th>\n",
              "      <th>class</th>\n",
              "    </tr>\n",
              "  </thead>\n",
              "  <tbody>\n",
              "    <tr>\n",
              "      <th>0</th>\n",
              "      <td>10195</td>\n",
              "      <td>use Perl Daily Headline MailerDynDNS.org Offer...</td>\n",
              "      <td>Safe Email</td>\n",
              "    </tr>\n",
              "    <tr>\n",
              "      <th>1</th>\n",
              "      <td>8911</td>\n",
              "      <td>conference on catalan studies ( linguistic sec...</td>\n",
              "      <td>Safe Email</td>\n",
              "    </tr>\n",
              "    <tr>\n",
              "      <th>2</th>\n",
              "      <td>3284</td>\n",
              "      <td>re : transwestern weekly report lindy - we rec...</td>\n",
              "      <td>Safe Email</td>\n",
              "    </tr>\n",
              "    <tr>\n",
              "      <th>3</th>\n",
              "      <td>4432</td>\n",
              "      <td>sum : dets and number about a month ago , i po...</td>\n",
              "      <td>Safe Email</td>\n",
              "    </tr>\n",
              "    <tr>\n",
              "      <th>4</th>\n",
              "      <td>10211</td>\n",
              "      <td>Mike Masnick wrote:\\n&gt;Why is it that people do...</td>\n",
              "      <td>Safe Email</td>\n",
              "    </tr>\n",
              "    <tr>\n",
              "      <th>...</th>\n",
              "      <td>...</td>\n",
              "      <td>...</td>\n",
              "      <td>...</td>\n",
              "    </tr>\n",
              "    <tr>\n",
              "      <th>3182</th>\n",
              "      <td>708</td>\n",
              "      <td>high frequency market data analysis stinson , ...</td>\n",
              "      <td>Safe Email</td>\n",
              "    </tr>\n",
              "    <tr>\n",
              "      <th>3183</th>\n",
              "      <td>1154</td>\n",
              "      <td>fw : mark boland - cv vince : tony vasut , ano...</td>\n",
              "      <td>Safe Email</td>\n",
              "    </tr>\n",
              "    <tr>\n",
              "      <th>3184</th>\n",
              "      <td>2464</td>\n",
              "      <td>re : meter 0980438 - acock production ? ? ? ? ...</td>\n",
              "      <td>Safe Email</td>\n",
              "    </tr>\n",
              "    <tr>\n",
              "      <th>3185</th>\n",
              "      <td>2804</td>\n",
              "      <td>[Barry]\\n&gt; Here's an interesting thing to test...</td>\n",
              "      <td>Safe Email</td>\n",
              "    </tr>\n",
              "    <tr>\n",
              "      <th>3186</th>\n",
              "      <td>8971</td>\n",
              "      <td>Greetings from Geocaching.com -\\nRecent caches...</td>\n",
              "      <td>Safe Email</td>\n",
              "    </tr>\n",
              "  </tbody>\n",
              "</table>\n",
              "<p>3187 rows × 3 columns</p>\n",
              "</div>"
            ],
            "text/plain": [
              "      Unnamed: 0                                               body  \\\n",
              "0          10195  use Perl Daily Headline MailerDynDNS.org Offer...   \n",
              "1           8911  conference on catalan studies ( linguistic sec...   \n",
              "2           3284  re : transwestern weekly report lindy - we rec...   \n",
              "3           4432  sum : dets and number about a month ago , i po...   \n",
              "4          10211  Mike Masnick wrote:\\n>Why is it that people do...   \n",
              "...          ...                                                ...   \n",
              "3182         708  high frequency market data analysis stinson , ...   \n",
              "3183        1154  fw : mark boland - cv vince : tony vasut , ano...   \n",
              "3184        2464  re : meter 0980438 - acock production ? ? ? ? ...   \n",
              "3185        2804  [Barry]\\n> Here's an interesting thing to test...   \n",
              "3186        8971  Greetings from Geocaching.com -\\nRecent caches...   \n",
              "\n",
              "           class  \n",
              "0     Safe Email  \n",
              "1     Safe Email  \n",
              "2     Safe Email  \n",
              "3     Safe Email  \n",
              "4     Safe Email  \n",
              "...          ...  \n",
              "3182  Safe Email  \n",
              "3183  Safe Email  \n",
              "3184  Safe Email  \n",
              "3185  Safe Email  \n",
              "3186  Safe Email  \n",
              "\n",
              "[3187 rows x 3 columns]"
            ]
          },
          "execution_count": 27,
          "metadata": {},
          "output_type": "execute_result"
        }
      ],
      "source": [
        "import tensorflow as tf\n",
        "! pip install tensorflow_hub\n",
        "import tensorflow_hub as hub\n",
        "! pip install tensorflow-text\n",
        "import tensorflow_text\n",
        "! pip install pandas \n",
        "import pandas as pd\n",
        "\n",
        "import pandas as pd\n",
        "pd.read_csv('safedownsampled.csv')\n"
      ]
    },
    {
      "cell_type": "markdown",
      "metadata": {
        "id": "JVsYhFgwBfEq"
      },
      "source": [
        "### **After Down sampling the \"big safe emails\" to 3k safe email to be balanced with phishing**"
      ]
    },
    {
      "cell_type": "code",
      "execution_count": 28,
      "metadata": {
        "colab": {
          "base_uri": "https://localhost:8080/"
        },
        "id": "uefY8sDXBgqC",
        "outputId": "70712db6-bbff-477c-9d1a-fc9801a5120b"
      },
      "outputs": [
        {
          "name": "stdout",
          "output_type": "stream",
          "text": [
            "                                                   body     class\n",
            "0     eBay Suspension\\neBay Suspension\\nNeed Help?\\n...  phishing\n",
            "1     Dear LaSalle Member,\\nAs part of our continuin...  phishing\n",
            "2       But I don't Pokemon in 1878 in 1874 Shall we...  phishing\n",
            "3     Dear eBay member,\\nDear eBay user,\\nDuring our...  phishing\n",
            "4     Dear valued customer\\nNeed Help?\\nWe regret to...  phishing\n",
            "...                                                 ...       ...\n",
            "3182  Dear NAFCU member,\\nAs part of our security me...  phishing\n",
            "3183  lay flog, me zing sell, net sick burr macepay ...  phishing\n",
            "3184  eBay\\nBilling \\n          confirmation center\\...  phishing\n",
            "3185  Dear Valued Customer\\nWe are committed to prot...  phishing\n",
            "3186  National Credit Union Administration  Notifica...  phishing\n",
            "\n",
            "[3187 rows x 2 columns]                                                    body       class\n",
            "0     use Perl Daily Headline MailerDynDNS.org Offer...  Safe Email\n",
            "1     conference on catalan studies ( linguistic sec...  Safe Email\n",
            "2     re : transwestern weekly report lindy - we rec...  Safe Email\n",
            "3     sum : dets and number about a month ago , i po...  Safe Email\n",
            "4     Mike Masnick wrote:\\n>Why is it that people do...  Safe Email\n",
            "...                                                 ...         ...\n",
            "3182  high frequency market data analysis stinson , ...  Safe Email\n",
            "3183  fw : mark boland - cv vince : tony vasut , ano...  Safe Email\n",
            "3184  re : meter 0980438 - acock production ? ? ? ? ...  Safe Email\n",
            "3185  [Barry]\\n> Here's an interesting thing to test...  Safe Email\n",
            "3186  Greetings from Geocaching.com -\\nRecent caches...  Safe Email\n",
            "\n",
            "[3118 rows x 2 columns]\n",
            "(6305, 2)\n",
            "Safe 3118\n",
            "Phishing 3187\n"
          ]
        }
      ],
      "source": [
        "\n",
        "import pandas as pd\n",
        "\n",
        "df_ph = pd.read_csv('body_and_class.csv')\n",
        "df_safe = pd.read_csv('safe_downsampled.csv')\n",
        "\n",
        "df_ph = df_ph.drop('Unnamed: 0', axis=1, errors='ignore')\n",
        "df_ph= df_ph.drop_duplicates()\n",
        "\n",
        "df_safe = df_safe.drop('Unnamed: 0', axis=1, errors='ignore')\n",
        "df_safe = df_safe.drop_duplicates()\n",
        "\n",
        "print(df_ph, df_safe)\n",
        "\n",
        "df_balanced = pd.concat([df_safe,df_ph])\n",
        "\n",
        "\n",
        "print(df_balanced.shape)\n",
        "df_balanced = df_balanced.sample(frac=1, random_state=42)\n",
        "\n",
        "df_balanced.groupby('class').describe()\n",
        "\n",
        "print(\"Safe\",len(df_safe))\n",
        "print(\"Phishing\",len(df_ph))"
      ]
    },
    {
      "cell_type": "code",
      "execution_count": 29,
      "metadata": {
        "colab": {
          "base_uri": "https://localhost:8080/"
        },
        "id": "RClLiTYLC_4X",
        "outputId": "1dcc0905-f539-48ff-c03e-1aacd526d112"
      },
      "outputs": [
        {
          "name": "stdout",
          "output_type": "stream",
          "text": [
            "3300\n"
          ]
        }
      ],
      "source": [
        "\n",
        "df_ph = df_balanced[df_balanced['class'] == 'phishing']\n",
        "df_safe = df_balanced[df_balanced['class'] == 'Safe Email']\n",
        "from sklearn.utils import resample\n",
        "df_ph_downsampled = resample(df_ph, replace=False, n_samples=300, random_state=42)\n",
        "df_safe_downsampled = resample(df_safe, replace=False, n_samples=3000, random_state=42)\n",
        "\n",
        "df_downsampled = pd.concat([df_ph_downsampled, df_safe_downsampled])\n",
        "\n",
        "df_downsampled = df_downsampled.sample(frac=1, random_state=42)\n",
        "print(len(df_downsampled))\n"
      ]
    },
    {
      "cell_type": "markdown",
      "metadata": {
        "id": "oKvZZCvYIekn"
      },
      "source": [
        "### **10% Phishing 90% Safe emails:**"
      ]
    },
    {
      "cell_type": "markdown",
      "metadata": {
        "id": "oppgiWyIIyH7"
      },
      "source": [
        "### Map:  Phishing => 1 . Safe => 0\n",
        "\n",
        "\n"
      ]
    },
    {
      "cell_type": "code",
      "execution_count": 30,
      "metadata": {
        "colab": {
          "base_uri": "https://localhost:8080/",
          "height": 206
        },
        "id": "bQ8FwbraIfMp",
        "outputId": "65cbfc95-4464-446e-d657-0413e441afc2"
      },
      "outputs": [
        {
          "data": {
            "text/html": [
              "<div>\n",
              "<style scoped>\n",
              "    .dataframe tbody tr th:only-of-type {\n",
              "        vertical-align: middle;\n",
              "    }\n",
              "\n",
              "    .dataframe tbody tr th {\n",
              "        vertical-align: top;\n",
              "    }\n",
              "\n",
              "    .dataframe thead th {\n",
              "        text-align: right;\n",
              "    }\n",
              "</style>\n",
              "<table border=\"1\" class=\"dataframe\">\n",
              "  <thead>\n",
              "    <tr style=\"text-align: right;\">\n",
              "      <th></th>\n",
              "      <th>body</th>\n",
              "      <th>class</th>\n",
              "      <th>phishing</th>\n",
              "    </tr>\n",
              "  </thead>\n",
              "  <tbody>\n",
              "    <tr>\n",
              "      <th>2894</th>\n",
              "      <td>Dear Customers!\\nIn\\nconnection with hard incr...</td>\n",
              "      <td>phishing</td>\n",
              "      <td>1</td>\n",
              "    </tr>\n",
              "    <tr>\n",
              "      <th>493</th>\n",
              "      <td>new book : language acquisition literacy devel...</td>\n",
              "      <td>Safe Email</td>\n",
              "      <td>0</td>\n",
              "    </tr>\n",
              "    <tr>\n",
              "      <th>2641</th>\n",
              "      <td>Lacking in a  _____\\n\\t     / ___ \\\\n\\t    / /...</td>\n",
              "      <td>Safe Email</td>\n",
              "      <td>0</td>\n",
              "    </tr>\n",
              "    <tr>\n",
              "      <th>2480</th>\n",
              "      <td>summary : chomsky 's \" single mutation \" a cou...</td>\n",
              "      <td>Safe Email</td>\n",
              "      <td>0</td>\n",
              "    </tr>\n",
              "    <tr>\n",
              "      <th>2512</th>\n",
              "      <td>romance ling davis , stuart @ napoli , donna j...</td>\n",
              "      <td>Safe Email</td>\n",
              "      <td>0</td>\n",
              "    </tr>\n",
              "  </tbody>\n",
              "</table>\n",
              "</div>"
            ],
            "text/plain": [
              "                                                   body       class  phishing\n",
              "2894  Dear Customers!\\nIn\\nconnection with hard incr...    phishing         1\n",
              "493   new book : language acquisition literacy devel...  Safe Email         0\n",
              "2641  Lacking in a  _____\\n\\t     / ___ \\\\n\\t    / /...  Safe Email         0\n",
              "2480  summary : chomsky 's \" single mutation \" a cou...  Safe Email         0\n",
              "2512  romance ling davis , stuart @ napoli , donna j...  Safe Email         0"
            ]
          },
          "execution_count": 30,
          "metadata": {},
          "output_type": "execute_result"
        }
      ],
      "source": [
        "\n",
        "df_downsampled['phishing']=df_downsampled['class'].apply(lambda x: 1 if x =='phishing' else 0)\n",
        "df_downsampled.sample(5)\n",
        "\n"
      ]
    },
    {
      "cell_type": "markdown",
      "metadata": {
        "id": "CPs7bDKSJcMo"
      },
      "source": [
        "### **Split it into training and test data set**"
      ]
    },
    {
      "cell_type": "code",
      "execution_count": 31,
      "metadata": {
        "colab": {
          "base_uri": "https://localhost:8080/"
        },
        "id": "OFDgCk6iJe6S",
        "outputId": "aaf3e40c-262b-475b-c0be-290cf6327e79"
      },
      "outputs": [
        {
          "data": {
            "text/plain": [
              "2641    Lacking in a  _____\\n\\t     / ___ \\\\n\\t    / /...\n",
              "148     On Thu, 2002-08-15 at 10:53, Erik Williamson w...\n",
              "3062    Another thing I see in debian but not in my RH...\n",
              "1185    [Tim]\\n> One effect of getting rid of MINCOUNT...\n",
              "Name: body, dtype: object"
            ]
          },
          "execution_count": 31,
          "metadata": {},
          "output_type": "execute_result"
        }
      ],
      "source": [
        "from sklearn.model_selection import train_test_split\n",
        "\n",
        "X_train, X_test, y_train, y_test = train_test_split(df_downsampled['body'],df_downsampled['phishing'],\n",
        "                                                    stratify=df_downsampled['phishing'],random_state=42,test_size=0.3)\n",
        "\n",
        "X_train.head(4)"
      ]
    },
    {
      "cell_type": "markdown",
      "metadata": {
        "id": "MW18OCo2KN8_"
      },
      "source": [
        "\n",
        "### **Using BERT model and get embeding vectors**\n"
      ]
    },
    {
      "cell_type": "code",
      "execution_count": 32,
      "metadata": {
        "id": "WjzdN_tFKTSL"
      },
      "outputs": [],
      "source": [
        "bert_preprocess = hub.KerasLayer(\"https://tfhub.dev/tensorflow/bert_en_uncased_preprocess/3\")\n",
        "bert_encoder = hub.KerasLayer(\"https://tfhub.dev/tensorflow/bert_en_uncased_L-12_H-768_A-12/4\")"
      ]
    },
    {
      "cell_type": "code",
      "execution_count": 33,
      "metadata": {
        "colab": {
          "base_uri": "https://localhost:8080/"
        },
        "id": "EwsPps6j2SKf",
        "outputId": "017b6ea2-9ee6-49bb-d4bd-3670f7d70329"
      },
      "outputs": [
        {
          "name": "stdout",
          "output_type": "stream",
          "text": [
            "Model: \"model_1\"\n",
            "__________________________________________________________________________________________________\n",
            " Layer (type)                   Output Shape         Param #     Connected to                     \n",
            "==================================================================================================\n",
            " text (InputLayer)              [(None,)]            0           []                               \n",
            "                                                                                                  \n",
            " keras_layer_2 (KerasLayer)     {'input_word_ids':   0           ['text[0][0]']                   \n",
            "                                (None, 128),                                                      \n",
            "                                 'input_type_ids':                                                \n",
            "                                (None, 128),                                                      \n",
            "                                 'input_mask': (Non                                               \n",
            "                                e, 128)}                                                          \n",
            "                                                                                                  \n",
            " keras_layer_3 (KerasLayer)     {'encoder_outputs':  109482241   ['keras_layer_2[0][0]',          \n",
            "                                 [(None, 128, 768),               'keras_layer_2[0][1]',          \n",
            "                                 (None, 128, 768),                'keras_layer_2[0][2]']          \n",
            "                                 (None, 128, 768),                                                \n",
            "                                 (None, 128, 768),                                                \n",
            "                                 (None, 128, 768),                                                \n",
            "                                 (None, 128, 768),                                                \n",
            "                                 (None, 128, 768),                                                \n",
            "                                 (None, 128, 768),                                                \n",
            "                                 (None, 128, 768),                                                \n",
            "                                 (None, 128, 768),                                                \n",
            "                                 (None, 128, 768),                                                \n",
            "                                 (None, 128, 768)],                                               \n",
            "                                 'pooled_output': (                                               \n",
            "                                None, 768),                                                       \n",
            "                                 'sequence_output':                                               \n",
            "                                 (None, 128, 768),                                                \n",
            "                                 'default': (None,                                                \n",
            "                                768)}                                                             \n",
            "                                                                                                  \n",
            " dropout (Dropout)              (None, 768)          0           ['keras_layer_3[0][13]']         \n",
            "                                                                                                  \n",
            " output (Dense)                 (None, 1)            769         ['dropout[0][0]']                \n",
            "                                                                                                  \n",
            "==================================================================================================\n",
            "Total params: 109,483,010\n",
            "Trainable params: 769\n",
            "Non-trainable params: 109,482,241\n",
            "__________________________________________________________________________________________________\n",
            "None\n"
          ]
        }
      ],
      "source": [
        "text_input= tf.keras.layers.Input(shape=(), dtype=tf.string, name=\"text\")\n",
        "preprocessed_text= bert_preprocess(text_input)\n",
        "outputs= bert_encoder(preprocessed_text)\n",
        "\n",
        "dropout_layer = tf.keras.layers.Dropout(0.1, name=\"dropout\")(outputs['pooled_output'])\n",
        "dense_layer = tf.keras.layers.Dense(1, activation='sigmoid', name=\"output\")(dropout_layer)\n",
        "\n",
        "\n",
        "model = tf.keras.Model(inputs=[text_input], outputs = [dense_layer])\n",
        "print( model.summary() )"
      ]
    },
    {
      "cell_type": "code",
      "execution_count": 34,
      "metadata": {
        "colab": {
          "base_uri": "https://localhost:8080/"
        },
        "id": "khb43u4E-25I",
        "outputId": "f483f01c-6f4d-42f0-b74d-d9e8f16a4bec"
      },
      "outputs": [
        {
          "data": {
            "text/plain": [
              "2310"
            ]
          },
          "execution_count": 34,
          "metadata": {},
          "output_type": "execute_result"
        }
      ],
      "source": [
        "len(X_train)"
      ]
    },
    {
      "cell_type": "code",
      "execution_count": 35,
      "metadata": {
        "id": "cuZnf-KYBSn6"
      },
      "outputs": [],
      "source": [
        "\n",
        "METRICS = [\n",
        "      tf.keras.metrics.BinaryAccuracy(name='accuracy'),\n",
        "      tf.keras.metrics.Precision(name='precision'),\n",
        "      tf.keras.metrics.Recall(name='recall')\n",
        "]\n",
        "\n",
        "model.compile(optimizer='adam',\n",
        "              loss='binary_crossentropy',\n",
        "              metrics=METRICS)\n",
        "\n"
      ]
    },
    {
      "cell_type": "markdown",
      "metadata": {
        "id": "X6VK-j4mBXCb"
      },
      "source": [
        "# **Model Train**"
      ]
    },
    {
      "cell_type": "code",
      "execution_count": 44,
      "metadata": {
        "colab": {
          "base_uri": "https://localhost:8080/"
        },
        "id": "Uq2C4qpBBa1m",
        "outputId": "352e9032-7bbd-4241-a7de-7c0fa62c81da"
      },
      "outputs": [
        {
          "name": "stdout",
          "output_type": "stream",
          "text": [
            "Epoch 1/10\n",
            "58/58 [==============================] - 29s 496ms/step - loss: 0.5283 - accuracy: 0.9194 - precision: 0.5267 - recall: 0.9024 - val_loss: 0.2785 - val_accuracy: 0.9394 - val_precision: 0.6324 - val_recall: 0.9348\n",
            "Epoch 2/10\n",
            "58/58 [==============================] - 27s 469ms/step - loss: 0.5200 - accuracy: 0.9058 - precision: 0.4837 - recall: 0.9024 - val_loss: 0.1742 - val_accuracy: 0.9697 - val_precision: 0.8200 - val_recall: 0.8913\n",
            "Epoch 3/10\n",
            "58/58 [==============================] - 26s 443ms/step - loss: 0.5255 - accuracy: 0.9242 - precision: 0.5465 - recall: 0.8598 - val_loss: 0.2987 - val_accuracy: 0.9177 - val_precision: 0.5500 - val_recall: 0.9565\n",
            "Epoch 4/10\n",
            "58/58 [==============================] - 27s 473ms/step - loss: 0.5129 - accuracy: 0.9091 - precision: 0.4934 - recall: 0.9085 - val_loss: 0.2876 - val_accuracy: 0.9199 - val_precision: 0.5570 - val_recall: 0.9565\n",
            "Epoch 5/10\n",
            "58/58 [==============================] - 29s 509ms/step - loss: 0.4864 - accuracy: 0.9221 - precision: 0.5362 - recall: 0.9024 - val_loss: 0.2539 - val_accuracy: 0.9459 - val_precision: 0.6615 - val_recall: 0.9348\n"
          ]
        },
        {
          "data": {
            "text/plain": [
              "\"\\n# Plotting the accuracy and validation accuracy\\nplt.subplot(1, 2, 1)\\nplt.plot(history.history['accuracy'])\\nplt.plot(history.history['val_accuracy'])\\nplt.title('Model Accuracy')\\nplt.xlabel('Epoch')\\nplt.ylabel('Accuracy')\\nplt.legend(['Train', 'Validation'], loc='upper left')\\nplt.show()\\n\""
            ]
          },
          "execution_count": 44,
          "metadata": {},
          "output_type": "execute_result"
        }
      ],
      "source": [
        "\n",
        "'''\n",
        "import numpy as np\n",
        "import matplotlib.pyplot as plt\n",
        "from sklearn.metrics import roc_auc_score, precision_recall_curve, auc\n",
        "from tensorflow.keras.callbacks import EarlyStopping, ModelCheckpoint\n",
        "\n",
        "X_train_preprocessed = np.array([str(sentence) for sentence in X_train])\n",
        "X_test_preprocessed = np.array([str(sentence) for sentence in X_test])\n",
        "\n",
        "\n",
        "early_stopping = EarlyStopping(monitor='val_loss', patience=3, restore_best_weights=True)\n",
        "checkpoint = ModelCheckpoint('best_model.h5', monitor='val_loss', save_best_only=True)\n",
        "\n",
        "class_weights = {0: 1, 1: 10}  # 0 corresponds to the majority class, and 1 corresponds to the minority class\n",
        "history = model.fit(X_train_preprocessed, y_train, epochs=10, validation_split=0.2, class_weight=class_weights, callbacks=[early_stopping, checkpoint])\n",
        "'''\n",
        "\n",
        "\n",
        "\n",
        "import numpy as np\n",
        "import matplotlib.pyplot as plt\n",
        "from sklearn.metrics import roc_auc_score, precision_recall_curve, auc\n",
        "from tensorflow.keras.callbacks import EarlyStopping, ModelCheckpoint\n",
        "from sklearn.model_selection import train_test_split\n",
        "\n",
        "# Convert Pandas Series to NumPy arrays\n",
        "X_train_preprocessed = np.array([str(sentence) for sentence in X_train])\n",
        "X_test_preprocessed = np.array([str(sentence) for sentence in X_test])\n",
        "y_train = np.array(y_train)\n",
        "\n",
        "# Splitting data into training and validation sets\n",
        "X_train_split, X_val_split, y_train_split, y_val_split = train_test_split(X_train_preprocessed, y_train, test_size=0.2, random_state=42)\n",
        "\n",
        "# Create TensorFlow datasets\n",
        "train_dataset = tf.data.Dataset.from_tensor_slices((X_train_split, y_train_split))\n",
        "val_dataset = tf.data.Dataset.from_tensor_slices((X_val_split, y_val_split))\n",
        "test_dataset = tf.data.Dataset.from_tensor_slices((X_test_preprocessed, y_test))\n",
        "\n",
        "test_df = pd.DataFrame({'X_test_preprocessed': X_test_preprocessed, 'y_test': y_test})\n",
        "test_df.to_csv('Bert_Test_Subset.csv', index=False)\n",
        "\n",
        "\n",
        "\n",
        "# Define batch size\n",
        "batch_size = 32\n",
        "\n",
        "# Shuffle and batch the datasets\n",
        "train_dataset = train_dataset.shuffle(buffer_size=len(X_train_split)).batch(batch_size)\n",
        "val_dataset = val_dataset.batch(batch_size)\n",
        "test_dataset = test_dataset.batch(batch_size)\n",
        "\n",
        "# Defining callbacks\n",
        "early_stopping = EarlyStopping(monitor='val_loss', patience=3, restore_best_weights=True)\n",
        "checkpoint = ModelCheckpoint('best_model.h5', monitor='val_loss', save_best_only=True)\n",
        "\n",
        "# Define class weights\n",
        "class_weights = {0: 1, 1: 10}  # Assuming binary classification\n",
        "\n",
        "# Fit the model\n",
        "history = model.fit(X_train_split, y_train_split, epochs=10, validation_data=(X_val_split, y_val_split), class_weight=class_weights, callbacks=[early_stopping, checkpoint])\n",
        "'''\n",
        "# Plotting the accuracy and validation accuracy\n",
        "plt.subplot(1, 2, 1)\n",
        "plt.plot(history.history['accuracy'])\n",
        "plt.plot(history.history['val_accuracy'])\n",
        "plt.title('Model Accuracy')\n",
        "plt.xlabel('Epoch')\n",
        "plt.ylabel('Accuracy')\n",
        "plt.legend(['Train', 'Validation'], loc='upper left')\n",
        "plt.show()\n",
        "'''"
      ]
    },
    {
      "cell_type": "markdown",
      "metadata": {},
      "source": [
        "# **Model Traning Evaluation**"
      ]
    },
    {
      "cell_type": "code",
      "execution_count": 45,
      "metadata": {
        "colab": {
          "base_uri": "https://localhost:8080/",
          "height": 472
        },
        "id": "6A8gcvKksdLF",
        "outputId": "477c5b21-bf69-45d5-9b6a-1b3bd7a1f066"
      },
      "outputs": [
        {
          "data": {
            "image/png": "[encoded data removed]",
            "text/plain": [
              "<Figure size 640x480 with 2 Axes>"
            ]
          },
          "metadata": {},
          "output_type": "display_data"
        }
      ],
      "source": [
        "plt.subplot(1, 2, 1)\n",
        "plt.plot(history.history['accuracy'])\n",
        "plt.plot(history.history['val_accuracy'])\n",
        "plt.title('Model Accuracy')\n",
        "plt.xlabel('Epoch')\n",
        "plt.ylabel('Accuracy')\n",
        "plt.legend(['Train', 'Validation'], loc='upper left')\n",
        "\n",
        "plt.subplot(1, 2, 2)\n",
        "plt.plot(history.history['loss'])\n",
        "plt.plot(history.history['val_loss'])\n",
        "plt.title('Model Loss')\n",
        "plt.xlabel('Epoch')\n",
        "plt.ylabel('Loss')\n",
        "plt.legend(['Train', 'Validation'], loc='upper left')\n",
        "\n",
        "plt.show()\n"
      ]
    },
    {
      "cell_type": "code",
      "execution_count": 46,
      "metadata": {
        "colab": {
          "base_uri": "https://localhost:8080/",
          "height": 599
        },
        "id": "j51fAFknsl7b",
        "outputId": "f2c1f22e-7a51-4fde-b4f7-58c03a543caf"
      },
      "outputs": [
        {
          "name": "stdout",
          "output_type": "stream",
          "text": [
            "31/31 [==============================] - 12s 368ms/step - loss: 0.1873 - accuracy: 0.9657 - precision: 0.8500 - recall: 0.7556\n",
            "31/31 [==============================] - 12s 366ms/step\n"
          ]
        },
        {
          "data": {
            "image/png": "[encoded data removed]",
            "text/plain": [
              "<Figure size 800x600 with 1 Axes>"
            ]
          },
          "metadata": {},
          "output_type": "display_data"
        }
      ],
      "source": [
        "\n",
        "# Evaluate model\n",
        "results = model.evaluate(test_dataset)\n",
        "\n",
        "# Predict probabilities for the test data\n",
        "y_pred = model.predict(test_dataset).ravel()\n",
        "\n",
        "# Calculate precision-recall curve\n",
        "precision, recall, _ = precision_recall_curve(y_test, y_pred)\n",
        "\n",
        "\n",
        "# Plot precision-recall curve\n",
        "plt.figure(figsize=(8, 6))\n",
        "plt.plot(recall, precision, color='blue', label='Precision-Recall curve')\n",
        "plt.xlabel('Recall')\n",
        "plt.ylabel('Precision')\n",
        "plt.title('Precision-Recall Curve')\n",
        "plt.legend()\n",
        "plt.show()\n",
        "\n"
      ]
    },
    {
      "cell_type": "code",
      "execution_count": 47,
      "metadata": {
        "colab": {
          "base_uri": "https://localhost:8080/"
        },
        "id": "iKLQVYbQsmqQ",
        "outputId": "cb27107a-184d-4d9b-bf5d-354775959122"
      },
      "outputs": [
        {
          "name": "stdout",
          "output_type": "stream",
          "text": [
            "AUC-PR: 0.8537782283225558\n"
          ]
        }
      ],
      "source": [
        "auc_pr = auc(recall, precision)\n",
        "print(f'AUC-PR: {auc_pr}')"
      ]
    },
    {
      "cell_type": "code",
      "execution_count": 48,
      "metadata": {
        "colab": {
          "base_uri": "https://localhost:8080/"
        },
        "id": "0sZ0dbhIsv50",
        "outputId": "0049f66c-8c93-4f38-dbb3-f16dae99350f"
      },
      "outputs": [
        {
          "name": "stdout",
          "output_type": "stream",
          "text": [
            "Accuracy: 0.965656578540802\n",
            "Precision: 0.8500000238418579\n",
            "Recall: 0.7555555701255798\n"
          ]
        }
      ],
      "source": [
        "accuracy = results[model.metrics_names.index('accuracy')]\n",
        "precision = results[model.metrics_names.index('precision')]\n",
        "recall = results[model.metrics_names.index('recall')]\n",
        "\n",
        "print(f'Accuracy: {accuracy}')\n",
        "print(f'Precision: {precision}')\n",
        "print(f'Recall: {recall}')"
      ]
    },
    {
      "cell_type": "markdown",
      "metadata": {},
      "source": [
        "# **Model Saving**"
      ]
    },
    {
      "cell_type": "code",
      "execution_count": null,
      "metadata": {
        "colab": {
          "base_uri": "https://localhost:8080/",
          "height": 1000
        },
        "id": "Ghwkod1c0Zeg",
        "outputId": "30e87621-d030-487f-cc6b-6825af0efaab"
      },
      "outputs": [
        {
          "name": "stdout",
          "output_type": "stream",
          "text": [
            "Model saved successfully at: my_model.h5\n"
          ]
        }
      ],
      "source": [
        "# Assuming your model is already trained and stored in the variable 'model'\n",
        "\n",
        "# Define the file path where you want to save your model\n",
        "model_path = 'my_model.h5'\n",
        "\n",
        "# Save the model\n",
        "model.save(model_path)\n",
        "\n",
        "print(\"Model saved successfully at:\", model_path)\n",
        "\n"
      ]
    },
    {
      "cell_type": "markdown",
      "metadata": {},
      "source": [
        "# **Modle Loading**"
      ]
    },
    {
      "cell_type": "code",
      "execution_count": null,
      "metadata": {},
      "outputs": [
        {
          "ename": "ValueError",
          "evalue": "Unknown layer: KerasLayer. Please ensure this object is passed to the `custom_objects` argument. See https://www.tensorflow.org/guide/keras/save_and_serialize#registering_the_custom_object for details.",
          "output_type": "error",
          "traceback": [
            "\u001b[1;31m---------------------------------------------------------------------------\u001b[0m",
            "\u001b[1;31mValueError\u001b[0m                                Traceback (most recent call last)",
            "Cell \u001b[1;32mIn[9], line 12\u001b[0m\n\u001b[0;32m      4\u001b[0m \u001b[38;5;28;01mfrom\u001b[39;00m \u001b[38;5;21;01mtensorflow\u001b[39;00m\u001b[38;5;21;01m.\u001b[39;00m\u001b[38;5;21;01mkeras\u001b[39;00m\u001b[38;5;21;01m.\u001b[39;00m\u001b[38;5;21;01mpreprocessing\u001b[39;00m\u001b[38;5;21;01m.\u001b[39;00m\u001b[38;5;21;01msequence\u001b[39;00m \u001b[38;5;28;01mimport\u001b[39;00m pad_sequences\n\u001b[0;32m      6\u001b[0m \u001b[38;5;66;03m# Load the saved model\u001b[39;00m\n\u001b[0;32m      7\u001b[0m \n\u001b[0;32m      8\u001b[0m \n\u001b[0;32m      9\u001b[0m \u001b[38;5;66;03m# Load the saved model\u001b[39;00m\n\u001b[0;32m     10\u001b[0m \u001b[38;5;66;03m#model_path = 'my_model_best_acc_95.h5'\u001b[39;00m\n\u001b[1;32m---> 12\u001b[0m loaded_model \u001b[38;5;241m=\u001b[39m \u001b[43mload_model\u001b[49m\u001b[43m(\u001b[49m\u001b[38;5;124;43m'\u001b[39;49m\u001b[38;5;124;43mmy_model_best_acc_95.h5\u001b[39;49m\u001b[38;5;124;43m'\u001b[39;49m\u001b[43m)\u001b[49m\n\u001b[0;32m     14\u001b[0m tokenizer \u001b[38;5;241m=\u001b[39m Tokenizer()\n\u001b[0;32m     15\u001b[0m tokenizer\u001b[38;5;241m.\u001b[39mfit_on_texts(input_text)\n",
            "File \u001b[1;32mc:\\Users\\pc\\anaconda3\\envs\\tf\\lib\\site-packages\\keras\\utils\\traceback_utils.py:70\u001b[0m, in \u001b[0;36mfilter_traceback.<locals>.error_handler\u001b[1;34m(*args, **kwargs)\u001b[0m\n\u001b[0;32m     67\u001b[0m     filtered_tb \u001b[38;5;241m=\u001b[39m _process_traceback_frames(e\u001b[38;5;241m.\u001b[39m__traceback__)\n\u001b[0;32m     68\u001b[0m     \u001b[38;5;66;03m# To get the full stack trace, call:\u001b[39;00m\n\u001b[0;32m     69\u001b[0m     \u001b[38;5;66;03m# `tf.debugging.disable_traceback_filtering()`\u001b[39;00m\n\u001b[1;32m---> 70\u001b[0m     \u001b[38;5;28;01mraise\u001b[39;00m e\u001b[38;5;241m.\u001b[39mwith_traceback(filtered_tb) \u001b[38;5;28;01mfrom\u001b[39;00m \u001b[38;5;28;01mNone\u001b[39;00m\n\u001b[0;32m     71\u001b[0m \u001b[38;5;28;01mfinally\u001b[39;00m:\n\u001b[0;32m     72\u001b[0m     \u001b[38;5;28;01mdel\u001b[39;00m filtered_tb\n",
            "File \u001b[1;32mc:\\Users\\pc\\anaconda3\\envs\\tf\\lib\\site-packages\\keras\\utils\\generic_utils.py:605\u001b[0m, in \u001b[0;36mclass_and_config_for_serialized_keras_object\u001b[1;34m(config, module_objects, custom_objects, printable_module_name)\u001b[0m\n\u001b[0;32m    603\u001b[0m \u001b[38;5;28mcls\u001b[39m \u001b[38;5;241m=\u001b[39m get_registered_object(class_name, custom_objects, module_objects)\n\u001b[0;32m    604\u001b[0m \u001b[38;5;28;01mif\u001b[39;00m \u001b[38;5;28mcls\u001b[39m \u001b[38;5;129;01mis\u001b[39;00m \u001b[38;5;28;01mNone\u001b[39;00m:\n\u001b[1;32m--> 605\u001b[0m     \u001b[38;5;28;01mraise\u001b[39;00m \u001b[38;5;167;01mValueError\u001b[39;00m(\n\u001b[0;32m    606\u001b[0m         \u001b[38;5;124mf\u001b[39m\u001b[38;5;124m\"\u001b[39m\u001b[38;5;124mUnknown \u001b[39m\u001b[38;5;132;01m{\u001b[39;00mprintable_module_name\u001b[38;5;132;01m}\u001b[39;00m\u001b[38;5;124m: \u001b[39m\u001b[38;5;132;01m{\u001b[39;00mclass_name\u001b[38;5;132;01m}\u001b[39;00m\u001b[38;5;124m. \u001b[39m\u001b[38;5;124m\"\u001b[39m\n\u001b[0;32m    607\u001b[0m         \u001b[38;5;124m\"\u001b[39m\u001b[38;5;124mPlease ensure this \u001b[39m\u001b[38;5;124m\"\u001b[39m\n\u001b[0;32m    608\u001b[0m         \u001b[38;5;124m\"\u001b[39m\u001b[38;5;124mobject is passed to the `custom_objects` argument. See \u001b[39m\u001b[38;5;124m\"\u001b[39m\n\u001b[0;32m    609\u001b[0m         \u001b[38;5;124m\"\u001b[39m\u001b[38;5;124mhttps://www.tensorflow.org/guide/keras/save_and_serialize\u001b[39m\u001b[38;5;124m\"\u001b[39m\n\u001b[0;32m    610\u001b[0m         \u001b[38;5;124m\"\u001b[39m\u001b[38;5;124m#registering_the_custom_object for details.\u001b[39m\u001b[38;5;124m\"\u001b[39m\n\u001b[0;32m    611\u001b[0m     )\n\u001b[0;32m    613\u001b[0m cls_config \u001b[38;5;241m=\u001b[39m config[\u001b[38;5;124m\"\u001b[39m\u001b[38;5;124mconfig\u001b[39m\u001b[38;5;124m\"\u001b[39m]\n\u001b[0;32m    614\u001b[0m \u001b[38;5;66;03m# Check if `cls_config` is a list. If it is a list, return the class and the\u001b[39;00m\n\u001b[0;32m    615\u001b[0m \u001b[38;5;66;03m# associated class configs for recursively deserialization. This case will\u001b[39;00m\n\u001b[0;32m    616\u001b[0m \u001b[38;5;66;03m# happen on the old version of sequential model (e.g. `keras_version` ==\u001b[39;00m\n\u001b[0;32m    617\u001b[0m \u001b[38;5;66;03m# \"2.0.6\"), which is serialized in a different structure, for example\u001b[39;00m\n\u001b[0;32m    618\u001b[0m \u001b[38;5;66;03m# \"{'class_name': 'Sequential',\u001b[39;00m\n\u001b[0;32m    619\u001b[0m \u001b[38;5;66;03m#   'config': [{'class_name': 'Embedding', 'config': ...}, {}, ...]}\".\u001b[39;00m\n",
            "\u001b[1;31mValueError\u001b[0m: Unknown layer: KerasLayer. Please ensure this object is passed to the `custom_objects` argument. See https://www.tensorflow.org/guide/keras/save_and_serialize#registering_the_custom_object for details."
          ]
        }
      ],
      "source": [
        "import tensorflow as tf\n",
        "from tensorflow.keras.models import load_model\n",
        "from tensorflow.keras.preprocessing.text import Tokenizer\n",
        "from tensorflow.keras.preprocessing.sequence import pad_sequences\n",
        "\n",
        "# Load the saved model\n",
        "\n",
        "\n",
        "# Load the saved model\n",
        "#model_path = 'my_model_best_acc_95.h5'\n",
        "\n",
        "loaded_model = load_model('my_model_best_acc_95.h5')\n",
        "\n",
        "\n",
        "\n",
        "# Make predictions using the loaded model\n",
        "y_pred = loaded_model.predict([\"Phishing, you will 10k dollars from this email, just click the link.\"])\n",
        "\n",
        "print(y_pred)\n",
        "# Convert probabilities to class labels (assuming binary classification)\n",
        "accuracy = results[loaded_model.metrics_names.index('accuracy')]\n",
        "precision = results[loaded_model.metrics_names.index('precision')]\n",
        "recall = results[loaded_model.metrics_names.index('recall')]\n",
        "\n",
        "print(f'Accuracy: {accuracy}')\n",
        "print(f'Precision: {precision}')\n",
        "print(f'Recall: {recall}')\n"
      ]
    }
  ],
  "metadata": {
    "colab": {
      "provenance": []
    },
    "kernelspec": {
      "display_name": "Python 3",
      "name": "python3"
    },
    "language_info": {
      "codemirror_mode": {
        "name": "ipython",
        "version": 3
      },
      "file_extension": ".py",
      "mimetype": "text/x-python",
      "name": "python",
      "nbconvert_exporter": "python",
      "pygments_lexer": "ipython3",
      "version": "3.9.19"
    }
  },
  "nbformat": 4,
  "nbformat_minor": 0
}
