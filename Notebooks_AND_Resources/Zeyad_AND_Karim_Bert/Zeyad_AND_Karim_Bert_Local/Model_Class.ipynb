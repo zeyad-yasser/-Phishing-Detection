{
 "cells": [
  {
   "cell_type": "code",
   "execution_count": 15,
   "metadata": {},
   "outputs": [
    {
     "name": "stdout",
     "output_type": "stream",
     "text": [
      "1/1 [==============================] - 1s 1s/step\n",
      "Prediction: Phishing\n"
     ]
    }
   ],
   "source": [
    "import tensorflow as tf\n",
    "import numpy as np\n",
    "import tensorflow_hub as hub\n",
    "import tensorflow_text\n",
    "\n",
    "class PhishingDetectionModel:\n",
    "    def __init__(self, model_path='best_model.h5'):\n",
    "        self.loaded_model = tf.keras.models.load_model(model_path, custom_objects={'KerasLayer': hub.KerasLayer})\n",
    "    \n",
    "    def predict(self, email_body):\n",
    "        email_body_preprocessed = np.array([str(email_body)])\n",
    "        prediction = \"Phishing\" if self.loaded_model.predict(email_body_preprocessed) > 0.5 else \"Safe\"\n",
    "        return prediction\n",
    "\n",
    "model = PhishingDetectionModel()\n",
    "email_body = \"\"\"eBay Suspension\n",
    "Need Help?\n",
    "Dear valued eBay member,\n",
    "During our regularly scheduled account maintenance and verification procedures, we \n",
    "have detected a slight error in your billing information.\n",
    "This might be due to either of the following reasons:\n",
    "1. A recent change in your personal information ( i.e.change of address).\n",
    "2. Submiting invalid information during the initial sign up process.\n",
    "3. An inability to accurately verify your selected option of payment due to an \n",
    "internal error within our processors.\n",
    "Once you have updated your account records your eBay session will not be\n",
    "interrupted and will\n",
    "continue as normal.\n",
    "To update your eBay records click on the following link:\n",
    "http://cgi1.ebay.com/aw-cgi/ebayISAPI.dll?UPdate\n",
    "If your account information is not updated within 48 hours then your ability to use \n",
    "eBay will become restricted.\n",
    "Regards,\n",
    "Safeharbor Department\n",
    "eBay, Inc.\n",
    "Copyright   \n",
    "1995-2005 eBay Inc. All Rights Reserved.\n",
    "Designated trademarks and brands\n",
    "are the property of their respective owners.\n",
    "Use of this Web site\n",
    "constitutes acceptance of the eBay\n",
    "User\n",
    "Agreement\n",
    "and\n",
    "Privacy\n",
    "Policy\"\"\"\n",
    "prediction = model.predict(email_body)\n",
    "print(\"Prediction:\", prediction)"
   ]
  }
 ],
 "metadata": {
  "kernelspec": {
   "display_name": "tf",
   "language": "python",
   "name": "python3"
  },
  "language_info": {
   "codemirror_mode": {
    "name": "ipython",
    "version": 3
   },
   "file_extension": ".py",
   "mimetype": "text/x-python",
   "name": "python",
   "nbconvert_exporter": "python",
   "pygments_lexer": "ipython3",
   "version": "3.9.18"
  }
 },
 "nbformat": 4,
 "nbformat_minor": 2
}
