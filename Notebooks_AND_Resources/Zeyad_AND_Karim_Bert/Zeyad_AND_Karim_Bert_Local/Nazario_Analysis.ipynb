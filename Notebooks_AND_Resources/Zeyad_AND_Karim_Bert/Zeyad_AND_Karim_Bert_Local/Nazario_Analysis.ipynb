{
  "nbformat": 4,
  "nbformat_minor": 0,
  "metadata": {
    "colab": {
      "provenance": []
    },
    "kernelspec": {
      "name": "python3",
      "display_name": "Python 3"
    },
    "language_info": {
      "name": "python"
    }
  },
  "cells": [
    {
      "cell_type": "code",
      "source": [
        "!pip install py-readability-metrics\n",
        "!pip install language-tool-python"
      ],
      "metadata": {
        "colab": {
          "base_uri": "https://localhost:8080/"
        },
        "id": "qfOippoWSPmu",
        "outputId": "4a6500b1-07fa-491f-dccb-519c55e30fda"
      },
      "execution_count": 1,
      "outputs": [
        {
          "output_type": "stream",
          "name": "stdout",
          "text": [
            "Requirement already satisfied: py-readability-metrics in /usr/local/lib/python3.10/dist-packages (1.4.5)\n",
            "Requirement already satisfied: nltk in /usr/local/lib/python3.10/dist-packages (from py-readability-metrics) (3.8.1)\n",
            "Requirement already satisfied: click in /usr/local/lib/python3.10/dist-packages (from nltk->py-readability-metrics) (8.1.7)\n",
            "Requirement already satisfied: joblib in /usr/local/lib/python3.10/dist-packages (from nltk->py-readability-metrics) (1.3.2)\n",
            "Requirement already satisfied: regex>=2021.8.3 in /usr/local/lib/python3.10/dist-packages (from nltk->py-readability-metrics) (2023.12.25)\n",
            "Requirement already satisfied: tqdm in /usr/local/lib/python3.10/dist-packages (from nltk->py-readability-metrics) (4.66.2)\n",
            "Requirement already satisfied: language-tool-python in /usr/local/lib/python3.10/dist-packages (2.7.3)\n",
            "Requirement already satisfied: requests in /usr/local/lib/python3.10/dist-packages (from language-tool-python) (2.31.0)\n",
            "Requirement already satisfied: tqdm in /usr/local/lib/python3.10/dist-packages (from language-tool-python) (4.66.2)\n",
            "Requirement already satisfied: charset-normalizer<4,>=2 in /usr/local/lib/python3.10/dist-packages (from requests->language-tool-python) (3.3.2)\n",
            "Requirement already satisfied: idna<4,>=2.5 in /usr/local/lib/python3.10/dist-packages (from requests->language-tool-python) (3.6)\n",
            "Requirement already satisfied: urllib3<3,>=1.21.1 in /usr/local/lib/python3.10/dist-packages (from requests->language-tool-python) (2.0.7)\n",
            "Requirement already satisfied: certifi>=2017.4.17 in /usr/local/lib/python3.10/dist-packages (from requests->language-tool-python) (2024.2.2)\n"
          ]
        }
      ]
    },
    {
      "cell_type": "code",
      "source": [
        "import nltk\n",
        "from statistics import mean\n",
        "from nltk.tokenize import word_tokenize, sent_tokenize\n",
        "from string import punctuation\n",
        "import pandas as pd\n",
        "import numpy as np\n",
        "from readability import Readability\n",
        "import re\n",
        "import language_tool_python\n",
        "nltk.download('punkt')\n",
        "\n",
        "char_count = []\n",
        "line_count = []\n",
        "special_char_count = []\n",
        "word_count = []\n",
        "unique_word_count = []\n",
        "sentence_count = []\n",
        "avg_word_length = []\n",
        "avg_sentence_length_chars = []\n",
        "avg_sentence_length_words = []\n",
        "std_sentence_length_chars = []\n",
        "std_sentence_length_words = []\n",
        "min_sentence_length_chars = []\n",
        "min_sentence_length_words = []\n",
        "max_sentence_length_chars = []\n",
        "max_sentence_length_words = []\n",
        "alpha_token_ratio = []\n"
      ],
      "metadata": {
        "colab": {
          "base_uri": "https://localhost:8080/"
        },
        "id": "T622yLIydMMM",
        "outputId": "8e0bca13-6fc1-4432-f5ca-f76e04bd5bfd"
      },
      "execution_count": 61,
      "outputs": [
        {
          "output_type": "stream",
          "name": "stderr",
          "text": [
            "[nltk_data] Downloading package punkt to /root/nltk_data...\n",
            "[nltk_data]   Package punkt is already up-to-date!\n"
          ]
        }
      ]
    },
    {
      "cell_type": "code",
      "source": [
        "df = pd.read_csv('Nazario.csv')"
      ],
      "metadata": {
        "id": "WD3Cl8apRidl"
      },
      "execution_count": 62,
      "outputs": []
    },
    {
      "cell_type": "code",
      "source": [
        "df.dropna(inplace=True)"
      ],
      "metadata": {
        "id": "0visVVbNtf-A"
      },
      "execution_count": 63,
      "outputs": []
    },
    {
      "cell_type": "code",
      "source": [
        "for index, row in df.iterrows():\n",
        "    text = str(row['body'])\n",
        "    tokens = word_tokenize(text)\n",
        "    sentences = sent_tokenize(text)\n",
        "\n",
        "    char_count.append(len(text))\n",
        "    line_count.append(len(text.splitlines()))\n",
        "    special_char_count.append(sum(text.count(char) for char in punctuation))\n",
        "    word_count.append(len(tokens))\n",
        "    unique_word_count.append(len(set(tokens)))\n",
        "    sentence_count.append(len(sentences))\n",
        "\n",
        "    avg_sentence_length_chars = [len(sentence) for sentence in sentences]\n",
        "    avg_sentence_length_words = [len(word_tokenize(sentence)) for sentence in sentences]\n",
        "\n",
        "    min_sentence_length_chars.append(min(len(sentence) for sentence in sentences))\n",
        "    min_sentence_length_words.append(min(len(word_tokenize(sentence)) for sentence in sentences))\n",
        "\n",
        "    max_sentence_length_chars.append(max(len(sentence) for sentence in sentences))\n",
        "    max_sentence_length_words.append(max(len(word_tokenize(sentence)) for sentence in sentences))\n",
        "\n",
        "    alpha_token_ratio.append(sum(1 for token in tokens if token.isalpha()) / len(tokens))"
      ],
      "metadata": {
        "id": "YQKCcrjQUL0U"
      },
      "execution_count": 64,
      "outputs": []
    },
    {
      "cell_type": "code",
      "source": [
        "average_values = {\n",
        "    'Char Count': sum(char_count),\n",
        "    'Line Count': sum(line_count),\n",
        "    'Special Char Count': sum(special_char_count),\n",
        "    'Token Length': sum(word_count),\n",
        "    'Unique Word Count': sum(unique_word_count),\n",
        "    'Sentence Count': sum(sentence_count),\n",
        "    'Average Char Count': mean(char_count),\n",
        "    'Average Line Count': mean(line_count),\n",
        "    'Average Special Char Count': mean(special_char_count),\n",
        "    'Average Token Length': mean(word_count),\n",
        "    'Average Unique Word Count': mean(unique_word_count),\n",
        "    'Average Sentence Count': mean(sentence_count),\n",
        "    'Average Sentence Length (Chars)': mean(avg_sentence_length_chars),\n",
        "    'Average Sentence Length (Words)': mean(avg_sentence_length_words),\n",
        "    'Minimum Sentence Length (Chars)': mean(min_sentence_length_chars),\n",
        "    'Minimum Sentence Length (Words)': mean(min_sentence_length_words),\n",
        "    'Maximum Sentence Length (Chars)': mean(max_sentence_length_chars),\n",
        "    'Maximum Sentence Length (Words)': mean(max_sentence_length_words),\n",
        "}\n",
        "\n",
        "for feature, value in average_values.items():\n",
        "    print(f'{feature}: {int(value)}')\n",
        "print('Alpha Token Ratio: ', mean(alpha_token_ratio))"
      ],
      "metadata": {
        "colab": {
          "base_uri": "https://localhost:8080/"
        },
        "id": "KHCarEWQtlZs",
        "outputId": "f53ff181-0e32-489e-d9ce-2a88e5843242"
      },
      "execution_count": 71,
      "outputs": [
        {
          "output_type": "stream",
          "name": "stdout",
          "text": [
            "Char Count: 5835246\n",
            "Line Count: 124758\n",
            "Special Char Count: 504291\n",
            "Token Length: 1047024\n",
            "Unique Word Count: 373299\n",
            "Sentence Count: 31699\n",
            "Average Char Count: 2477\n",
            "Average Line Count: 52\n",
            "Average Special Char Count: 214\n",
            "Average Token Length: 444\n",
            "Average Unique Word Count: 158\n",
            "Average Sentence Count: 13\n",
            "Average Sentence Length (Chars): 161\n",
            "Average Sentence Length (Words): 25\n",
            "Minimum Sentence Length (Chars): 77\n",
            "Minimum Sentence Length (Words): 15\n",
            "Maximum Sentence Length (Chars): 618\n",
            "Maximum Sentence Length (Words): 108\n",
            "Alpha Token Ratio:  0.7724312920600949\n"
          ]
        }
      ]
    }
  ]
}