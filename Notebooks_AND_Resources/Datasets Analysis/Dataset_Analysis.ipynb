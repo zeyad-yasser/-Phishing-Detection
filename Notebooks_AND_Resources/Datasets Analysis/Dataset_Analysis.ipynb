{
  "cells": [
    {
      "cell_type": "code",
      "execution_count": null,
      "metadata": {
        "colab": {
          "base_uri": "https://localhost:8080/"
        },
        "id": "qfOippoWSPmu",
        "outputId": "de8c42c9-56e7-4fbc-9b5e-77950bb3d837"
      },
      "outputs": [
        {
          "name": "stdout",
          "output_type": "stream",
          "text": [
            "Collecting py-readability-metrics\n",
            "  Downloading py_readability_metrics-1.4.5-py3-none-any.whl (26 kB)\n",
            "Requirement already satisfied: nltk in /usr/local/lib/python3.10/dist-packages (from py-readability-metrics) (3.8.1)\n",
            "Requirement already satisfied: click in /usr/local/lib/python3.10/dist-packages (from nltk->py-readability-metrics) (8.1.7)\n",
            "Requirement already satisfied: joblib in /usr/local/lib/python3.10/dist-packages (from nltk->py-readability-metrics) (1.4.2)\n",
            "Requirement already satisfied: regex>=2021.8.3 in /usr/local/lib/python3.10/dist-packages (from nltk->py-readability-metrics) (2024.5.15)\n",
            "Requirement already satisfied: tqdm in /usr/local/lib/python3.10/dist-packages (from nltk->py-readability-metrics) (4.66.4)\n",
            "Installing collected packages: py-readability-metrics\n",
            "Successfully installed py-readability-metrics-1.4.5\n",
            "Collecting language-tool-python\n",
            "  Downloading language_tool_python-2.8-py3-none-any.whl (35 kB)\n",
            "Requirement already satisfied: pip in /usr/local/lib/python3.10/dist-packages (from language-tool-python) (23.1.2)\n",
            "Requirement already satisfied: requests in /usr/local/lib/python3.10/dist-packages (from language-tool-python) (2.31.0)\n",
            "Requirement already satisfied: tqdm in /usr/local/lib/python3.10/dist-packages (from language-tool-python) (4.66.4)\n",
            "Requirement already satisfied: wheel in /usr/local/lib/python3.10/dist-packages (from language-tool-python) (0.43.0)\n",
            "Requirement already satisfied: charset-normalizer<4,>=2 in /usr/local/lib/python3.10/dist-packages (from requests->language-tool-python) (3.3.2)\n",
            "Requirement already satisfied: idna<4,>=2.5 in /usr/local/lib/python3.10/dist-packages (from requests->language-tool-python) (3.7)\n",
            "Requirement already satisfied: urllib3<3,>=1.21.1 in /usr/local/lib/python3.10/dist-packages (from requests->language-tool-python) (2.0.7)\n",
            "Requirement already satisfied: certifi>=2017.4.17 in /usr/local/lib/python3.10/dist-packages (from requests->language-tool-python) (2024.6.2)\n",
            "Installing collected packages: language-tool-python\n",
            "Successfully installed language-tool-python-2.8\n"
          ]
        }
      ],
      "source": [
        "!pip install py-readability-metrics\n",
        "!pip install language-tool-python"
      ]
    },
    {
      "cell_type": "code",
      "execution_count": null,
      "metadata": {
        "colab": {
          "base_uri": "https://localhost:8080/"
        },
        "id": "T622yLIydMMM",
        "outputId": "0e3822e8-3fff-4c61-d066-edd6981eeefb"
      },
      "outputs": [
        {
          "name": "stderr",
          "output_type": "stream",
          "text": [
            "[nltk_data] Downloading package punkt to /root/nltk_data...\n",
            "[nltk_data]   Unzipping tokenizers/punkt.zip.\n"
          ]
        }
      ],
      "source": [
        "import nltk\n",
        "from statistics import mean\n",
        "from nltk.tokenize import word_tokenize, sent_tokenize\n",
        "from string import punctuation\n",
        "import pandas as pd\n",
        "import numpy as np\n",
        "from readability import Readability\n",
        "import re\n",
        "import language_tool_python\n",
        "nltk.download('punkt')\n",
        "\n",
        "char_count = []\n",
        "line_count = []\n",
        "special_char_count = []\n",
        "word_count = []\n",
        "unique_word_count = []\n",
        "sentence_count = []\n",
        "avg_word_length = []\n",
        "avg_sentence_length_chars = []\n",
        "avg_sentence_length_words = []\n",
        "std_sentence_length_chars = []\n",
        "std_sentence_length_words = []\n",
        "min_sentence_length_chars = []\n",
        "min_sentence_length_words = []\n",
        "max_sentence_length_chars = []\n",
        "max_sentence_length_words = []\n",
        "alpha_token_ratio = []\n"
      ]
    },
    {
      "cell_type": "code",
      "execution_count": null,
      "metadata": {
        "id": "WD3Cl8apRidl"
      },
      "outputs": [],
      "source": [
        "df = pd.read_csv('spam_assassin.csv')"
      ]
    },
    {
      "cell_type": "code",
      "execution_count": null,
      "metadata": {
        "id": "0visVVbNtf-A"
      },
      "outputs": [],
      "source": [
        "df.dropna(inplace=True)"
      ]
    },
    {
      "cell_type": "code",
      "execution_count": null,
      "metadata": {
        "id": "YQKCcrjQUL0U"
      },
      "outputs": [],
      "source": [
        "for index, row in df.iterrows():\n",
        "    text = str(row['text'])\n",
        "    tokens = word_tokenize(text)\n",
        "    sentences = sent_tokenize(text)\n",
        "\n",
        "    char_count.append(len(text))\n",
        "    line_count.append(len(text.splitlines()))\n",
        "    special_char_count.append(sum(text.count(char) for char in punctuation))\n",
        "    word_count.append(len(tokens))\n",
        "    unique_word_count.append(len(set(tokens)))\n",
        "    sentence_count.append(len(sentences))\n",
        "\n",
        "    if sentences:  \n",
        "        min_sentence_length_chars.append(min(len(sentence) for sentence in sentences))\n",
        "        min_sentence_length_words.append(min(len(word_tokenize(sentence)) for sentence in sentences))\n",
        "\n",
        "        max_sentence_length_chars.append(max(len(sentence) for sentence in sentences))\n",
        "        max_sentence_length_words.append(max(len(word_tokenize(sentence)) for sentence in sentences))\n",
        "\n",
        "        avg_sentence_length_chars = [len(sentence) for sentence in sentences]\n",
        "        avg_sentence_length_words = [len(word_tokenize(sentence)) for sentence in sentences]\n",
        "\n",
        "    else:\n",
        "        min_sentence_length_chars.append(0)\n",
        "        min_sentence_length_words.append(0)\n",
        "        max_sentence_length_chars.append(0)\n",
        "        max_sentence_length_words.append(0)\n",
        "        avg_sentence_length_chars = []\n",
        "        avg_sentence_length_words = []\n",
        "\n",
        "    if tokens:  \n",
        "        alpha_token_ratio.append(sum(1 for token in tokens if token.isalpha()) / len(tokens))\n",
        "    else:\n",
        "        alpha_token_ratio.append(0.0) \n"
      ]
    },
    {
      "cell_type": "code",
      "execution_count": null,
      "metadata": {
        "colab": {
          "base_uri": "https://localhost:8080/"
        },
        "id": "KHCarEWQtlZs",
        "outputId": "4e2b782f-b56f-4ba1-cca3-6aea4e164287"
      },
      "outputs": [
        {
          "name": "stdout",
          "output_type": "stream",
          "text": [
            "Char Count: 24329134\n",
            "Line Count: 5796\n",
            "Special Char Count: 3313357\n",
            "Token Length: 4700301\n",
            "Unique Word Count: 1553556\n",
            "Sentence Count: 73641\n",
            "Average Char Count: 4197\n",
            "Average Line Count: 1\n",
            "Average Special Char Count: 571\n",
            "Average Token Length: 810\n",
            "Average Unique Word Count: 268\n",
            "Average Sentence Count: 12\n",
            "Average Sentence Length (Chars): 541\n",
            "Average Sentence Length (Words): 98\n",
            "Minimum Sentence Length (Chars): 189\n",
            "Minimum Sentence Length (Words): 34\n",
            "Maximum Sentence Length (Chars): 2210\n",
            "Maximum Sentence Length (Words): 399\n",
            "Alpha Token Ratio:  0.42038795663290146\n"
          ]
        }
      ],
      "source": [
        "average_values = {\n",
        "    'Char Count': sum(char_count),\n",
        "    'Line Count': sum(line_count),\n",
        "    'Special Char Count': sum(special_char_count),\n",
        "    'Token Length': sum(word_count),\n",
        "    'Unique Word Count': sum(unique_word_count),\n",
        "    'Sentence Count': sum(sentence_count),\n",
        "    'Average Char Count': mean(char_count),\n",
        "    'Average Line Count': mean(line_count),\n",
        "    'Average Special Char Count': mean(special_char_count),\n",
        "    'Average Token Length': mean(word_count),\n",
        "    'Average Unique Word Count': mean(unique_word_count),\n",
        "    'Average Sentence Count': mean(sentence_count),\n",
        "    'Average Sentence Length (Chars)': mean(avg_sentence_length_chars),\n",
        "    'Average Sentence Length (Words)': mean(avg_sentence_length_words),\n",
        "    'Minimum Sentence Length (Chars)': mean(min_sentence_length_chars),\n",
        "    'Minimum Sentence Length (Words)': mean(min_sentence_length_words),\n",
        "    'Maximum Sentence Length (Chars)': mean(max_sentence_length_chars),\n",
        "    'Maximum Sentence Length (Words)': mean(max_sentence_length_words),\n",
        "}\n",
        "\n",
        "for feature, value in average_values.items():\n",
        "    print(f'{feature}: {int(value)}')\n",
        "print('Alpha Token Ratio: ', mean(alpha_token_ratio))"
      ]
    },
    {
      "cell_type": "code",
      "execution_count": null,
      "metadata": {
        "id": "vWv86tSmYWls"
      },
      "outputs": [],
      "source": [
        "from google.colab import drive\n",
        "drive.mount('/content/drive')"
      ]
    }
  ],
  "metadata": {
    "colab": {
      "provenance": []
    },
    "kernelspec": {
      "display_name": "Python 3",
      "name": "python3"
    },
    "language_info": {
      "name": "python"
    }
  },
  "nbformat": 4,
  "nbformat_minor": 0
}
