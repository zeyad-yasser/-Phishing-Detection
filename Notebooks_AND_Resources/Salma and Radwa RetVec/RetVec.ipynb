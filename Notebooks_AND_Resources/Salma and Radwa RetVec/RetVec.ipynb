{
  "cells": [
    {
      "cell_type": "code",
      "execution_count": null,
      "metadata": {
        "colab": {
          "base_uri": "https://localhost:8080/"
        },
        "id": "9g1lFBSEpz3X",
        "outputId": "5e1d273b-3659-462f-831a-14bc9721a3b5"
      },
      "outputs": [
        {
          "output_type": "stream",
          "name": "stdout",
          "text": [
            "Collecting retvec\n",
            "  Downloading retvec-1.0.1-py3-none-any.whl (40 kB)\n",
            "\u001b[?25l     \u001b[90m━━━━━━━━━━━━━━━━━━━━━━━━━━━━━━━━━━━━━━━━\u001b[0m \u001b[32m0.0/40.5 kB\u001b[0m \u001b[31m?\u001b[0m eta \u001b[36m-:--:--\u001b[0m\r\u001b[2K     \u001b[90m━━━━━━━━━━━━━━━━━━━━━━━━━━━━━━━━━━━━━━━━\u001b[0m \u001b[32m40.5/40.5 kB\u001b[0m \u001b[31m1.0 MB/s\u001b[0m eta \u001b[36m0:00:00\u001b[0m\n",
            "\u001b[?25hInstalling collected packages: retvec\n",
            "Successfully installed retvec-1.0.1\n"
          ]
        }
      ],
      "source": [
        "!pip install retvec\n",
        "try:\n",
        "    import tensorflow_text\n",
        "except ImportError:\n",
        "    !pip install tensorflow-text==2.15.0\n"
      ]
    },
    {
      "cell_type": "code",
      "execution_count": null,
      "metadata": {
        "id": "dWiDw_IjIajL"
      },
      "outputs": [],
      "source": [
        "import os\n",
        "os.environ['TF_CPP_MIN_LOG_LEVEL'] = '1'  # silence TF INFO messages\n",
        "import tensorflow as tf\n",
        "import numpy as np\n",
        "from tensorflow.keras import layers"
      ]
    },
    {
      "cell_type": "code",
      "source": [
        "tf.__version__"
      ],
      "metadata": {
        "colab": {
          "base_uri": "https://localhost:8080/",
          "height": 36
        },
        "id": "d0l6h5h22iPp",
        "outputId": "ea78cb89-3a49-4c25-ae2b-7729d8b161fe"
      },
      "execution_count": null,
      "outputs": [
        {
          "output_type": "execute_result",
          "data": {
            "text/plain": [
              "'2.15.0'"
            ],
            "application/vnd.google.colaboratory.intrinsic+json": {
              "type": "string"
            }
          },
          "metadata": {},
          "execution_count": 3
        }
      ]
    },
    {
      "cell_type": "code",
      "execution_count": null,
      "metadata": {
        "colab": {
          "base_uri": "https://localhost:8080/"
        },
        "id": "bqOILDbx3Vek",
        "outputId": "4771c97f-5064-44fe-af19-0b401c6a6800"
      },
      "outputs": [
        {
          "name": "stdout",
          "output_type": "stream",
          "text": [
            "Mounted at /content/drive\n"
          ]
        }
      ],
      "source": [
        "from google.colab import drive\n",
        "drive.mount('/content/drive')"
      ]
    },
    {
      "cell_type": "code",
      "execution_count": null,
      "metadata": {
        "colab": {
          "base_uri": "https://localhost:8080/",
          "height": 321
        },
        "id": "Iqd73rZ23Y1D",
        "outputId": "0e496658-6471-40b1-927b-76ce582ebe27"
      },
      "outputs": [
        {
          "ename": "FileNotFoundError",
          "evalue": "[Errno 2] No such file or directory: '/content/drive/MyDrive/Phishing_Email.csv'",
          "output_type": "error",
          "traceback": [
            "\u001b[0;31m---------------------------------------------------------------------------\u001b[0m",
            "\u001b[0;31mFileNotFoundError\u001b[0m                         Traceback (most recent call last)",
            "\u001b[0;32m<ipython-input-4-15a0d624c270>\u001b[0m in \u001b[0;36m<cell line: 2>\u001b[0;34m()\u001b[0m\n\u001b[1;32m      1\u001b[0m \u001b[0;32mimport\u001b[0m \u001b[0mpandas\u001b[0m \u001b[0;32mas\u001b[0m \u001b[0mpd\u001b[0m\u001b[0;34m\u001b[0m\u001b[0;34m\u001b[0m\u001b[0m\n\u001b[0;32m----> 2\u001b[0;31m \u001b[0mdataSet\u001b[0m \u001b[0;34m=\u001b[0m \u001b[0mpd\u001b[0m\u001b[0;34m.\u001b[0m\u001b[0mread_csv\u001b[0m\u001b[0;34m(\u001b[0m\u001b[0;34m'/content/drive/MyDrive/Phishing_Email.csv'\u001b[0m\u001b[0;34m)\u001b[0m\u001b[0;34m\u001b[0m\u001b[0;34m\u001b[0m\u001b[0m\n\u001b[0m",
            "\u001b[0;32m/usr/local/lib/python3.10/dist-packages/pandas/io/parsers/readers.py\u001b[0m in \u001b[0;36mread_csv\u001b[0;34m(filepath_or_buffer, sep, delimiter, header, names, index_col, usecols, dtype, engine, converters, true_values, false_values, skipinitialspace, skiprows, skipfooter, nrows, na_values, keep_default_na, na_filter, verbose, skip_blank_lines, parse_dates, infer_datetime_format, keep_date_col, date_parser, date_format, dayfirst, cache_dates, iterator, chunksize, compression, thousands, decimal, lineterminator, quotechar, quoting, doublequote, escapechar, comment, encoding, encoding_errors, dialect, on_bad_lines, delim_whitespace, low_memory, memory_map, float_precision, storage_options, dtype_backend)\u001b[0m\n\u001b[1;32m    910\u001b[0m     \u001b[0mkwds\u001b[0m\u001b[0;34m.\u001b[0m\u001b[0mupdate\u001b[0m\u001b[0;34m(\u001b[0m\u001b[0mkwds_defaults\u001b[0m\u001b[0;34m)\u001b[0m\u001b[0;34m\u001b[0m\u001b[0;34m\u001b[0m\u001b[0m\n\u001b[1;32m    911\u001b[0m \u001b[0;34m\u001b[0m\u001b[0m\n\u001b[0;32m--> 912\u001b[0;31m     \u001b[0;32mreturn\u001b[0m \u001b[0m_read\u001b[0m\u001b[0;34m(\u001b[0m\u001b[0mfilepath_or_buffer\u001b[0m\u001b[0;34m,\u001b[0m \u001b[0mkwds\u001b[0m\u001b[0;34m)\u001b[0m\u001b[0;34m\u001b[0m\u001b[0;34m\u001b[0m\u001b[0m\n\u001b[0m\u001b[1;32m    913\u001b[0m \u001b[0;34m\u001b[0m\u001b[0m\n\u001b[1;32m    914\u001b[0m \u001b[0;34m\u001b[0m\u001b[0m\n",
            "\u001b[0;32m/usr/local/lib/python3.10/dist-packages/pandas/io/parsers/readers.py\u001b[0m in \u001b[0;36m_read\u001b[0;34m(filepath_or_buffer, kwds)\u001b[0m\n\u001b[1;32m    575\u001b[0m \u001b[0;34m\u001b[0m\u001b[0m\n\u001b[1;32m    576\u001b[0m     \u001b[0;31m# Create the parser.\u001b[0m\u001b[0;34m\u001b[0m\u001b[0;34m\u001b[0m\u001b[0m\n\u001b[0;32m--> 577\u001b[0;31m     \u001b[0mparser\u001b[0m \u001b[0;34m=\u001b[0m \u001b[0mTextFileReader\u001b[0m\u001b[0;34m(\u001b[0m\u001b[0mfilepath_or_buffer\u001b[0m\u001b[0;34m,\u001b[0m \u001b[0;34m**\u001b[0m\u001b[0mkwds\u001b[0m\u001b[0;34m)\u001b[0m\u001b[0;34m\u001b[0m\u001b[0;34m\u001b[0m\u001b[0m\n\u001b[0m\u001b[1;32m    578\u001b[0m \u001b[0;34m\u001b[0m\u001b[0m\n\u001b[1;32m    579\u001b[0m     \u001b[0;32mif\u001b[0m \u001b[0mchunksize\u001b[0m \u001b[0;32mor\u001b[0m \u001b[0miterator\u001b[0m\u001b[0;34m:\u001b[0m\u001b[0;34m\u001b[0m\u001b[0;34m\u001b[0m\u001b[0m\n",
            "\u001b[0;32m/usr/local/lib/python3.10/dist-packages/pandas/io/parsers/readers.py\u001b[0m in \u001b[0;36m__init__\u001b[0;34m(self, f, engine, **kwds)\u001b[0m\n\u001b[1;32m   1405\u001b[0m \u001b[0;34m\u001b[0m\u001b[0m\n\u001b[1;32m   1406\u001b[0m         \u001b[0mself\u001b[0m\u001b[0;34m.\u001b[0m\u001b[0mhandles\u001b[0m\u001b[0;34m:\u001b[0m \u001b[0mIOHandles\u001b[0m \u001b[0;34m|\u001b[0m \u001b[0;32mNone\u001b[0m \u001b[0;34m=\u001b[0m \u001b[0;32mNone\u001b[0m\u001b[0;34m\u001b[0m\u001b[0;34m\u001b[0m\u001b[0m\n\u001b[0;32m-> 1407\u001b[0;31m         \u001b[0mself\u001b[0m\u001b[0;34m.\u001b[0m\u001b[0m_engine\u001b[0m \u001b[0;34m=\u001b[0m \u001b[0mself\u001b[0m\u001b[0;34m.\u001b[0m\u001b[0m_make_engine\u001b[0m\u001b[0;34m(\u001b[0m\u001b[0mf\u001b[0m\u001b[0;34m,\u001b[0m \u001b[0mself\u001b[0m\u001b[0;34m.\u001b[0m\u001b[0mengine\u001b[0m\u001b[0;34m)\u001b[0m\u001b[0;34m\u001b[0m\u001b[0;34m\u001b[0m\u001b[0m\n\u001b[0m\u001b[1;32m   1408\u001b[0m \u001b[0;34m\u001b[0m\u001b[0m\n\u001b[1;32m   1409\u001b[0m     \u001b[0;32mdef\u001b[0m \u001b[0mclose\u001b[0m\u001b[0;34m(\u001b[0m\u001b[0mself\u001b[0m\u001b[0;34m)\u001b[0m \u001b[0;34m->\u001b[0m \u001b[0;32mNone\u001b[0m\u001b[0;34m:\u001b[0m\u001b[0;34m\u001b[0m\u001b[0;34m\u001b[0m\u001b[0m\n",
            "\u001b[0;32m/usr/local/lib/python3.10/dist-packages/pandas/io/parsers/readers.py\u001b[0m in \u001b[0;36m_make_engine\u001b[0;34m(self, f, engine)\u001b[0m\n\u001b[1;32m   1659\u001b[0m                 \u001b[0;32mif\u001b[0m \u001b[0;34m\"b\"\u001b[0m \u001b[0;32mnot\u001b[0m \u001b[0;32min\u001b[0m \u001b[0mmode\u001b[0m\u001b[0;34m:\u001b[0m\u001b[0;34m\u001b[0m\u001b[0;34m\u001b[0m\u001b[0m\n\u001b[1;32m   1660\u001b[0m                     \u001b[0mmode\u001b[0m \u001b[0;34m+=\u001b[0m \u001b[0;34m\"b\"\u001b[0m\u001b[0;34m\u001b[0m\u001b[0;34m\u001b[0m\u001b[0m\n\u001b[0;32m-> 1661\u001b[0;31m             self.handles = get_handle(\n\u001b[0m\u001b[1;32m   1662\u001b[0m                 \u001b[0mf\u001b[0m\u001b[0;34m,\u001b[0m\u001b[0;34m\u001b[0m\u001b[0;34m\u001b[0m\u001b[0m\n\u001b[1;32m   1663\u001b[0m                 \u001b[0mmode\u001b[0m\u001b[0;34m,\u001b[0m\u001b[0;34m\u001b[0m\u001b[0;34m\u001b[0m\u001b[0m\n",
            "\u001b[0;32m/usr/local/lib/python3.10/dist-packages/pandas/io/common.py\u001b[0m in \u001b[0;36mget_handle\u001b[0;34m(path_or_buf, mode, encoding, compression, memory_map, is_text, errors, storage_options)\u001b[0m\n\u001b[1;32m    857\u001b[0m         \u001b[0;32mif\u001b[0m \u001b[0mioargs\u001b[0m\u001b[0;34m.\u001b[0m\u001b[0mencoding\u001b[0m \u001b[0;32mand\u001b[0m \u001b[0;34m\"b\"\u001b[0m \u001b[0;32mnot\u001b[0m \u001b[0;32min\u001b[0m \u001b[0mioargs\u001b[0m\u001b[0;34m.\u001b[0m\u001b[0mmode\u001b[0m\u001b[0;34m:\u001b[0m\u001b[0;34m\u001b[0m\u001b[0;34m\u001b[0m\u001b[0m\n\u001b[1;32m    858\u001b[0m             \u001b[0;31m# Encoding\u001b[0m\u001b[0;34m\u001b[0m\u001b[0;34m\u001b[0m\u001b[0m\n\u001b[0;32m--> 859\u001b[0;31m             handle = open(\n\u001b[0m\u001b[1;32m    860\u001b[0m                 \u001b[0mhandle\u001b[0m\u001b[0;34m,\u001b[0m\u001b[0;34m\u001b[0m\u001b[0;34m\u001b[0m\u001b[0m\n\u001b[1;32m    861\u001b[0m                 \u001b[0mioargs\u001b[0m\u001b[0;34m.\u001b[0m\u001b[0mmode\u001b[0m\u001b[0;34m,\u001b[0m\u001b[0;34m\u001b[0m\u001b[0;34m\u001b[0m\u001b[0m\n",
            "\u001b[0;31mFileNotFoundError\u001b[0m: [Errno 2] No such file or directory: '/content/drive/MyDrive/Phishing_Email.csv'"
          ]
        }
      ],
      "source": [
        "import pandas as pd\n",
        "dataSet = pd.read_csv('/content/drive/MyDrive/Phishing_Email.csv')"
      ]
    },
    {
      "cell_type": "code",
      "execution_count": null,
      "metadata": {
        "colab": {
          "base_uri": "https://localhost:8080/"
        },
        "id": "uDZza44J-6oQ",
        "outputId": "12bf2fee-3223-4f58-bdbc-5a4157f95408"
      },
      "outputs": [
        {
          "name": "stdout",
          "output_type": "stream",
          "text": [
            "phising precentage: 7328\n",
            "safe precentage: 11322\n",
            "phising precentage: 1061\n",
            "safe precentage: 2269\n",
            "phising precentage at Testing: 1061\n",
            "safe precentage at Testing: 1269\n",
            "0       1\n",
            "1       1\n",
            "2       0\n",
            "3       1\n",
            "4       1\n",
            "       ..\n",
            "2325    1\n",
            "2326    0\n",
            "2327    0\n",
            "2328    1\n",
            "2329    0\n",
            "Name: Safe Email, Length: 2330, dtype: int64\n",
            "0       0\n",
            "1       0\n",
            "2       1\n",
            "3       0\n",
            "4       0\n",
            "       ..\n",
            "2325    0\n",
            "2326    1\n",
            "2327    1\n",
            "2328    0\n",
            "2329    1\n",
            "Name: Phishing Email, Length: 2330, dtype: int64\n"
          ]
        }
      ],
      "source": [
        "#data prep and separete into two categories test and train (only run once if )\n",
        "import pandas as pd\n",
        "import tensorflow as tf\n",
        "import numpy as np\n",
        "from tensorflow.keras import layers\n",
        "from retvec.tf import RETVecTokenizer\n",
        "from sklearn.model_selection import train_test_split\n",
        "from sklearn.preprocessing import MinMaxScaler, LabelEncoder\n",
        "#dataSet = pd.read_csv('Phishing_Email.csv')\n",
        "email = dataSet['Email Text']\n",
        "\n",
        "# num of phishing and safe at all data before removing sum phishing\n",
        "phising = (dataSet['Email Type'] == \"Phishing Email\").sum()\n",
        "safe = (dataSet['Email Type'] == \"Safe Email\").sum()\n",
        "print(f\"phising precentage: {phising}\")\n",
        "print(f\"safe precentage: {safe}\")\n",
        "\n",
        "\n",
        "\n",
        "# Remove 2000 rows (almost 50% of phishing) 10% of total dataset\n",
        "value_to_remove = 'Phishing Email' # phishing\n",
        "num_rows_to_remove = 2000\n",
        "# Filter the dataset based on the 'Email Type' column\n",
        "phishingSet = dataSet[dataSet['Email Type'] == value_to_remove]\n",
        "# Remove the first num_rows_to_remove rows\n",
        "phishingSet = phishingSet.iloc[num_rows_to_remove:].reset_index(drop=True)\n",
        "safeSet=dataSet[dataSet['Email Type'] == 'Safe Email']\n",
        "# Concatenate vertically (along rows)\n",
        "result = pd.concat([phishingSet, safeSet], ignore_index=True)\n",
        "result = result.sample(frac=1)\n",
        "\n",
        "x_train, x_test, y_train, y_test = train_test_split(result['Email Text'], result['Email Type'],test_size=0.2, random_state=0, shuffle=True)\n",
        "\n",
        "test = pd.DataFrame()\n",
        "test['Email Text']= x_test\n",
        "# Create two new columns\n",
        "test['Email Type'] = y_test\n",
        "# Remove 1000 rows (almost 50% of phishing) 10% of total dataset\n",
        "value_to_remove = 'Safe Email'\n",
        "num_rows_to_remove = 1000\n",
        "# Filter the dataset based on the 'Email Type' column\n",
        "SafeSet = test[test['Email Type'] == value_to_remove]\n",
        "# Remove the first num_rows_to_remove rows\n",
        "SafeSet = SafeSet.iloc[num_rows_to_remove:].reset_index(drop=True)\n",
        "PhishingSet = test[test['Email Type'] == 'Phishing Email']\n",
        "\n",
        "# num of phishing and safe at all data before removing sum phishing\n",
        "phising = (test['Email Type'] == 'Phishing Email').sum()\n",
        "safe = (test['Email Type'] == 'Safe Email').sum()\n",
        "print(f\"phising precentage: {phising}\")\n",
        "print(f\"safe precentage: {safe}\")\n",
        "\n",
        "# Concatenate vertically (along rows)\n",
        "result = pd.concat([SafeSet , PhishingSet], ignore_index=True)\n",
        "result = result.sample(frac=1)\n",
        "\n",
        "\n",
        "\n",
        "# Now y_train_df has two columns 'label_0' and 'label_1' where 'label_0' contains 1 for 0 values and 'label_1' contains 1 for 1 values\n",
        "x_train = x_train.astype(str)\n",
        "x_train = tf.constant(x_train, dtype=tf.string)\n",
        "le = LabelEncoder()\n",
        "y_train = le.fit_transform(y_train)\n",
        "\n",
        "x_test=result['Email Text']\n",
        "y_test=result['Email Type']\n",
        "x_test = x_test.astype(str)\n",
        "x_test = tf.constant(x_test, dtype=tf.string)\n",
        "y_test = le.transform(y_test)\n",
        "\n",
        "phising = (y_test == 0).sum()\n",
        "safe = (y_test == 1).sum()\n",
        "print(f\"phising precentage at Testing: {phising}\")\n",
        "print(f\"safe precentage at Testing: {safe}\")\n",
        "\n",
        "\n",
        "\n",
        "# Train and Test Dataframe Split and Save\n",
        "trainDataframe = pd.DataFrame()\n",
        "trainDataframe['Email Text']=x_train\n",
        "# Create two new columns\n",
        "trainDataframe['Phishing Email']=(y_train == 0).astype(int)\n",
        "trainDataframe['Safe Email']=(y_train == 1).astype(int)\n",
        "trainDataframe.to_csv('TrainRetVec.csv', index=False)\n",
        "\n",
        "testDataframe = pd.DataFrame()\n",
        "testDataframe['Email Text']= x_test\n",
        "# Create two new columns\n",
        "testDataframe['Phishing Email']=(y_test== 0).astype(int)\n",
        "testDataframe['Safe Email']=(y_test == 1).astype(int)\n",
        "testDataframe.to_csv('TestRetVec.csv', index=False)\n",
        "print(testDataframe['Safe Email'])\n",
        "print(testDataframe['Phishing Email'])\n",
        "\n",
        "# 1 Safe & 0 Phishing"
      ]
    },
    {
      "cell_type": "code",
      "execution_count": null,
      "metadata": {
        "colab": {
          "base_uri": "https://localhost:8080/"
        },
        "id": "EPg_IJg2tolw",
        "outputId": "8630d70d-f533-457d-dbe7-e24934f2bfab"
      },
      "outputs": [
        {
          "output_type": "stream",
          "name": "stdout",
          "text": [
            "Requirement already satisfied: retvec in /usr/local/lib/python3.10/dist-packages (1.0.1)\n",
            "2.15.0\n",
            "Downloading data from https://storage.googleapis.com/tensorflow/keras-applications/retvec-v1/fingerprint.pb\n",
            "53/53 [==============================] - 0s 0us/step\n",
            "Downloading data from https://storage.googleapis.com/tensorflow/keras-applications/retvec-v1/keras_metadata.pb\n",
            "13821/13821 [==============================] - 0s 0us/step\n",
            "Downloading data from https://storage.googleapis.com/tensorflow/keras-applications/retvec-v1/saved_model.pb\n",
            "105287/105287 [==============================] - 0s 0us/step\n",
            "Downloading data from https://storage.googleapis.com/tensorflow/keras-applications/retvec-v1/variables/variables.data-00000-of-00001\n",
            "927018/927018 [==============================] - 0s 0us/step\n",
            "Downloading data from https://storage.googleapis.com/tensorflow/keras-applications/retvec-v1/variables/variables.index\n",
            "645/645 [==============================] - 0s 0us/step\n"
          ]
        },
        {
          "output_type": "stream",
          "name": "stderr",
          "text": [
            "WARNING:tensorflow:No training configuration found in save file, so the model was *not* compiled. Compile it manually.\n"
          ]
        },
        {
          "output_type": "stream",
          "name": "stdout",
          "text": [
            "Model: \"model\"\n",
            "_________________________________________________________________\n",
            " Layer (type)                Output Shape              Param #   \n",
            "=================================================================\n",
            " Emails tokens (InputLayer)  [(None, 1)]               0         \n",
            "                                                                 \n",
            " ret_vec_tokenizer (RETVecT  (None, 128, 256)          230144    \n",
            " okenizer)                                                       \n",
            "                                                                 \n",
            " bidirectional (Bidirection  (None, 128, 128)          164352    \n",
            " al)                                                             \n",
            "                                                                 \n",
            " bidirectional_1 (Bidirecti  (None, 128)               98816     \n",
            " onal)                                                           \n",
            "                                                                 \n",
            " dense (Dense)               (None, 2)                 258       \n",
            "                                                                 \n",
            "=================================================================\n",
            "Total params: 493570 (1.88 MB)\n",
            "Trainable params: 263426 (1.00 MB)\n",
            "Non-trainable params: 230144 (899.00 KB)\n",
            "_________________________________________________________________\n"
          ]
        }
      ],
      "source": [
        "!pip install retvec\n",
        "import pandas as pd\n",
        "import tensorflow as tf\n",
        "from retvec.tf import RETVecTokenizer\n",
        "from tensorflow.keras import layers\n",
        "from sklearn.model_selection import train_test_split\n",
        "from sklearn.preprocessing import MinMaxScaler, LabelEncoder\n",
        "# Define the input layer, which accepts raw strings\n",
        "print(tf.__version__)\n",
        "inputs = layers.Input(shape=(1, ), name=\"Emails tokens\" , dtype = tf.string )\n",
        "\n",
        "# Add the RETVec Tokenizer layer using the RETVec embedding model -- that's it!\n",
        "NUM_CLASSES = 2\n",
        "\n",
        "# x = RETVecTokenizer()(inputs)\n",
        "#reloaded_model = TFSMLayer(\"/root/.keras/retvec-v1\", call_endpoint=\"serving_default\")(inputs)\n",
        "#save the model\n",
        "x = RETVecTokenizer(model='retvec-v1')(inputs)\n",
        "# Create your model like normal\n",
        "# e.g. a simple LSTM model for classification with NUM_CLASSES classes\n",
        "x = layers.Bidirectional(layers.LSTM(64, return_sequences=True))(x)\n",
        "x = layers.Bidirectional(layers.LSTM(64))(x)\n",
        "outputs = layers.Dense(NUM_CLASSES, activation='softmax')(x)\n",
        "model = tf.keras.Model(inputs, outputs)\n",
        "model.summary()"
      ]
    },
    {
      "cell_type": "code",
      "execution_count": null,
      "metadata": {
        "colab": {
          "base_uri": "https://localhost:8080/"
        },
        "id": "YsI7q6AlrisD",
        "outputId": "063449f5-49d9-4de6-fbe3-4fa004ead874"
      },
      "outputs": [
        {
          "output_type": "stream",
          "name": "stderr",
          "text": [
            "WARNING:absl:`lr` is deprecated in Keras optimizer, please use `learning_rate` or use the legacy optimizer, e.g.,tf.keras.optimizers.legacy.SGD.\n"
          ]
        },
        {
          "output_type": "stream",
          "name": "stdout",
          "text": [
            "x_train (5994,)\n",
            "x_test (3996,)\n",
            "y_train (5994, 2)\n",
            "y_test (3996, 2)\n",
            "Epoch 1/20\n",
            "60/60 [==============================] - 28s 371ms/step - loss: 0.5619 - accuracy: 0.7120 - precision: 0.7120 - recall: 0.7120 - val_loss: 0.5447 - val_accuracy: 0.7432 - val_precision: 0.7432 - val_recall: 0.7432\n",
            "Epoch 2/20\n"
          ]
        },
        {
          "output_type": "stream",
          "name": "stderr",
          "text": [
            "/usr/local/lib/python3.10/dist-packages/keras/src/engine/training.py:3103: UserWarning: You are saving your model as an HDF5 file via `model.save()`. This file format is considered legacy. We recommend using instead the native Keras format, e.g. `model.save('my_model.keras')`.\n",
            "  saving_api.save_model(\n"
          ]
        },
        {
          "output_type": "stream",
          "name": "stdout",
          "text": [
            "60/60 [==============================] - 20s 336ms/step - loss: 0.3983 - accuracy: 0.8150 - precision: 0.8150 - recall: 0.8150 - val_loss: 0.4438 - val_accuracy: 0.8163 - val_precision: 0.8163 - val_recall: 0.8163\n",
            "Epoch 3/20\n",
            "60/60 [==============================] - 20s 335ms/step - loss: 0.3065 - accuracy: 0.8682 - precision: 0.8682 - recall: 0.8682 - val_loss: 0.3577 - val_accuracy: 0.8343 - val_precision: 0.8343 - val_recall: 0.8343\n",
            "Epoch 4/20\n",
            "60/60 [==============================] - 20s 335ms/step - loss: 0.2718 - accuracy: 0.8889 - precision: 0.8889 - recall: 0.8889 - val_loss: 0.3708 - val_accuracy: 0.8481 - val_precision: 0.8481 - val_recall: 0.8481\n",
            "Epoch 5/20\n",
            "60/60 [==============================] - 20s 333ms/step - loss: 0.2221 - accuracy: 0.9102 - precision: 0.9102 - recall: 0.9102 - val_loss: 0.6220 - val_accuracy: 0.7773 - val_precision: 0.7773 - val_recall: 0.7773\n",
            "Epoch 6/20\n",
            "60/60 [==============================] - 20s 333ms/step - loss: 0.1996 - accuracy: 0.9139 - precision: 0.9139 - recall: 0.9139 - val_loss: 0.3976 - val_accuracy: 0.8458 - val_precision: 0.8458 - val_recall: 0.8458\n",
            "Epoch 7/20\n",
            "60/60 [==============================] - 20s 334ms/step - loss: 0.1606 - accuracy: 0.9331 - precision: 0.9331 - recall: 0.9331 - val_loss: 0.3808 - val_accuracy: 0.8679 - val_precision: 0.8679 - val_recall: 0.8679\n",
            "Epoch 8/20\n",
            "60/60 [==============================] - 20s 336ms/step - loss: 0.1431 - accuracy: 0.9433 - precision: 0.9433 - recall: 0.9433 - val_loss: 0.2798 - val_accuracy: 0.9074 - val_precision: 0.9074 - val_recall: 0.9074\n",
            "Epoch 9/20\n",
            "60/60 [==============================] - 20s 329ms/step - loss: 0.1164 - accuracy: 0.9525 - precision: 0.9525 - recall: 0.9525 - val_loss: 0.3324 - val_accuracy: 0.8889 - val_precision: 0.8889 - val_recall: 0.8889\n",
            "Epoch 10/20\n",
            "60/60 [==============================] - 20s 329ms/step - loss: 0.1038 - accuracy: 0.9550 - precision: 0.9550 - recall: 0.9550 - val_loss: 0.2383 - val_accuracy: 0.9224 - val_precision: 0.9224 - val_recall: 0.9224\n",
            "Epoch 11/20\n",
            "60/60 [==============================] - 20s 329ms/step - loss: 0.1023 - accuracy: 0.9578 - precision: 0.9578 - recall: 0.9578 - val_loss: 0.4220 - val_accuracy: 0.8769 - val_precision: 0.8769 - val_recall: 0.8769\n",
            "Epoch 12/20\n",
            "60/60 [==============================] - 20s 331ms/step - loss: 0.0746 - accuracy: 0.9698 - precision: 0.9698 - recall: 0.9698 - val_loss: 0.2536 - val_accuracy: 0.9209 - val_precision: 0.9209 - val_recall: 0.9209\n",
            "Epoch 13/20\n",
            "60/60 [==============================] - 20s 335ms/step - loss: 0.0774 - accuracy: 0.9683 - precision: 0.9683 - recall: 0.9683 - val_loss: 0.2914 - val_accuracy: 0.9092 - val_precision: 0.9092 - val_recall: 0.9092\n",
            "Epoch 14/20\n",
            "60/60 [==============================] - 20s 333ms/step - loss: 0.0636 - accuracy: 0.9721 - precision: 0.9721 - recall: 0.9721 - val_loss: 0.4025 - val_accuracy: 0.8909 - val_precision: 0.8909 - val_recall: 0.8909\n",
            "Epoch 15/20\n",
            "60/60 [==============================] - 20s 329ms/step - loss: 0.0513 - accuracy: 0.9771 - precision: 0.9771 - recall: 0.9771 - val_loss: 0.2991 - val_accuracy: 0.9177 - val_precision: 0.9177 - val_recall: 0.9177\n",
            "Epoch 16/20\n",
            "60/60 [==============================] - 20s 333ms/step - loss: 0.0623 - accuracy: 0.9718 - precision: 0.9718 - recall: 0.9718 - val_loss: 0.3040 - val_accuracy: 0.9059 - val_precision: 0.9059 - val_recall: 0.9059\n",
            "Epoch 17/20\n",
            "60/60 [==============================] - 20s 339ms/step - loss: 0.0466 - accuracy: 0.9765 - precision: 0.9765 - recall: 0.9765 - val_loss: 0.5020 - val_accuracy: 0.8749 - val_precision: 0.8749 - val_recall: 0.8749\n",
            "Epoch 18/20\n",
            "60/60 [==============================] - 20s 333ms/step - loss: 0.0470 - accuracy: 0.9785 - precision: 0.9785 - recall: 0.9785 - val_loss: 0.4015 - val_accuracy: 0.9062 - val_precision: 0.9062 - val_recall: 0.9062\n",
            "Epoch 19/20\n",
            "60/60 [==============================] - 20s 332ms/step - loss: 0.0456 - accuracy: 0.9791 - precision: 0.9791 - recall: 0.9791 - val_loss: 0.5147 - val_accuracy: 0.8909 - val_precision: 0.8909 - val_recall: 0.8909\n",
            "Epoch 20/20\n",
            "60/60 [==============================] - 20s 333ms/step - loss: 0.0502 - accuracy: 0.9775 - precision: 0.9775 - recall: 0.9775 - val_loss: 0.3398 - val_accuracy: 0.9087 - val_precision: 0.9087 - val_recall: 0.9087\n"
          ]
        }
      ],
      "source": [
        "# save the model\n",
        "# save_path = \"./demo_models/tf_lite_retvec\"\n",
        "# model.save(save_path)\n",
        "# compile and train the model like usual\n",
        "from tensorflow.keras.callbacks import ModelCheckpoint\n",
        "from keras.optimizers import SGD\n",
        "\n",
        "checkpoint_filepath = 'best_model_weights.h5'\n",
        "model_checkpoint_callback = ModelCheckpoint(\n",
        "    filepath=checkpoint_filepath,\n",
        "    monitor='val_accuracy',  # Monitor validation accuracy\n",
        "    mode='max',  # Choose 'max' to save the best weights\n",
        "    save_best_only=True  # Save only the best weights\n",
        ")\n",
        "\n",
        "train_data=pd.read_csv('TrainRetVec.csv')\n",
        "x_train, x_test, y_train, y_test = train_test_split(train_data['Email Text'],train_data[['Phishing Email','Safe Email']],test_size=0.4, random_state=0, shuffle=True)\n",
        "batch_size = 100\n",
        "epochs = 20\n",
        "\n",
        "# Initialize SGD with Momentum lr is learning rate\n",
        "sgd = SGD(lr=0.0001, momentum=0.8, nesterov=True)\n",
        "METRICS = [\n",
        "      tf.keras.metrics.BinaryAccuracy(name='accuracy'),\n",
        "      tf.keras.metrics.Precision(name='precision'),\n",
        "      tf.keras.metrics.Recall(name='recall')\n",
        "]\n",
        "model.compile(optimizer='adam',  loss='binary_crossentropy', metrics=METRICS)\n",
        "print(\"x_train\", x_train.shape)\n",
        "print(\"x_test\", x_test.shape)\n",
        "print(\"y_train\", y_train.shape)\n",
        "print(\"y_test\", y_test.shape)\n",
        "history = model.fit(x_train, y_train, epochs=epochs, batch_size=batch_size,\n",
        "                    validation_data=(x_test, y_test) , callbacks=[model_checkpoint_callback])# callbacks"
      ]
    },
    {
      "cell_type": "code",
      "execution_count": null,
      "metadata": {
        "colab": {
          "base_uri": "https://localhost:8080/",
          "height": 643
        },
        "id": "I1YYwLL95tcE",
        "outputId": "1e19bb62-d787-459e-aca2-5a7fac208f67"
      },
      "outputs": [
        {
          "name": "stdout",
          "output_type": "stream",
          "text": [
            "Requirement already satisfied: matplotlib in /usr/local/lib/python3.10/dist-packages (3.7.1)\n",
            "Requirement already satisfied: contourpy>=1.0.1 in /usr/local/lib/python3.10/dist-packages (from matplotlib) (1.2.1)\n",
            "Requirement already satisfied: cycler>=0.10 in /usr/local/lib/python3.10/dist-packages (from matplotlib) (0.12.1)\n",
            "Requirement already satisfied: fonttools>=4.22.0 in /usr/local/lib/python3.10/dist-packages (from matplotlib) (4.51.0)\n",
            "Requirement already satisfied: kiwisolver>=1.0.1 in /usr/local/lib/python3.10/dist-packages (from matplotlib) (1.4.5)\n",
            "Requirement already satisfied: numpy>=1.20 in /usr/local/lib/python3.10/dist-packages (from matplotlib) (1.25.2)\n",
            "Requirement already satisfied: packaging>=20.0 in /usr/local/lib/python3.10/dist-packages (from matplotlib) (24.0)\n",
            "Requirement already satisfied: pillow>=6.2.0 in /usr/local/lib/python3.10/dist-packages (from matplotlib) (9.4.0)\n",
            "Requirement already satisfied: pyparsing>=2.3.1 in /usr/local/lib/python3.10/dist-packages (from matplotlib) (3.1.2)\n",
            "Requirement already satisfied: python-dateutil>=2.7 in /usr/local/lib/python3.10/dist-packages (from matplotlib) (2.8.2)\n",
            "Requirement already satisfied: six>=1.5 in /usr/local/lib/python3.10/dist-packages (from python-dateutil>=2.7->matplotlib) (1.16.0)\n"
          ]
        },
        {
          "data": {
            "image/png": "[encoded data removed]",
            "text/plain": [
              "<Figure size 640x480 with 1 Axes>"
            ]
          },
          "metadata": {},
          "output_type": "display_data"
        }
      ],
      "source": [
        "# visualize the training curves\n",
        "!pip install matplotlib\n",
        "from matplotlib import pyplot as plt\n",
        "plt.plot(history.history['acc'])\n",
        "plt.plot(history.history['val_acc'])\n",
        "plt.legend(['acc', 'val_acc'])\n",
        "plt.title(f'Accuracy')\n",
        "plt.show()"
      ]
    },
    {
      "cell_type": "code",
      "source": [],
      "metadata": {
        "id": "5Qg4Ebli6OtX"
      },
      "execution_count": null,
      "outputs": []
    },
    {
      "cell_type": "code",
      "execution_count": null,
      "metadata": {
        "colab": {
          "base_uri": "https://localhost:8080/"
        },
        "id": "FVxq3j6BSAZf",
        "outputId": "4304a4b3-edd2-44a2-f19d-1cf31e0061f2"
      },
      "outputs": [
        {
          "output_type": "stream",
          "name": "stdout",
          "text": [
            "37/37 [==============================] - 2s 48ms/step\n",
            "[1 1 1 ... 1 1 1]\n",
            "0       1\n",
            "1       1\n",
            "2       1\n",
            "3       1\n",
            "4       0\n",
            "       ..\n",
            "1155    1\n",
            "1156    0\n",
            "1157    1\n",
            "1158    0\n",
            "1159    0\n",
            "Name: target, Length: 1160, dtype: int64\n",
            "Accuracy: 0.6758620689655173\n",
            "Precision: 0.7813822958650545\n",
            "Recall: 0.6758620689655173\n"
          ]
        }
      ],
      "source": [
        "from sklearn.metrics import accuracy_score, precision_recall_curve, auc\n",
        "import numpy as np\n",
        "from sklearn.metrics import accuracy_score, precision_score, recall_score\n",
        "\n",
        "test_data=pd.read_csv('test_data.csv')\n",
        "test_data['target'] = test_data['target'].apply(lambda x: 1 if x == 0 else 0)\n",
        "# print(test_data['Phishing Email'])\n",
        "# print(test_data['Safe Email'])\n",
        "y_pred = model.predict(test_data['text'])\n",
        "y_pred_label = np.argmax(y_pred, axis=1)\n",
        "print(y_pred_label)\n",
        "\n",
        "# Convert true labels back to label encoding\n",
        "y_test_label = test_data['target']\n",
        "\n",
        "print(y_test_label)\n",
        "# Calculate accuracy\n",
        "accuracy = accuracy_score(y_test_label, y_pred_label)\n",
        "print(\"Accuracy:\", accuracy)\n",
        "# Calculate precision, recall, and thresholds\n",
        "# precision, recall, thresholds = precision_recall_curve(y_test_label, y_pred_label)\n",
        "precision = precision_score(y_test_label, y_pred_label, average='weighted')\n",
        "recall = recall_score(y_test_label, y_pred_label, average='weighted')\n",
        "\n",
        "print(\"Precision:\", precision)\n",
        "print(\"Recall:\", recall)\n",
        "\n",
        "# Calculate AUC-PR\n",
        "# auc_pr = auc(recall, precision)\n",
        "# print(\"AUC-PR:\", auc_pr)"
      ]
    },
    {
      "cell_type": "code",
      "execution_count": null,
      "metadata": {
        "colab": {
          "base_uri": "https://localhost:8080/",
          "height": 373
        },
        "id": "Qxn3fOPAcl61",
        "outputId": "b8eacedd-e6ee-466e-8593-c630e6916d2c"
      },
      "outputs": [
        {
          "ename": "FileNotFoundError",
          "evalue": "[Errno 2] No such file or directory: 'spam_assassin.csv'",
          "output_type": "error",
          "traceback": [
            "\u001b[0;31m---------------------------------------------------------------------------\u001b[0m",
            "\u001b[0;31mFileNotFoundError\u001b[0m                         Traceback (most recent call last)",
            "\u001b[0;32m<ipython-input-19-af9932f9e8ad>\u001b[0m in \u001b[0;36m<cell line: 2>\u001b[0;34m()\u001b[0m\n\u001b[1;32m      1\u001b[0m \u001b[0;32mfrom\u001b[0m \u001b[0msklearn\u001b[0m\u001b[0;34m.\u001b[0m\u001b[0mmetrics\u001b[0m \u001b[0;32mimport\u001b[0m \u001b[0maccuracy_score\u001b[0m\u001b[0;34m,\u001b[0m \u001b[0mprecision_recall_curve\u001b[0m\u001b[0;34m,\u001b[0m \u001b[0mauc\u001b[0m\u001b[0;34m\u001b[0m\u001b[0;34m\u001b[0m\u001b[0m\n\u001b[0;32m----> 2\u001b[0;31m \u001b[0mtest_data\u001b[0m\u001b[0;34m=\u001b[0m\u001b[0mpd\u001b[0m\u001b[0;34m.\u001b[0m\u001b[0mread_csv\u001b[0m\u001b[0;34m(\u001b[0m\u001b[0;34m'spam_assassin.csv'\u001b[0m\u001b[0;34m)\u001b[0m\u001b[0;34m\u001b[0m\u001b[0;34m\u001b[0m\u001b[0m\n\u001b[0m\u001b[1;32m      3\u001b[0m \u001b[0my_pred\u001b[0m \u001b[0;34m=\u001b[0m \u001b[0mmodel\u001b[0m\u001b[0;34m.\u001b[0m\u001b[0mpredict\u001b[0m\u001b[0;34m(\u001b[0m\u001b[0mtest_data\u001b[0m\u001b[0;34m[\u001b[0m\u001b[0;34m'Email Text'\u001b[0m\u001b[0;34m]\u001b[0m\u001b[0;34m)\u001b[0m\u001b[0;34m\u001b[0m\u001b[0;34m\u001b[0m\u001b[0m\n\u001b[1;32m      4\u001b[0m \u001b[0;31m# Convert predictions back to label encoding\u001b[0m\u001b[0;34m\u001b[0m\u001b[0;34m\u001b[0m\u001b[0m\n\u001b[1;32m      5\u001b[0m \u001b[0my_pred_label\u001b[0m \u001b[0;34m=\u001b[0m \u001b[0mnp\u001b[0m\u001b[0;34m.\u001b[0m\u001b[0margmax\u001b[0m\u001b[0;34m(\u001b[0m\u001b[0my_pred\u001b[0m\u001b[0;34m,\u001b[0m \u001b[0maxis\u001b[0m\u001b[0;34m=\u001b[0m\u001b[0;36m1\u001b[0m\u001b[0;34m)\u001b[0m\u001b[0;34m\u001b[0m\u001b[0;34m\u001b[0m\u001b[0m\n",
            "\u001b[0;32m/usr/local/lib/python3.10/dist-packages/pandas/io/parsers/readers.py\u001b[0m in \u001b[0;36mread_csv\u001b[0;34m(filepath_or_buffer, sep, delimiter, header, names, index_col, usecols, dtype, engine, converters, true_values, false_values, skipinitialspace, skiprows, skipfooter, nrows, na_values, keep_default_na, na_filter, verbose, skip_blank_lines, parse_dates, infer_datetime_format, keep_date_col, date_parser, date_format, dayfirst, cache_dates, iterator, chunksize, compression, thousands, decimal, lineterminator, quotechar, quoting, doublequote, escapechar, comment, encoding, encoding_errors, dialect, on_bad_lines, delim_whitespace, low_memory, memory_map, float_precision, storage_options, dtype_backend)\u001b[0m\n\u001b[1;32m    910\u001b[0m     \u001b[0mkwds\u001b[0m\u001b[0;34m.\u001b[0m\u001b[0mupdate\u001b[0m\u001b[0;34m(\u001b[0m\u001b[0mkwds_defaults\u001b[0m\u001b[0;34m)\u001b[0m\u001b[0;34m\u001b[0m\u001b[0;34m\u001b[0m\u001b[0m\n\u001b[1;32m    911\u001b[0m \u001b[0;34m\u001b[0m\u001b[0m\n\u001b[0;32m--> 912\u001b[0;31m     \u001b[0;32mreturn\u001b[0m \u001b[0m_read\u001b[0m\u001b[0;34m(\u001b[0m\u001b[0mfilepath_or_buffer\u001b[0m\u001b[0;34m,\u001b[0m \u001b[0mkwds\u001b[0m\u001b[0;34m)\u001b[0m\u001b[0;34m\u001b[0m\u001b[0;34m\u001b[0m\u001b[0m\n\u001b[0m\u001b[1;32m    913\u001b[0m \u001b[0;34m\u001b[0m\u001b[0m\n\u001b[1;32m    914\u001b[0m \u001b[0;34m\u001b[0m\u001b[0m\n",
            "\u001b[0;32m/usr/local/lib/python3.10/dist-packages/pandas/io/parsers/readers.py\u001b[0m in \u001b[0;36m_read\u001b[0;34m(filepath_or_buffer, kwds)\u001b[0m\n\u001b[1;32m    575\u001b[0m \u001b[0;34m\u001b[0m\u001b[0m\n\u001b[1;32m    576\u001b[0m     \u001b[0;31m# Create the parser.\u001b[0m\u001b[0;34m\u001b[0m\u001b[0;34m\u001b[0m\u001b[0m\n\u001b[0;32m--> 577\u001b[0;31m     \u001b[0mparser\u001b[0m \u001b[0;34m=\u001b[0m \u001b[0mTextFileReader\u001b[0m\u001b[0;34m(\u001b[0m\u001b[0mfilepath_or_buffer\u001b[0m\u001b[0;34m,\u001b[0m \u001b[0;34m**\u001b[0m\u001b[0mkwds\u001b[0m\u001b[0;34m)\u001b[0m\u001b[0;34m\u001b[0m\u001b[0;34m\u001b[0m\u001b[0m\n\u001b[0m\u001b[1;32m    578\u001b[0m \u001b[0;34m\u001b[0m\u001b[0m\n\u001b[1;32m    579\u001b[0m     \u001b[0;32mif\u001b[0m \u001b[0mchunksize\u001b[0m \u001b[0;32mor\u001b[0m \u001b[0miterator\u001b[0m\u001b[0;34m:\u001b[0m\u001b[0;34m\u001b[0m\u001b[0;34m\u001b[0m\u001b[0m\n",
            "\u001b[0;32m/usr/local/lib/python3.10/dist-packages/pandas/io/parsers/readers.py\u001b[0m in \u001b[0;36m__init__\u001b[0;34m(self, f, engine, **kwds)\u001b[0m\n\u001b[1;32m   1405\u001b[0m \u001b[0;34m\u001b[0m\u001b[0m\n\u001b[1;32m   1406\u001b[0m         \u001b[0mself\u001b[0m\u001b[0;34m.\u001b[0m\u001b[0mhandles\u001b[0m\u001b[0;34m:\u001b[0m \u001b[0mIOHandles\u001b[0m \u001b[0;34m|\u001b[0m \u001b[0;32mNone\u001b[0m \u001b[0;34m=\u001b[0m \u001b[0;32mNone\u001b[0m\u001b[0;34m\u001b[0m\u001b[0;34m\u001b[0m\u001b[0m\n\u001b[0;32m-> 1407\u001b[0;31m         \u001b[0mself\u001b[0m\u001b[0;34m.\u001b[0m\u001b[0m_engine\u001b[0m \u001b[0;34m=\u001b[0m \u001b[0mself\u001b[0m\u001b[0;34m.\u001b[0m\u001b[0m_make_engine\u001b[0m\u001b[0;34m(\u001b[0m\u001b[0mf\u001b[0m\u001b[0;34m,\u001b[0m \u001b[0mself\u001b[0m\u001b[0;34m.\u001b[0m\u001b[0mengine\u001b[0m\u001b[0;34m)\u001b[0m\u001b[0;34m\u001b[0m\u001b[0;34m\u001b[0m\u001b[0m\n\u001b[0m\u001b[1;32m   1408\u001b[0m \u001b[0;34m\u001b[0m\u001b[0m\n\u001b[1;32m   1409\u001b[0m     \u001b[0;32mdef\u001b[0m \u001b[0mclose\u001b[0m\u001b[0;34m(\u001b[0m\u001b[0mself\u001b[0m\u001b[0;34m)\u001b[0m \u001b[0;34m->\u001b[0m \u001b[0;32mNone\u001b[0m\u001b[0;34m:\u001b[0m\u001b[0;34m\u001b[0m\u001b[0;34m\u001b[0m\u001b[0m\n",
            "\u001b[0;32m/usr/local/lib/python3.10/dist-packages/pandas/io/parsers/readers.py\u001b[0m in \u001b[0;36m_make_engine\u001b[0;34m(self, f, engine)\u001b[0m\n\u001b[1;32m   1659\u001b[0m                 \u001b[0;32mif\u001b[0m \u001b[0;34m\"b\"\u001b[0m \u001b[0;32mnot\u001b[0m \u001b[0;32min\u001b[0m \u001b[0mmode\u001b[0m\u001b[0;34m:\u001b[0m\u001b[0;34m\u001b[0m\u001b[0;34m\u001b[0m\u001b[0m\n\u001b[1;32m   1660\u001b[0m                     \u001b[0mmode\u001b[0m \u001b[0;34m+=\u001b[0m \u001b[0;34m\"b\"\u001b[0m\u001b[0;34m\u001b[0m\u001b[0;34m\u001b[0m\u001b[0m\n\u001b[0;32m-> 1661\u001b[0;31m             self.handles = get_handle(\n\u001b[0m\u001b[1;32m   1662\u001b[0m                 \u001b[0mf\u001b[0m\u001b[0;34m,\u001b[0m\u001b[0;34m\u001b[0m\u001b[0;34m\u001b[0m\u001b[0m\n\u001b[1;32m   1663\u001b[0m                 \u001b[0mmode\u001b[0m\u001b[0;34m,\u001b[0m\u001b[0;34m\u001b[0m\u001b[0;34m\u001b[0m\u001b[0m\n",
            "\u001b[0;32m/usr/local/lib/python3.10/dist-packages/pandas/io/common.py\u001b[0m in \u001b[0;36mget_handle\u001b[0;34m(path_or_buf, mode, encoding, compression, memory_map, is_text, errors, storage_options)\u001b[0m\n\u001b[1;32m    857\u001b[0m         \u001b[0;32mif\u001b[0m \u001b[0mioargs\u001b[0m\u001b[0;34m.\u001b[0m\u001b[0mencoding\u001b[0m \u001b[0;32mand\u001b[0m \u001b[0;34m\"b\"\u001b[0m \u001b[0;32mnot\u001b[0m \u001b[0;32min\u001b[0m \u001b[0mioargs\u001b[0m\u001b[0;34m.\u001b[0m\u001b[0mmode\u001b[0m\u001b[0;34m:\u001b[0m\u001b[0;34m\u001b[0m\u001b[0;34m\u001b[0m\u001b[0m\n\u001b[1;32m    858\u001b[0m             \u001b[0;31m# Encoding\u001b[0m\u001b[0;34m\u001b[0m\u001b[0;34m\u001b[0m\u001b[0m\n\u001b[0;32m--> 859\u001b[0;31m             handle = open(\n\u001b[0m\u001b[1;32m    860\u001b[0m                 \u001b[0mhandle\u001b[0m\u001b[0;34m,\u001b[0m\u001b[0;34m\u001b[0m\u001b[0;34m\u001b[0m\u001b[0m\n\u001b[1;32m    861\u001b[0m                 \u001b[0mioargs\u001b[0m\u001b[0;34m.\u001b[0m\u001b[0mmode\u001b[0m\u001b[0;34m,\u001b[0m\u001b[0;34m\u001b[0m\u001b[0;34m\u001b[0m\u001b[0m\n",
            "\u001b[0;31mFileNotFoundError\u001b[0m: [Errno 2] No such file or directory: 'spam_assassin.csv'"
          ]
        }
      ],
      "source": [
        "from sklearn.metrics import accuracy_score, precision_recall_curve, auc\n",
        "test_data=pd.read_csv('spam_assassin.csv')\n",
        "y_pred = model.predict(test_data['Email Text'])\n",
        "# Convert predictions back to label encoding\n",
        "y_pred_label = np.argmax(y_pred, axis=1)\n",
        "print(y_pred_label)\n",
        "\n",
        "# Convert true labels back to label encoding\n",
        "y_test_label = np.column_stack((test_data['Phishing Email'], test_data['Safe Email']))\n",
        "print(\"2D Array:\")\n",
        "print(y_test_label)\n",
        "y_test_label = np.argmax(y_test_label, axis=1)\n",
        "\n",
        "# Calculate accuracy\n",
        "accuracy = accuracy_score(y_test_label, y_pred_label)\n",
        "print(\"Accuracy:\", accuracy)\n",
        "# Calculate precision, recall, and thresholds\n",
        "precision, recall, thresholds = precision_recall_curve(y_test_label, y_pred_label)\n",
        "# Calculate AUC-PR\n",
        "auc_pr = auc(recall, precision)\n",
        "print(\"AUC-PR:\", auc_pr)"
      ]
    },
    {
      "cell_type": "code",
      "execution_count": null,
      "metadata": {
        "colab": {
          "base_uri": "https://localhost:8080/"
        },
        "id": "DzWXvOdotZHs",
        "outputId": "b5f45b35-08d3-4343-d2ef-d328904bcb84"
      },
      "outputs": [
        {
          "name": "stdout",
          "output_type": "stream",
          "text": [
            "Model weights saved to best_model_weights.h5\n",
            "Model saved successfully at: my_model.h5\n",
            "0       0\n",
            "1       0\n",
            "2       1\n",
            "3       1\n",
            "4       0\n",
            "       ..\n",
            "2325    0\n",
            "2326    0\n",
            "2327    0\n",
            "2328    0\n",
            "2329    1\n",
            "Name: Phishing Email, Length: 2330, dtype: int64\n",
            "0       1\n",
            "1       1\n",
            "2       0\n",
            "3       0\n",
            "4       1\n",
            "       ..\n",
            "2325    1\n",
            "2326    1\n",
            "2327    1\n",
            "2328    1\n",
            "2329    0\n",
            "Name: Safe Email, Length: 2330, dtype: int64\n",
            "73/73 [==============================] - 2s 29ms/step\n",
            "[1 1 0 ... 1 1 0]\n",
            "2D Array:\n",
            "[[0 1]\n",
            " [0 1]\n",
            " [1 0]\n",
            " ...\n",
            " [0 1]\n",
            " [0 1]\n",
            " [1 0]]\n",
            "Accuracy: 0.8257510729613734\n"
          ]
        }
      ],
      "source": [
        "model.save_weights(checkpoint_filepath)# .save to save model with archeiture / .save_weights only saves weights and arise error in loading\n",
        "# model.save('savedModel')\n",
        "#ValueError: No model config found in the file at <tensorflow.python.platform.gfile.GFile object at 0x0000019366F711E0>.\n",
        "print(f\"Model weights saved to {checkpoint_filepath}\")\n",
        "# # Create a new model instance (assuming you've defined your model architecture)\n",
        "# mod = build_model()\n",
        "\n",
        "model_path = 'my_model.h5'\n",
        "\n",
        "model.save(model_path)\n",
        "\n",
        "print(\"Model saved successfully at:\", model_path)\n",
        "\n",
        "# # Restore the weights\n",
        "model.load_weights(checkpoint_filepath)\n",
        "# checks if same test is still working\n",
        "test_data=pd.read_csv('/content/drive/MyDrive/TestRetVec.csv')\n",
        "print(test_data['Phishing Email'])\n",
        "print(test_data['Safe Email'])\n",
        "y_pred = model.predict(test_data['Email Text'])\n",
        "# Convert predictions back to label encoding\n",
        "y_pred_label = np.argmax(y_pred, axis=1)\n",
        "print(y_pred_label)\n",
        "\n",
        "# Convert true labels back to label encoding\n",
        "y_test_label = np.column_stack((test_data['Phishing Email'], test_data['Safe Email']))\n",
        "print(\"2D Array:\")\n",
        "print(y_test_label)\n",
        "y_test_label = np.argmax(y_test_label, axis=1)\n",
        "\n",
        "# Calculate accuracy\n",
        "accuracy = accuracy_score(y_test_label, y_pred_label)\n",
        "print(\"Accuracy:\", accuracy)\n",
        "# Calculate precision, recall, and thresholds\n",
        "precision, recall, thresholds = precision_recall_curve(y_test_label, y_pred_label)\n",
        "# Calculate AUC-PR\n",
        "auc_pr = auc(recall, precision)"
      ]
    },
    {
      "cell_type": "markdown",
      "metadata": {
        "id": "VNPjroPUB7aG"
      },
      "source": [
        "#Model Saving"
      ]
    },
    {
      "cell_type": "code",
      "execution_count": null,
      "metadata": {
        "id": "WSi08n-mB0O3"
      },
      "outputs": [],
      "source": [
        "\n",
        "model_path = 'my_model.h5'\n",
        "\n",
        "model.save(model_path)\n",
        "\n",
        "print(\"Model saved successfully at:\", model_path)\n"
      ]
    },
    {
      "cell_type": "markdown",
      "metadata": {
        "id": "ogpDn6RPCdkE"
      },
      "source": [
        "# **Model Loading**"
      ]
    },
    {
      "cell_type": "code",
      "execution_count": null,
      "metadata": {
        "id": "Yb0DebmgCcY1"
      },
      "outputs": [],
      "source": [
        "import tensorflow as tf\n",
        "import tensorflow_hub as hub\n",
        "import numpy as np\n",
        "from sklearn.metrics import classification_report\n",
        "\n",
        "model_path = 'best_model.h5'\n",
        "custom_objects = {'KerasLayer': hub.KerasLayer}\n",
        "loaded_model = tf.keras.models.load_model(model_path, custom_objects=custom_objects)\n",
        "\n",
        "results = loaded_model.evaluate(X_test_preprocessed, y_test)\n",
        "\n",
        "accuracy = results[loaded_model.metrics_names.index('accuracy')]\n",
        "precision = results[loaded_model.metrics_names.index('precision')]\n",
        "recall = results[loaded_model.metrics_names.index('recall')]\n",
        "\n",
        "print(f'Accuracy: {accuracy}')\n",
        "print(f'Precision: {precision}')\n",
        "print(f'Recall: {recall}')\n"
      ]
    },
    {
      "cell_type": "code",
      "execution_count": null,
      "metadata": {
        "id": "buBrIxGdC8V0"
      },
      "outputs": [],
      "source": [
        "loaded_model = tf.keras.models.load_model('best_model.h5', custom_objects={'KerasLayer': hub.KerasLayer})\n",
        "\n",
        "new_text = \"\"\"begin forwarded text To: rah@shipwright.com From: hacker@vudu.net Date: Thu, 03 Oct 2002 06:01:38 -0700 (PDT) Subject: Re: The 3rd Annual Consult Hyperion Digital Identity ForumThe guy messed up his own URL. It should be http://www.digitalidforum.com which redirects to http://www.consult.hyperion.co.uk/digid3.html \"R. A. Hettinga\" wrote: > > Dear All, > > See www.digitalidentityforum.com for more details. Speakers include > Microsoft and Liberty Alliance, UK central and local government, > law > enforcement, financial services (Egg and RBS/NatWest), EC Research > Centre, a > psychologist and others. Look forward to seeing you there. > > Regards, > Dave Birch. > > -- > -- David Birch, Director, Consult Hyperion > -- > -- tel +44 (0)1483 301793, fax +44 (0)1483 561657 > -- mail dave@chyp.com, web http://www.chyp.com > -- > -- See you at the 2nd Annual Digital Transactions Forum in > Singapore > -- October 16th/17th 2002, see > http://www.digitaltransactionsforum.com/ > > --- end forwarded text > > > -- > ----------------- > R. A. Hettinga <mailto: rah@ibuc.com> > The Internet Bearer Underwriting Corporation <http://www.ibuc.com/>; > 44 Farquhar Street, Boston, MA 02131 USA > \"... however it may deserve respect for its usefulness and > antiquity, > [predicting the end of the world] has not been found agreeable to > experience.\" -- Edward Gibbon, 'Decline and Fall of the Roman > Empire' > > For help on using this list (especially unsubscribing), send a > message to > \"dcsb-request@reservoir.com\" with one line of text: \"help\".--- end forwarded text -- ----------------- R. A. Hettinga The Internet Bearer Underwriting Corporation 44 Farquhar Street, Boston, MA 02131 USA \"... however it may deserve respect for its usefulness and antiquity, [predicting the end of the world] has not been found agreeable to experience.\" -- Edward Gibbon, 'Decline and Fall of the Roman Empire'\n",
        "\"\"\"\n",
        "\n",
        "new_text_preprocessed = np.array([str(new_text)])\n",
        "\n",
        "predictions = \"Phishing\" if loaded_model.predict(new_text_preprocessed) > 0.5 else \"Safe\"\n",
        "\n",
        "print(predictions)"
      ]
    },
    {
      "cell_type": "code",
      "execution_count": null,
      "metadata": {
        "colab": {
          "base_uri": "https://localhost:8080/"
        },
        "id": "nRuvbXn1T0AD",
        "outputId": "4bdb99ab-54b2-4cd5-e884-9bc21640a231"
      },
      "outputs": [
        {
          "name": "stdout",
          "output_type": "stream",
          "text": [
            "Drive already mounted at /content/drive; to attempt to forcibly remount, call drive.mount(\"/content/drive\", force_remount=True).\n"
          ]
        }
      ],
      "source": [
        "from google.colab import drive\n",
        "drive.mount('/content/drive')"
      ]
    },
    {
      "cell_type": "code",
      "source": [
        "from transformers import AutoTokenizer, AutoModelForSequenceClassification\n",
        "from sklearn.metrics import accuracy_score, precision_score, recall_score\n",
        "import torch\n",
        "import pandas as pd\n",
        "\n",
        "tokenizer = AutoTokenizer.from_pretrained(\"kauffinger/xlm-roberta-base-finetuned-enron\")\n",
        "model = AutoModelForSequenceClassification.from_pretrained(\"kauffinger/xlm-roberta-base-finetuned-enron\")\n",
        "\n",
        "test_data = pd.read_csv('Bert_Test_Subset.csv')\n",
        "\n",
        "y_true = test_data['y_test']\n",
        "\n",
        "inputs = tokenizer(list(test_data['X_test_preprocessed']), return_tensors=\"pt\", padding=True, truncation=True)\n",
        "\n",
        "with torch.no_grad():\n",
        "    outputs = model(**inputs)\n",
        "\n",
        "logits = outputs.logits\n",
        "predictions = torch.argmax(logits, dim=1)\n",
        "y_pred = predictions.tolist()\n",
        "\n",
        "accuracy = accuracy_score(y_true, y_pred)\n",
        "precision = precision_score(y_true, y_pred)\n",
        "recall = recall_score(y_true, y_pred)\n",
        "\n",
        "print(\"Accuracy:\", accuracy)\n",
        "print(\"Precision:\", precision)\n",
        "print(\"Recall:\", recall)\n"
      ],
      "metadata": {
        "colab": {
          "base_uri": "https://localhost:8080/"
        },
        "id": "ty4uiHMAJUqQ",
        "outputId": "0f5de719-b0c3-4810-fca2-e1b76fd3bb7a"
      },
      "execution_count": null,
      "outputs": [
        {
          "output_type": "stream",
          "name": "stdout",
          "text": [
            "Accuracy: 0.8131313131313131\n",
            "Precision: 0.3029045643153527\n",
            "Recall: 0.8111111111111111\n"
          ]
        }
      ]
    },
    {
      "cell_type": "code",
      "source": [
        "test_data = pd.read_csv('Bert_Test_Subset.csv')\n",
        "test_data['y_test']"
      ],
      "metadata": {
        "colab": {
          "base_uri": "https://localhost:8080/"
        },
        "id": "3XNg8cCYdQDf",
        "outputId": "65f40927-ec34-4e19-8420-24a10446f114"
      },
      "execution_count": null,
      "outputs": [
        {
          "output_type": "execute_result",
          "data": {
            "text/plain": [
              "0      1\n",
              "1      0\n",
              "2      1\n",
              "3      0\n",
              "4      0\n",
              "      ..\n",
              "985    0\n",
              "986    0\n",
              "987    0\n",
              "988    0\n",
              "989    0\n",
              "Name: y_test, Length: 990, dtype: int64"
            ]
          },
          "metadata": {},
          "execution_count": 6
        }
      ]
    }
  ],
  "metadata": {
    "accelerator": "TPU",
    "colab": {
      "gpuType": "V28",
      "provenance": []
    },
    "kernelspec": {
      "display_name": "Python 3",
      "name": "python3"
    },
    "language_info": {
      "name": "python"
    }
  },
  "nbformat": 4,
  "nbformat_minor": 0
}